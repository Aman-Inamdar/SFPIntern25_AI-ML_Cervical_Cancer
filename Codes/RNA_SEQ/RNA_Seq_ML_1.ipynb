{
 "cells": [
  {
   "cell_type": "code",
   "execution_count": 1,
   "id": "47f46552",
   "metadata": {},
   "outputs": [],
   "source": [
    "import pandas as pd \n",
    "import numpy as np \n",
    "import matplotlib.pyplot as plt\n",
    "import seaborn as sns\n",
    "from sklearn.decomposition import PCA\n",
    "from sklearn.preprocessing import StandardScaler\n",
    "from sklearn.model_selection import train_test_split, GridSearchCV, StratifiedKFold\n",
    "from sklearn.ensemble import RandomForestClassifier\n",
    "from sklearn.linear_model import LogisticRegression\n",
    "from sklearn.svm import SVC\n",
    "from sklearn.pipeline import Pipeline\n",
    "from sklearn.feature_selection import SelectKBest, f_classif\n",
    "from sklearn.metrics import confusion_matrix, roc_curve, precision_recall_curve, auc\n",
    "from sklearn.metrics import accuracy_score, classification_report, f1_score\n",
    "from xgboost import XGBClassifier"
   ]
  },
  {
   "cell_type": "code",
   "execution_count": 2,
   "id": "ff58f790",
   "metadata": {},
   "outputs": [
    {
     "data": {
      "text/html": [
       "<div>\n",
       "<style scoped>\n",
       "    .dataframe tbody tr th:only-of-type {\n",
       "        vertical-align: middle;\n",
       "    }\n",
       "\n",
       "    .dataframe tbody tr th {\n",
       "        vertical-align: top;\n",
       "    }\n",
       "\n",
       "    .dataframe thead th {\n",
       "        text-align: right;\n",
       "    }\n",
       "</style>\n",
       "<table border=\"1\" class=\"dataframe\">\n",
       "  <thead>\n",
       "    <tr style=\"text-align: right;\">\n",
       "      <th></th>\n",
       "      <th>Unnamed: 0</th>\n",
       "      <th>LINC01972</th>\n",
       "      <th>GSTM2</th>\n",
       "      <th>DPEP2</th>\n",
       "      <th>VPS29</th>\n",
       "      <th>MIR3654</th>\n",
       "      <th>SORD</th>\n",
       "      <th>RRBP1</th>\n",
       "      <th>SLC25A43</th>\n",
       "      <th>MIR3615</th>\n",
       "      <th>...</th>\n",
       "      <th>ADORA2A</th>\n",
       "      <th>IL36RN</th>\n",
       "      <th>TPD52</th>\n",
       "      <th>NECTIN4.AS1</th>\n",
       "      <th>KLC1</th>\n",
       "      <th>ZNF784</th>\n",
       "      <th>BRF1</th>\n",
       "      <th>TAF1</th>\n",
       "      <th>MIR8078</th>\n",
       "      <th>Label</th>\n",
       "    </tr>\n",
       "  </thead>\n",
       "  <tbody>\n",
       "    <tr>\n",
       "      <th>0</th>\n",
       "      <td>0</td>\n",
       "      <td>0.0</td>\n",
       "      <td>1.360425</td>\n",
       "      <td>0.331361</td>\n",
       "      <td>6.444548</td>\n",
       "      <td>0.0</td>\n",
       "      <td>4.137351</td>\n",
       "      <td>7.007994</td>\n",
       "      <td>5.804019</td>\n",
       "      <td>0.0</td>\n",
       "      <td>...</td>\n",
       "      <td>0.305312</td>\n",
       "      <td>0.345053</td>\n",
       "      <td>5.913141</td>\n",
       "      <td>0.563678</td>\n",
       "      <td>2.803097</td>\n",
       "      <td>5.238381</td>\n",
       "      <td>4.577846</td>\n",
       "      <td>5.437249</td>\n",
       "      <td>0.706995</td>\n",
       "      <td>1</td>\n",
       "    </tr>\n",
       "  </tbody>\n",
       "</table>\n",
       "<p>1 rows × 26620 columns</p>\n",
       "</div>"
      ],
      "text/plain": [
       "   Unnamed: 0  LINC01972     GSTM2     DPEP2     VPS29  MIR3654      SORD  \\\n",
       "0           0        0.0  1.360425  0.331361  6.444548      0.0  4.137351   \n",
       "\n",
       "      RRBP1  SLC25A43  MIR3615  ...   ADORA2A    IL36RN     TPD52  \\\n",
       "0  7.007994  5.804019      0.0  ...  0.305312  0.345053  5.913141   \n",
       "\n",
       "   NECTIN4.AS1      KLC1    ZNF784      BRF1      TAF1   MIR8078  Label  \n",
       "0     0.563678  2.803097  5.238381  4.577846  5.437249  0.706995      1  \n",
       "\n",
       "[1 rows x 26620 columns]"
      ]
     },
     "execution_count": 2,
     "metadata": {},
     "output_type": "execute_result"
    }
   ],
   "source": [
    "df=pd.read_csv(\"Final_Dataset_Genes.csv\")\n",
    "df.head(1)"
   ]
  },
  {
   "cell_type": "code",
   "execution_count": 3,
   "id": "d8a155a6",
   "metadata": {},
   "outputs": [],
   "source": [
    "df.drop(\"Unnamed: 0\",axis=1,inplace=True)"
   ]
  },
  {
   "cell_type": "code",
   "execution_count": 4,
   "id": "fdaa0aab",
   "metadata": {},
   "outputs": [],
   "source": [
    "# Separate label and feature columns\n",
    "y = df['Label']\n",
    "X = df.drop(columns=['Label'])"
   ]
  },
  {
   "cell_type": "code",
   "execution_count": 7,
   "id": "9b6a0c75",
   "metadata": {},
   "outputs": [],
   "source": [
    "df_gene_outliers=pd.read_csv(\"Odd_Genes/Strictly_Exclusive_Gene_Status_All.csv\")\n",
    "l1=list(df_gene_outliers[\"Gene\"])"
   ]
  },
  {
   "cell_type": "code",
   "execution_count": 21,
   "id": "d0d6df6e",
   "metadata": {},
   "outputs": [],
   "source": [
    "# Removing Outlier Genes\n",
    "Outliers=[\"TREX1\",\n",
    "\"ADIRF\",\n",
    "\"TNFRSF6B\",\n",
    "\"NOTCH2NLB\",\n",
    "\"GP1BB\",\n",
    "\"SPDYE11\",\n",
    "\"ZNF593\",\n",
    "\"SPDYE8\",\n",
    "\"DND1\",\n",
    "\"SPDYE14\",\n",
    "\"RSC1A1\",\n",
    "\"CIDEB\"]\n"
   ]
  },
  {
   "cell_type": "code",
   "execution_count": 6,
   "id": "8ab0094d",
   "metadata": {},
   "outputs": [],
   "source": [
    "df_1=pd.read_csv(\"Regulatory_Results/regula_required.csv\")\n",
    "df_1.drop(\"Unnamed: 0\",axis=1,inplace=True)"
   ]
  },
  {
   "cell_type": "code",
   "execution_count": 11,
   "id": "7daed053",
   "metadata": {},
   "outputs": [],
   "source": [
    "df_1.drop(\"Label\",axis=1,inplace=True)"
   ]
  },
  {
   "cell_type": "code",
   "execution_count": 11,
   "id": "448ad9f0",
   "metadata": {},
   "outputs": [],
   "source": [
    "X.drop(l1,axis=1,inplace=True)"
   ]
  },
  {
   "cell_type": "code",
   "execution_count": 32,
   "id": "4a2fc244",
   "metadata": {},
   "outputs": [],
   "source": [
    "X=X[list(df_1.columns)]"
   ]
  },
  {
   "cell_type": "code",
   "execution_count": 35,
   "id": "60fd6cd6",
   "metadata": {},
   "outputs": [],
   "source": [
    "X.drop(Outliers,axis=1,inplace=True)"
   ]
  },
  {
   "cell_type": "code",
   "execution_count": null,
   "id": "35dee8c2",
   "metadata": {},
   "outputs": [],
   "source": []
  },
  {
   "cell_type": "markdown",
   "id": "eecffec8",
   "metadata": {},
   "source": [
    "# PCA"
   ]
  },
  {
   "cell_type": "code",
   "execution_count": 13,
   "id": "979783a9",
   "metadata": {},
   "outputs": [],
   "source": [
    "#applying the pca\n",
    "std_scaler=StandardScaler()\n",
    "X_scaled=std_scaler.fit_transform(X)\n",
    "\n",
    "# Keeping all components initially\n",
    "pca = PCA()\n",
    "pca_components = pca.fit_transform(X_scaled)\n",
    "\n",
    "# Explained variance\n",
    "explained_variance = pca.explained_variance_ratio_ #explained variance ratio\n",
    "cumulative_variance = np.cumsum(explained_variance)  #cummulative explained variance"
   ]
  },
  {
   "cell_type": "code",
   "execution_count": 14,
   "id": "d70723d9",
   "metadata": {},
   "outputs": [
    {
     "data": {
      "image/png": "[encoded data removed]",
      "text/plain": [
       "<Figure size 1000x600 with 1 Axes>"
      ]
     },
     "metadata": {},
     "output_type": "display_data"
    }
   ],
   "source": [
    "#scree plot for the explained variance ratio and cummulative explained varinace ratio \n",
    "\n",
    "plt.figure(figsize=(10, 6))\n",
    "plt.plot(range(1, len(explained_variance)+1), cumulative_variance, marker='o', linestyle='--')\n",
    "plt.title('Cumulative Explained Variance by PCA Components')\n",
    "plt.xlabel('Number of Components')\n",
    "plt.ylabel('Cumulative Explained Variance')\n",
    "plt.grid(True)\n",
    "plt.axhline(y=0.50, color='r', linestyle='--', label='50% Variance')\n",
    "plt.axhline(y=0.90, color='y', linestyle='--', label='90% Variance')\n",
    "plt.legend()\n",
    "plt.show()"
   ]
  },
  {
   "cell_type": "code",
   "execution_count": 15,
   "id": "f4d69937",
   "metadata": {},
   "outputs": [
    {
     "data": {
      "application/vnd.plotly.v1+json": {
       "config": {
        "plotlyServerURL": "https://plot.ly"
       },
       "data": [
        {
         "mode": "lines+markers",
         "name": "Cumulative Explained Variance",
         "type": "scatter",
         "x": [
          1,
          2,
          3,
          4,
          5,
          6,
          7,
          8,
          9,
          10,
          11,
          12,
          13,
          14,
          15,
          16,
          17,
          18,
          19,
          20,
          21,
          22,
          23,
          24,
          25,
          26,
          27,
          28,
          29,
          30,
          31,
          32,
          33,
          34,
          35,
          36,
          37,
          38,
          39,
          40,
          41,
          42,
          43,
          44,
          45,
          46,
          47,
          48,
          49,
          50,
          51,
          52,
          53,
          54,
          55,
          56,
          57,
          58,
          59,
          60,
          61,
          62,
          63,
          64,
          65,
          66,
          67,
          68,
          69,
          70,
          71,
          72,
          73,
          74,
          75,
          76,
          77,
          78,
          79,
          80,
          81,
          82,
          83,
          84,
          85,
          86,
          87,
          88,
          89,
          90,
          91,
          92,
          93,
          94,
          95,
          96,
          97,
          98,
          99,
          100,
          101,
          102,
          103,
          104,
          105,
          106,
          107,
          108,
          109,
          110,
          111,
          112,
          113,
          114,
          115,
          116,
          117,
          118,
          119,
          120,
          121,
          122,
          123,
          124,
          125,
          126,
          127,
          128,
          129,
          130,
          131,
          132,
          133,
          134,
          135,
          136,
          137,
          138,
          139,
          140,
          141,
          142,
          143,
          144,
          145,
          146,
          147,
          148,
          149,
          150,
          151,
          152,
          153,
          154,
          155,
          156,
          157,
          158,
          159,
          160,
          161,
          162,
          163,
          164,
          165,
          166,
          167,
          168,
          169,
          170,
          171,
          172,
          173,
          174,
          175,
          176,
          177,
          178,
          179,
          180,
          181,
          182,
          183,
          184,
          185,
          186,
          187,
          188,
          189,
          190,
          191,
          192,
          193,
          194,
          195,
          196,
          197,
          198,
          199,
          200,
          201,
          202,
          203,
          204,
          205,
          206,
          207,
          208,
          209,
          210,
          211,
          212,
          213,
          214,
          215,
          216,
          217,
          218,
          219,
          220,
          221,
          222,
          223,
          224,
          225,
          226,
          227,
          228,
          229,
          230,
          231,
          232,
          233,
          234,
          235,
          236,
          237,
          238,
          239,
          240,
          241,
          242,
          243,
          244,
          245,
          246,
          247,
          248,
          249,
          250,
          251,
          252,
          253,
          254,
          255,
          256,
          257,
          258,
          259,
          260,
          261,
          262,
          263,
          264,
          265,
          266,
          267,
          268,
          269,
          270,
          271,
          272,
          273,
          274,
          275,
          276,
          277,
          278,
          279,
          280,
          281,
          282,
          283,
          284,
          285,
          286,
          287,
          288,
          289,
          290,
          291,
          292,
          293,
          294,
          295,
          296,
          297,
          298,
          299,
          300,
          301,
          302,
          303,
          304,
          305,
          306,
          307,
          308,
          309,
          310,
          311,
          312,
          313,
          314,
          315,
          316,
          317,
          318,
          319,
          320,
          321,
          322,
          323,
          324,
          325,
          326,
          327,
          328
         ],
         "y": [
          0.12088578533251255,
          0.1752241509109822,
          0.212378132682029,
          0.24480760655315023,
          0.27431916038260545,
          0.30128851345964053,
          0.3245874444760902,
          0.3423045457789178,
          0.35725391164217357,
          0.36993323668773564,
          0.3813851184312192,
          0.39204829917987766,
          0.4019819706174717,
          0.41155090051311266,
          0.42071013811305735,
          0.42964910710181853,
          0.4383222457462715,
          0.44667209757028215,
          0.4541825595437396,
          0.4614585566503133,
          0.4683821802364764,
          0.4747323680962099,
          0.48104481766830864,
          0.4870614844851545,
          0.49292875858646396,
          0.4987235213088966,
          0.504427263713295,
          0.5099854491865848,
          0.5153652017817394,
          0.5206418882118079,
          0.5259044315154533,
          0.5310708595461927,
          0.5360667778214384,
          0.5409724286023003,
          0.5457576441351892,
          0.5504703827043324,
          0.5551120531184252,
          0.5596509510038697,
          0.5641529862474309,
          0.5685546996022418,
          0.5729337381533594,
          0.5772841998370112,
          0.5814905202230191,
          0.5856442049429232,
          0.5897539668783143,
          0.5937820751796808,
          0.5977555577652054,
          0.6016823494946112,
          0.6055288921970707,
          0.609339205146101,
          0.613089529397024,
          0.6168289869173953,
          0.6205121382277071,
          0.6241159364237278,
          0.6276336677263199,
          0.6311249182115618,
          0.6345469597659902,
          0.637922390545825,
          0.6412266877607826,
          0.6445052238286995,
          0.6477611372768849,
          0.6509906691330339,
          0.6541832269023503,
          0.657301402279746,
          0.6603939233306785,
          0.6634593795636087,
          0.6664706631649517,
          0.6694404795070698,
          0.6723798370399329,
          0.6752932757140653,
          0.6781854873159646,
          0.6810162814017285,
          0.6838129729294758,
          0.6865906702361271,
          0.6893508689432327,
          0.6920624909865453,
          0.6947537797361985,
          0.6974242419474792,
          0.700035608053454,
          0.7026342781068002,
          0.705181038172808,
          0.7076936600455986,
          0.7101817134302373,
          0.7126149344064096,
          0.7150431035330345,
          0.7174578274925425,
          0.7198348811803151,
          0.7221535213591708,
          0.7244590174275336,
          0.7267549897063512,
          0.7290363406383933,
          0.7313068493572014,
          0.7335576367429705,
          0.7357958721224062,
          0.7379877396708453,
          0.7401726918703742,
          0.742337519740878,
          0.7444596272808075,
          0.7465683375832125,
          0.7486255950942556,
          0.7506690552061619,
          0.752707848623782,
          0.7547234113966538,
          0.7567196549980795,
          0.7587054016700956,
          0.7606866893764138,
          0.7626329576762443,
          0.7645687057872278,
          0.7665030182359521,
          0.7684088757451661,
          0.7703022857209714,
          0.7721837122527708,
          0.7740457872070974,
          0.7759017450143678,
          0.777751703207123,
          0.7795866107878922,
          0.7814143929261447,
          0.7832200774843429,
          0.785014150903844,
          0.7868028999142485,
          0.7885650370325312,
          0.790312730463508,
          0.7920515509380791,
          0.7937841242819533,
          0.7954902063730468,
          0.7971916916039737,
          0.7988786862347403,
          0.8005538676920667,
          0.8022186686639732,
          0.8038691624780648,
          0.8055070103339378,
          0.8071342150825038,
          0.8087546007131495,
          0.8103610091483395,
          0.8119491597663208,
          0.8135183306899841,
          0.8150812539198677,
          0.8166298207286723,
          0.8181782755561351,
          0.8197118464555789,
          0.8212425748621537,
          0.8227587690148094,
          0.8242703029714452,
          0.8257694872454727,
          0.8272545713314114,
          0.8287278749787512,
          0.8301963132301179,
          0.831655955123553,
          0.8331117163548268,
          0.8345590332872584,
          0.8359927605181672,
          0.8374173367842161,
          0.8388304057724308,
          0.8402407575631123,
          0.8416373174630626,
          0.8430245443661573,
          0.8444068767055074,
          0.8457800482955063,
          0.847146016043668,
          0.8484981568751381,
          0.8498473760272675,
          0.851190098530636,
          0.8525311480002641,
          0.8538589647818805,
          0.8551793241044784,
          0.8564946994255911,
          0.8578091325022856,
          0.8591111438805253,
          0.8604111430618077,
          0.8617060798321114,
          0.862983473970135,
          0.8642557722179687,
          0.865524902853994,
          0.8667860949551466,
          0.8680451293902692,
          0.869299605317435,
          0.8705468645878751,
          0.8717794846398912,
          0.8730092001710499,
          0.8742358707924505,
          0.8754585446463018,
          0.8766656945878112,
          0.877869514965133,
          0.8790630148113234,
          0.8802508628831166,
          0.8814355999178929,
          0.882614296625973,
          0.8837863499405676,
          0.8849558684805711,
          0.886118700851438,
          0.8872750879400608,
          0.8884259053357162,
          0.8895700689866444,
          0.8907094120068091,
          0.8918425093223433,
          0.8929749426928602,
          0.894103736127952,
          0.8952207648177303,
          0.8963292930061866,
          0.8974342754141322,
          0.8985332327643346,
          0.8996269361993934,
          0.9007149598692895,
          0.9017997924745488,
          0.9028815486163289,
          0.9039594791681402,
          0.9050257869440861,
          0.9060893027936472,
          0.9071458495484058,
          0.908196652923339,
          0.9092435268639719,
          0.9102873186484214,
          0.9113294981189787,
          0.9123682503810825,
          0.9134007376033602,
          0.9144292593591956,
          0.9154513730947207,
          0.9164599474187392,
          0.9174657480030634,
          0.9184697875731319,
          0.9194684510867005,
          0.920463280799339,
          0.9214565221669088,
          0.9224457780822513,
          0.9234296379543842,
          0.9244036276513227,
          0.9253754810337614,
          0.9263396281323891,
          0.9272981366854999,
          0.9282562023679016,
          0.9292078143915026,
          0.930155197674481,
          0.9310964136046411,
          0.9320344793037119,
          0.9329711688833346,
          0.9339005784827815,
          0.9348266882525044,
          0.9357483170346083,
          0.9366666033951787,
          0.9375805076668741,
          0.9384897869769816,
          0.9393931466762186,
          0.9402928950112164,
          0.9411909206466834,
          0.9420782482949823,
          0.9429622593011943,
          0.9438416604871839,
          0.944714412355531,
          0.9455837067479355,
          0.946447690802865,
          0.9473066533349381,
          0.948161255756428,
          0.9490112959868088,
          0.9498564536976748,
          0.9506993512788615,
          0.951535596489312,
          0.9523683076586692,
          0.9531979609592006,
          0.9540237862285355,
          0.9548471334449079,
          0.9556667316472515,
          0.956483527049423,
          0.9572997734030797,
          0.9581091373347391,
          0.9589123159472271,
          0.959712031033989,
          0.9605080489222302,
          0.961300591315226,
          0.9620899192582633,
          0.9628708044611521,
          0.9636479908227812,
          0.9644217389017196,
          0.9651881478582627,
          0.9659517721927915,
          0.9667132658916816,
          0.9674704713904265,
          0.9682253667200121,
          0.9689751933105977,
          0.9697168420078458,
          0.9704535041757117,
          0.9711871199848838,
          0.9719186360159192,
          0.9726486666439245,
          0.973372309597671,
          0.974094334119733,
          0.9748092497051035,
          0.9755226451924344,
          0.9762322644604392,
          0.976938091373708,
          0.9776421698977769,
          0.9783389239000996,
          0.9790333214013132,
          0.9797259319243654,
          0.9804126026360733,
          0.9810959534748447,
          0.9817755137792175,
          0.9824539819246397,
          0.9831232515906625,
          0.9837879015218405,
          0.984450265779952,
          0.9851050482735791,
          0.985757850523218,
          0.9864058174062897,
          0.9870443329029189,
          0.9876825201922941,
          0.9883166275769504,
          0.9889459191340438,
          0.9895712073810351,
          0.9901922357517797,
          0.9908065224195447,
          0.9914098807779917,
          0.9920096173867594,
          0.9926010184906108,
          0.9931913184349737,
          0.9937754142006964,
          0.9943551767237526,
          0.9949290608127905,
          0.9955004499272837,
          0.9960632512505231,
          0.9966226836479588,
          0.9971672735234478,
          0.9977046781575046,
          0.9982301264236977,
          0.9987283030602524,
          0.9992088411234283,
          0.9996739475504652,
          1,
          1
         ]
        },
        {
         "mode": "lines+markers",
         "name": "Individual Explained Variance",
         "type": "scatter",
         "x": [
          1,
          2,
          3,
          4,
          5,
          6,
          7,
          8,
          9,
          10,
          11,
          12,
          13,
          14,
          15,
          16,
          17,
          18,
          19,
          20,
          21,
          22,
          23,
          24,
          25,
          26,
          27,
          28,
          29,
          30,
          31,
          32,
          33,
          34,
          35,
          36,
          37,
          38,
          39,
          40,
          41,
          42,
          43,
          44,
          45,
          46,
          47,
          48,
          49,
          50,
          51,
          52,
          53,
          54,
          55,
          56,
          57,
          58,
          59,
          60,
          61,
          62,
          63,
          64,
          65,
          66,
          67,
          68,
          69,
          70,
          71,
          72,
          73,
          74,
          75,
          76,
          77,
          78,
          79,
          80,
          81,
          82,
          83,
          84,
          85,
          86,
          87,
          88,
          89,
          90,
          91,
          92,
          93,
          94,
          95,
          96,
          97,
          98,
          99,
          100,
          101,
          102,
          103,
          104,
          105,
          106,
          107,
          108,
          109,
          110,
          111,
          112,
          113,
          114,
          115,
          116,
          117,
          118,
          119,
          120,
          121,
          122,
          123,
          124,
          125,
          126,
          127,
          128,
          129,
          130,
          131,
          132,
          133,
          134,
          135,
          136,
          137,
          138,
          139,
          140,
          141,
          142,
          143,
          144,
          145,
          146,
          147,
          148,
          149,
          150,
          151,
          152,
          153,
          154,
          155,
          156,
          157,
          158,
          159,
          160,
          161,
          162,
          163,
          164,
          165,
          166,
          167,
          168,
          169,
          170,
          171,
          172,
          173,
          174,
          175,
          176,
          177,
          178,
          179,
          180,
          181,
          182,
          183,
          184,
          185,
          186,
          187,
          188,
          189,
          190,
          191,
          192,
          193,
          194,
          195,
          196,
          197,
          198,
          199,
          200,
          201,
          202,
          203,
          204,
          205,
          206,
          207,
          208,
          209,
          210,
          211,
          212,
          213,
          214,
          215,
          216,
          217,
          218,
          219,
          220,
          221,
          222,
          223,
          224,
          225,
          226,
          227,
          228,
          229,
          230,
          231,
          232,
          233,
          234,
          235,
          236,
          237,
          238,
          239,
          240,
          241,
          242,
          243,
          244,
          245,
          246,
          247,
          248,
          249,
          250,
          251,
          252,
          253,
          254,
          255,
          256,
          257,
          258,
          259,
          260,
          261,
          262,
          263,
          264,
          265,
          266,
          267,
          268,
          269,
          270,
          271,
          272,
          273,
          274,
          275,
          276,
          277,
          278,
          279,
          280,
          281,
          282,
          283,
          284,
          285,
          286,
          287,
          288,
          289,
          290,
          291,
          292,
          293,
          294,
          295,
          296,
          297,
          298,
          299,
          300,
          301,
          302,
          303,
          304,
          305,
          306,
          307,
          308,
          309,
          310,
          311,
          312,
          313,
          314,
          315,
          316,
          317,
          318,
          319,
          320,
          321,
          322,
          323,
          324,
          325,
          326,
          327,
          328
         ],
         "y": [
          0.12088578533251255,
          0.05433836557846966,
          0.03715398177104681,
          0.03242947387112121,
          0.02951155382945524,
          0.026969353077035074,
          0.023298931016449698,
          0.017717101302827547,
          0.01494936586325577,
          0.01267932504556207,
          0.011451881743483565,
          0.010663180748658446,
          0.009933671437594025,
          0.009568929895640935,
          0.009159237599944666,
          0.008938968988761196,
          0.00867313864445296,
          0.008349851824010667,
          0.007510461973457433,
          0.007275997106573756,
          0.0069236235861630325,
          0.0063501878597334895,
          0.006312449572098731,
          0.006016666816845867,
          0.005867274101309434,
          0.005794762722432623,
          0.0057037424043984465,
          0.0055581854732898025,
          0.005379752595154578,
          0.005276686430068538,
          0.005262543303645381,
          0.005166428030739409,
          0.004995918275245664,
          0.0049056507808619065,
          0.004785215532888928,
          0.00471273856914308,
          0.004641670414092796,
          0.004538897885444616,
          0.004502035243561153,
          0.004401713354810868,
          0.00437903855111752,
          0.004350461683651875,
          0.004206320386007882,
          0.00415368471990417,
          0.004109761935390982,
          0.004028108301366593,
          0.0039734825855244965,
          0.003926791729405805,
          0.0038465427024595156,
          0.003810312949030204,
          0.0037503242509230855,
          0.003739457520371336,
          0.0036831513103118226,
          0.003603798196020687,
          0.003517731302592134,
          0.003491250485241869,
          0.003422041554428404,
          0.0033754307798348504,
          0.0033042972149576184,
          0.003278536067916858,
          0.003255913448185434,
          0.0032295318561490274,
          0.0031925577693163788,
          0.0031181753773956255,
          0.0030925210509325143,
          0.003065456232930222,
          0.0030112836013430843,
          0.0029698163421180623,
          0.0029393575328630944,
          0.0029134386741323987,
          0.0028922116018993355,
          0.002830794085763913,
          0.0027966915277473255,
          0.0027776973066512057,
          0.002760198707105612,
          0.0027116220433125913,
          0.0026912887496531525,
          0.002670462211280736,
          0.0026113661059747454,
          0.0025986700533462723,
          0.002546760066007707,
          0.0025126218727906115,
          0.0024880533846386404,
          0.0024332209761722366,
          0.002428169126624923,
          0.0024147239595080795,
          0.0023770536877726757,
          0.0023186401788555804,
          0.002305496068362804,
          0.0022959722788176594,
          0.002281350932042122,
          0.00227050871880809,
          0.0022507873857690723,
          0.0022382353794356707,
          0.002191867548439141,
          0.002184952199528853,
          0.0021648278705039227,
          0.0021221075399294443,
          0.0021087103024050305,
          0.0020572575110431243,
          0.002043460111906304,
          0.0020387934176201916,
          0.0020155627728717174,
          0.001996243601425717,
          0.001985746672016157,
          0.001981287706318225,
          0.001946268299830456,
          0.001935748110983505,
          0.0019343124487243102,
          0.001905857509214008,
          0.0018934099758052161,
          0.0018814265317995018,
          0.0018620749543265427,
          0.001855957807270417,
          0.0018499581927551106,
          0.0018349075807691652,
          0.001827782138252571,
          0.0018056845581981588,
          0.0017940734195011467,
          0.0017887490104045096,
          0.0017621371182828054,
          0.0017476934309767877,
          0.0017388204745711125,
          0.0017325733438741714,
          0.0017060820910934605,
          0.0017014852309269913,
          0.0016869946307666113,
          0.001675181457326356,
          0.0016648009719064986,
          0.0016504938140916618,
          0.0016378478558729107,
          0.0016272047485659824,
          0.0016203856306456754,
          0.00160640843518995,
          0.0015881506179812347,
          0.0015691709236633487,
          0.0015629232298836366,
          0.0015485668088045272,
          0.0015484548274628037,
          0.0015335708994438874,
          0.0015307284065747121,
          0.001516194152655664,
          0.0015115339566358357,
          0.0014991842740275296,
          0.0014850840859387527,
          0.0014733036473397487,
          0.0014684382513666923,
          0.001459641893435031,
          0.0014557612312739066,
          0.0014473169324316275,
          0.0014337272309086803,
          0.0014245762660489516,
          0.001413068988214677,
          0.0014103517906814782,
          0.0013965598999502492,
          0.001387226903094688,
          0.001382332339350138,
          0.0013731715899989105,
          0.001365967748161666,
          0.0013521408314700971,
          0.0013492191521294284,
          0.0013427225033685116,
          0.0013410494696280437,
          0.0013278167816163857,
          0.0013203593225978567,
          0.001315375321112675,
          0.0013144330766945735,
          0.0013020113782397033,
          0.0012999991812822956,
          0.0012949367703037763,
          0.0012773941380234864,
          0.001272298247833655,
          0.0012691306360252557,
          0.0012611921011526364,
          0.0012590344351226534,
          0.0012544759271657744,
          0.0012472592704401413,
          0.0012326200520161308,
          0.0012297155311587434,
          0.0012266706214005521,
          0.0012226738538512907,
          0.001207149941509375,
          0.001203820377321781,
          0.0011934998461904922,
          0.0011878480717931663,
          0.0011847370347762352,
          0.001178696708080087,
          0.0011720533145945296,
          0.0011695185400034964,
          0.0011628323708669278,
          0.0011563870886229098,
          0.0011508173956554233,
          0.0011441636509281828,
          0.001139343020164764,
          0.0011330973155342877,
          0.001132433370516795,
          0.001128793435091887,
          0.001117028689778277,
          0.0011085281884562522,
          0.001104982407945668,
          0.0010989573502023762,
          0.0010937034350587541,
          0.0010880236698960844,
          0.001084832605259317,
          0.001081756141780081,
          0.0010779305518113817,
          0.001066307775945834,
          0.0010635158495611405,
          0.0010565467547586167,
          0.0010508033749331426,
          0.0010468739406329904,
          0.0010437917844494586,
          0.001042179470557332,
          0.0010387522621038267,
          0.0010324872222776857,
          0.001028521755835418,
          0.0010221137355251042,
          0.0010085743240184492,
          0.001005800584324168,
          0.0010040395700685798,
          0.0009986635135686105,
          0.0009948297126384888,
          0.000993241367569745,
          0.0009892559153424788,
          0.0009838598721329098,
          0.0009739896969385014,
          0.00097185338243877,
          0.0009641470986277046,
          0.0009585085531107377,
          0.0009580656824018049,
          0.0009516120236009568,
          0.0009473832829783713,
          0.000941215930160131,
          0.0009380656990707737,
          0.0009366895796227888,
          0.0009294095994468185,
          0.0009261097697228123,
          0.0009216287821038657,
          0.0009182863605705069,
          0.0009139042716954003,
          0.0009092793101075237,
          0.0009033596992370927,
          0.0008997483349977815,
          0.0008980256354670829,
          0.0008873276482989084,
          0.0008840110062119893,
          0.0008794011859895597,
          0.0008727518683471276,
          0.0008692943924044621,
          0.0008639840549295361,
          0.0008589625320732191,
          0.0008546024214898702,
          0.0008500402303807897,
          0.0008451577108660196,
          0.0008428975811866664,
          0.0008362452104504771,
          0.0008327111693571823,
          0.0008296533005314627,
          0.000825825269334862,
          0.0008233472163724398,
          0.0008195982023435835,
          0.0008167954021715411,
          0.0008162463536567343,
          0.0008093639316594069,
          0.0008031786124880542,
          0.0007997150867619592,
          0.0007960178882411178,
          0.0007925423929958311,
          0.0007893279430371784,
          0.0007808852028888499,
          0.0007771863616290553,
          0.0007737480789383625,
          0.0007664089565430825,
          0.000763624334528758,
          0.0007614936988900627,
          0.0007572054987449071,
          0.0007548953295856688,
          0.0007498265905855752,
          0.0007416486972481477,
          0.0007366621678659885,
          0.0007336158091720838,
          0.000731516031035344,
          0.0007300306280052341,
          0.0007236429537464456,
          0.0007220245220620053,
          0.0007149155853705028,
          0.0007133954873308444,
          0.0007096192680047994,
          0.000705826913268837,
          0.0007040785240688688,
          0.0006967540023227293,
          0.0006943975012135686,
          0.0006926105230522862,
          0.0006866707117079013,
          0.0006833508387713702,
          0.000679560304372821,
          0.0006784681454222397,
          0.0006692696660228115,
          0.0006646499311779706,
          0.0006623642581115065,
          0.0006547824936271674,
          0.0006528022496388451,
          0.0006479668830717449,
          0.0006385154966291515,
          0.0006381872893752022,
          0.0006341073846563133,
          0.00062929155709349,
          0.0006252882469912546,
          0.0006210283707445765,
          0.0006142866677649956,
          0.0006033583584470006,
          0.0005997366087676808,
          0.0005914011038513346,
          0.0005902999443629046,
          0.0005840957657227418,
          0.0005797625230563017,
          0.0005738840890379333,
          0.0005713891144932165,
          0.0005628013232393424,
          0.0005594323974356848,
          0.0005445898754890094,
          0.0005374046340568322,
          0.0005254482661930521,
          0.0004981766365547626,
          0.0004805380631759038,
          0.0004651064270368642,
          0.0003260524495347673,
          3.6034803750734625e-31
         ]
        }
       ],
       "layout": {
        "annotations": [
         {
          "showarrow": false,
          "text": "90% Cutoff",
          "x": 1,
          "xanchor": "right",
          "xref": "x domain",
          "y": 0.9,
          "yanchor": "bottom",
          "yref": "y"
         }
        ],
        "shapes": [
         {
          "line": {
           "color": "red",
           "dash": "dash"
          },
          "type": "line",
          "x0": 0,
          "x1": 1,
          "xref": "x domain",
          "y0": 0.9,
          "y1": 0.9,
          "yref": "y"
         }
        ],
        "template": {
         "data": {
          "bar": [
           {
            "error_x": {
             "color": "#2a3f5f"
            },
            "error_y": {
             "color": "#2a3f5f"
            },
            "marker": {
             "line": {
              "color": "white",
              "width": 0.5
             },
             "pattern": {
              "fillmode": "overlay",
              "size": 10,
              "solidity": 0.2
             }
            },
            "type": "bar"
           }
          ],
          "barpolar": [
           {
            "marker": {
             "line": {
              "color": "white",
              "width": 0.5
             },
             "pattern": {
              "fillmode": "overlay",
              "size": 10,
              "solidity": 0.2
             }
            },
            "type": "barpolar"
           }
          ],
          "carpet": [
           {
            "aaxis": {
             "endlinecolor": "#2a3f5f",
             "gridcolor": "#C8D4E3",
             "linecolor": "#C8D4E3",
             "minorgridcolor": "#C8D4E3",
             "startlinecolor": "#2a3f5f"
            },
            "baxis": {
             "endlinecolor": "#2a3f5f",
             "gridcolor": "#C8D4E3",
             "linecolor": "#C8D4E3",
             "minorgridcolor": "#C8D4E3",
             "startlinecolor": "#2a3f5f"
            },
            "type": "carpet"
           }
          ],
          "choropleth": [
           {
            "colorbar": {
             "outlinewidth": 0,
             "ticks": ""
            },
            "type": "choropleth"
           }
          ],
          "contour": [
           {
            "colorbar": {
             "outlinewidth": 0,
             "ticks": ""
            },
            "colorscale": [
             [
              0,
              "#0d0887"
             ],
             [
              0.1111111111111111,
              "#46039f"
             ],
             [
              0.2222222222222222,
              "#7201a8"
             ],
             [
              0.3333333333333333,
              "#9c179e"
             ],
             [
              0.4444444444444444,
              "#bd3786"
             ],
             [
              0.5555555555555556,
              "#d8576b"
             ],
             [
              0.6666666666666666,
              "#ed7953"
             ],
             [
              0.7777777777777778,
              "#fb9f3a"
             ],
             [
              0.8888888888888888,
              "#fdca26"
             ],
             [
              1,
              "#f0f921"
             ]
            ],
            "type": "contour"
           }
          ],
          "contourcarpet": [
           {
            "colorbar": {
             "outlinewidth": 0,
             "ticks": ""
            },
            "type": "contourcarpet"
           }
          ],
          "heatmap": [
           {
            "colorbar": {
             "outlinewidth": 0,
             "ticks": ""
            },
            "colorscale": [
             [
              0,
              "#0d0887"
             ],
             [
              0.1111111111111111,
              "#46039f"
             ],
             [
              0.2222222222222222,
              "#7201a8"
             ],
             [
              0.3333333333333333,
              "#9c179e"
             ],
             [
              0.4444444444444444,
              "#bd3786"
             ],
             [
              0.5555555555555556,
              "#d8576b"
             ],
             [
              0.6666666666666666,
              "#ed7953"
             ],
             [
              0.7777777777777778,
              "#fb9f3a"
             ],
             [
              0.8888888888888888,
              "#fdca26"
             ],
             [
              1,
              "#f0f921"
             ]
            ],
            "type": "heatmap"
           }
          ],
          "heatmapgl": [
           {
            "colorbar": {
             "outlinewidth": 0,
             "ticks": ""
            },
            "colorscale": [
             [
              0,
              "#0d0887"
             ],
             [
              0.1111111111111111,
              "#46039f"
             ],
             [
              0.2222222222222222,
              "#7201a8"
             ],
             [
              0.3333333333333333,
              "#9c179e"
             ],
             [
              0.4444444444444444,
              "#bd3786"
             ],
             [
              0.5555555555555556,
              "#d8576b"
             ],
             [
              0.6666666666666666,
              "#ed7953"
             ],
             [
              0.7777777777777778,
              "#fb9f3a"
             ],
             [
              0.8888888888888888,
              "#fdca26"
             ],
             [
              1,
              "#f0f921"
             ]
            ],
            "type": "heatmapgl"
           }
          ],
          "histogram": [
           {
            "marker": {
             "pattern": {
              "fillmode": "overlay",
              "size": 10,
              "solidity": 0.2
             }
            },
            "type": "histogram"
           }
          ],
          "histogram2d": [
           {
            "colorbar": {
             "outlinewidth": 0,
             "ticks": ""
            },
            "colorscale": [
             [
              0,
              "#0d0887"
             ],
             [
              0.1111111111111111,
              "#46039f"
             ],
             [
              0.2222222222222222,
              "#7201a8"
             ],
             [
              0.3333333333333333,
              "#9c179e"
             ],
             [
              0.4444444444444444,
              "#bd3786"
             ],
             [
              0.5555555555555556,
              "#d8576b"
             ],
             [
              0.6666666666666666,
              "#ed7953"
             ],
             [
              0.7777777777777778,
              "#fb9f3a"
             ],
             [
              0.8888888888888888,
              "#fdca26"
             ],
             [
              1,
              "#f0f921"
             ]
            ],
            "type": "histogram2d"
           }
          ],
          "histogram2dcontour": [
           {
            "colorbar": {
             "outlinewidth": 0,
             "ticks": ""
            },
            "colorscale": [
             [
              0,
              "#0d0887"
             ],
             [
              0.1111111111111111,
              "#46039f"
             ],
             [
              0.2222222222222222,
              "#7201a8"
             ],
             [
              0.3333333333333333,
              "#9c179e"
             ],
             [
              0.4444444444444444,
              "#bd3786"
             ],
             [
              0.5555555555555556,
              "#d8576b"
             ],
             [
              0.6666666666666666,
              "#ed7953"
             ],
             [
              0.7777777777777778,
              "#fb9f3a"
             ],
             [
              0.8888888888888888,
              "#fdca26"
             ],
             [
              1,
              "#f0f921"
             ]
            ],
            "type": "histogram2dcontour"
           }
          ],
          "mesh3d": [
           {
            "colorbar": {
             "outlinewidth": 0,
             "ticks": ""
            },
            "type": "mesh3d"
           }
          ],
          "parcoords": [
           {
            "line": {
             "colorbar": {
              "outlinewidth": 0,
              "ticks": ""
             }
            },
            "type": "parcoords"
           }
          ],
          "pie": [
           {
            "automargin": true,
            "type": "pie"
           }
          ],
          "scatter": [
           {
            "fillpattern": {
             "fillmode": "overlay",
             "size": 10,
             "solidity": 0.2
            },
            "type": "scatter"
           }
          ],
          "scatter3d": [
           {
            "line": {
             "colorbar": {
              "outlinewidth": 0,
              "ticks": ""
             }
            },
            "marker": {
             "colorbar": {
              "outlinewidth": 0,
              "ticks": ""
             }
            },
            "type": "scatter3d"
           }
          ],
          "scattercarpet": [
           {
            "marker": {
             "colorbar": {
              "outlinewidth": 0,
              "ticks": ""
             }
            },
            "type": "scattercarpet"
           }
          ],
          "scattergeo": [
           {
            "marker": {
             "colorbar": {
              "outlinewidth": 0,
              "ticks": ""
             }
            },
            "type": "scattergeo"
           }
          ],
          "scattergl": [
           {
            "marker": {
             "colorbar": {
              "outlinewidth": 0,
              "ticks": ""
             }
            },
            "type": "scattergl"
           }
          ],
          "scattermapbox": [
           {
            "marker": {
             "colorbar": {
              "outlinewidth": 0,
              "ticks": ""
             }
            },
            "type": "scattermapbox"
           }
          ],
          "scatterpolar": [
           {
            "marker": {
             "colorbar": {
              "outlinewidth": 0,
              "ticks": ""
             }
            },
            "type": "scatterpolar"
           }
          ],
          "scatterpolargl": [
           {
            "marker": {
             "colorbar": {
              "outlinewidth": 0,
              "ticks": ""
             }
            },
            "type": "scatterpolargl"
           }
          ],
          "scatterternary": [
           {
            "marker": {
             "colorbar": {
              "outlinewidth": 0,
              "ticks": ""
             }
            },
            "type": "scatterternary"
           }
          ],
          "surface": [
           {
            "colorbar": {
             "outlinewidth": 0,
             "ticks": ""
            },
            "colorscale": [
             [
              0,
              "#0d0887"
             ],
             [
              0.1111111111111111,
              "#46039f"
             ],
             [
              0.2222222222222222,
              "#7201a8"
             ],
             [
              0.3333333333333333,
              "#9c179e"
             ],
             [
              0.4444444444444444,
              "#bd3786"
             ],
             [
              0.5555555555555556,
              "#d8576b"
             ],
             [
              0.6666666666666666,
              "#ed7953"
             ],
             [
              0.7777777777777778,
              "#fb9f3a"
             ],
             [
              0.8888888888888888,
              "#fdca26"
             ],
             [
              1,
              "#f0f921"
             ]
            ],
            "type": "surface"
           }
          ],
          "table": [
           {
            "cells": {
             "fill": {
              "color": "#EBF0F8"
             },
             "line": {
              "color": "white"
             }
            },
            "header": {
             "fill": {
              "color": "#C8D4E3"
             },
             "line": {
              "color": "white"
             }
            },
            "type": "table"
           }
          ]
         },
         "layout": {
          "annotationdefaults": {
           "arrowcolor": "#2a3f5f",
           "arrowhead": 0,
           "arrowwidth": 1
          },
          "autotypenumbers": "strict",
          "coloraxis": {
           "colorbar": {
            "outlinewidth": 0,
            "ticks": ""
           }
          },
          "colorscale": {
           "diverging": [
            [
             0,
             "#8e0152"
            ],
            [
             0.1,
             "#c51b7d"
            ],
            [
             0.2,
             "#de77ae"
            ],
            [
             0.3,
             "#f1b6da"
            ],
            [
             0.4,
             "#fde0ef"
            ],
            [
             0.5,
             "#f7f7f7"
            ],
            [
             0.6,
             "#e6f5d0"
            ],
            [
             0.7,
             "#b8e186"
            ],
            [
             0.8,
             "#7fbc41"
            ],
            [
             0.9,
             "#4d9221"
            ],
            [
             1,
             "#276419"
            ]
           ],
           "sequential": [
            [
             0,
             "#0d0887"
            ],
            [
             0.1111111111111111,
             "#46039f"
            ],
            [
             0.2222222222222222,
             "#7201a8"
            ],
            [
             0.3333333333333333,
             "#9c179e"
            ],
            [
             0.4444444444444444,
             "#bd3786"
            ],
            [
             0.5555555555555556,
             "#d8576b"
            ],
            [
             0.6666666666666666,
             "#ed7953"
            ],
            [
             0.7777777777777778,
             "#fb9f3a"
            ],
            [
             0.8888888888888888,
             "#fdca26"
            ],
            [
             1,
             "#f0f921"
            ]
           ],
           "sequentialminus": [
            [
             0,
             "#0d0887"
            ],
            [
             0.1111111111111111,
             "#46039f"
            ],
            [
             0.2222222222222222,
             "#7201a8"
            ],
            [
             0.3333333333333333,
             "#9c179e"
            ],
            [
             0.4444444444444444,
             "#bd3786"
            ],
            [
             0.5555555555555556,
             "#d8576b"
            ],
            [
             0.6666666666666666,
             "#ed7953"
            ],
            [
             0.7777777777777778,
             "#fb9f3a"
            ],
            [
             0.8888888888888888,
             "#fdca26"
            ],
            [
             1,
             "#f0f921"
            ]
           ]
          },
          "colorway": [
           "#636efa",
           "#EF553B",
           "#00cc96",
           "#ab63fa",
           "#FFA15A",
           "#19d3f3",
           "#FF6692",
           "#B6E880",
           "#FF97FF",
           "#FECB52"
          ],
          "font": {
           "color": "#2a3f5f"
          },
          "geo": {
           "bgcolor": "white",
           "lakecolor": "white",
           "landcolor": "white",
           "showlakes": true,
           "showland": true,
           "subunitcolor": "#C8D4E3"
          },
          "hoverlabel": {
           "align": "left"
          },
          "hovermode": "closest",
          "mapbox": {
           "style": "light"
          },
          "paper_bgcolor": "white",
          "plot_bgcolor": "white",
          "polar": {
           "angularaxis": {
            "gridcolor": "#EBF0F8",
            "linecolor": "#EBF0F8",
            "ticks": ""
           },
           "bgcolor": "white",
           "radialaxis": {
            "gridcolor": "#EBF0F8",
            "linecolor": "#EBF0F8",
            "ticks": ""
           }
          },
          "scene": {
           "xaxis": {
            "backgroundcolor": "white",
            "gridcolor": "#DFE8F3",
            "gridwidth": 2,
            "linecolor": "#EBF0F8",
            "showbackground": true,
            "ticks": "",
            "zerolinecolor": "#EBF0F8"
           },
           "yaxis": {
            "backgroundcolor": "white",
            "gridcolor": "#DFE8F3",
            "gridwidth": 2,
            "linecolor": "#EBF0F8",
            "showbackground": true,
            "ticks": "",
            "zerolinecolor": "#EBF0F8"
           },
           "zaxis": {
            "backgroundcolor": "white",
            "gridcolor": "#DFE8F3",
            "gridwidth": 2,
            "linecolor": "#EBF0F8",
            "showbackground": true,
            "ticks": "",
            "zerolinecolor": "#EBF0F8"
           }
          },
          "shapedefaults": {
           "line": {
            "color": "#2a3f5f"
           }
          },
          "ternary": {
           "aaxis": {
            "gridcolor": "#DFE8F3",
            "linecolor": "#A2B1C6",
            "ticks": ""
           },
           "baxis": {
            "gridcolor": "#DFE8F3",
            "linecolor": "#A2B1C6",
            "ticks": ""
           },
           "bgcolor": "white",
           "caxis": {
            "gridcolor": "#DFE8F3",
            "linecolor": "#A2B1C6",
            "ticks": ""
           }
          },
          "title": {
           "x": 0.05
          },
          "xaxis": {
           "automargin": true,
           "gridcolor": "#EBF0F8",
           "linecolor": "#EBF0F8",
           "ticks": "",
           "title": {
            "standoff": 15
           },
           "zerolinecolor": "#EBF0F8",
           "zerolinewidth": 2
          },
          "yaxis": {
           "automargin": true,
           "gridcolor": "#EBF0F8",
           "linecolor": "#EBF0F8",
           "ticks": "",
           "title": {
            "standoff": 15
           },
           "zerolinecolor": "#EBF0F8",
           "zerolinewidth": 2
          }
         }
        },
        "title": {
         "text": "PCA Explained Variance (Interactive Scree Plot)"
        },
        "xaxis": {
         "title": {
          "text": "Principal Component"
         }
        },
        "yaxis": {
         "title": {
          "text": "Explained Variance"
         }
        }
       }
      }
     },
     "metadata": {},
     "output_type": "display_data"
    }
   ],
   "source": [
    "import plotly.graph_objects as go\n",
    "fig = go.Figure()\n",
    "fig.add_trace(go.Scatter(\n",
    "    x=list(range(1, len(explained_variance)+1)),\n",
    "    y=cumulative_variance,\n",
    "    mode='lines+markers',\n",
    "    name='Cumulative Explained Variance'\n",
    "))\n",
    "fig.add_hline(y=0.9, line_dash=\"dash\", line_color=\"red\", annotation_text=\"90% Cutoff\")\n",
    "fig.add_trace(go.Scatter(\n",
    "    x=list(range(1, len(explained_variance)+1)),\n",
    "    y=explained_variance,\n",
    "    mode='lines+markers',\n",
    "    name='Individual Explained Variance'\n",
    "))\n",
    "fig.update_layout(\n",
    "    title=\"PCA Explained Variance (Interactive Scree Plot)\",\n",
    "    xaxis_title=\"Principal Component\",\n",
    "    yaxis_title=\"Explained Variance\",\n",
    "    template=\"plotly_white\"\n",
    ")\n",
    "fig.show()"
   ]
  },
  {
   "cell_type": "code",
   "execution_count": 16,
   "id": "b74a992b",
   "metadata": {},
   "outputs": [
    {
     "data": {
      "application/vnd.plotly.v1+json": {
       "config": {
        "plotlyServerURL": "https://plot.ly"
       },
       "data": [
        {
         "hovertemplate": "PC1=%{x}<br>PC2=%{y}<br>Group=%{marker.color}<extra></extra>",
         "legendgroup": "",
         "marker": {
          "color": [
           1,
           1,
           1,
           1,
           1,
           1,
           1,
           1,
           1,
           1,
           1,
           1,
           1,
           1,
           1,
           1,
           1,
           1,
           1,
           1,
           1,
           1,
           1,
           1,
           1,
           1,
           1,
           1,
           1,
           1,
           1,
           1,
           1,
           1,
           1,
           1,
           1,
           1,
           1,
           1,
           1,
           1,
           1,
           1,
           1,
           1,
           1,
           1,
           1,
           1,
           1,
           1,
           1,
           1,
           1,
           1,
           1,
           1,
           1,
           1,
           1,
           1,
           1,
           1,
           1,
           1,
           1,
           1,
           1,
           1,
           1,
           1,
           1,
           1,
           1,
           1,
           1,
           1,
           1,
           1,
           1,
           1,
           1,
           1,
           1,
           1,
           1,
           1,
           1,
           1,
           1,
           1,
           1,
           1,
           1,
           1,
           1,
           1,
           1,
           1,
           1,
           1,
           1,
           1,
           1,
           1,
           1,
           1,
           1,
           1,
           1,
           1,
           1,
           1,
           1,
           1,
           1,
           1,
           1,
           1,
           1,
           1,
           1,
           1,
           1,
           1,
           1,
           1,
           1,
           1,
           1,
           1,
           1,
           1,
           1,
           1,
           1,
           1,
           1,
           1,
           1,
           1,
           1,
           1,
           1,
           1,
           1,
           1,
           1,
           1,
           1,
           1,
           1,
           1,
           1,
           1,
           1,
           1,
           1,
           1,
           1,
           1,
           1,
           1,
           1,
           1,
           1,
           1,
           1,
           1,
           1,
           1,
           1,
           1,
           1,
           1,
           1,
           1,
           1,
           1,
           1,
           1,
           1,
           1,
           1,
           1,
           1,
           1,
           1,
           1,
           1,
           1,
           1,
           1,
           1,
           1,
           1,
           1,
           1,
           1,
           1,
           1,
           1,
           1,
           1,
           1,
           1,
           1,
           1,
           1,
           1,
           1,
           1,
           1,
           1,
           1,
           1,
           1,
           1,
           1,
           1,
           1,
           1,
           1,
           1,
           1,
           1,
           1,
           1,
           1,
           1,
           1,
           1,
           1,
           1,
           1,
           1,
           1,
           1,
           1,
           1,
           1,
           1,
           1,
           1,
           1,
           1,
           1,
           1,
           1,
           1,
           1,
           1,
           1,
           1,
           1,
           1,
           1,
           1,
           1,
           1,
           1,
           1,
           1,
           1,
           1,
           1,
           1,
           1,
           1,
           1,
           1,
           1,
           1,
           1,
           1,
           1,
           1,
           1,
           1,
           1,
           1,
           1,
           1,
           1,
           1,
           1,
           1,
           1,
           1,
           1,
           1,
           1,
           1,
           1,
           1,
           1,
           1,
           1,
           1,
           1,
           1,
           1,
           1,
           1,
           1,
           1,
           1,
           1,
           0,
           0,
           0,
           0,
           0,
           0,
           0,
           0,
           0,
           0,
           0,
           0,
           0,
           0,
           0,
           0,
           0,
           0,
           0
          ],
          "coloraxis": "coloraxis",
          "symbol": "circle"
         },
         "mode": "markers",
         "name": "",
         "orientation": "v",
         "showlegend": false,
         "type": "scatter",
         "x": [
          -66.63081784461129,
          7.497015886643093,
          -59.235537484311365,
          -61.80871742192332,
          -81.92269245933873,
          93.84617989499633,
          -86.52298029104557,
          -36.98523899631673,
          -3.7190326886775664,
          -139.45708264855955,
          -32.36205207916847,
          95.3338342192858,
          -18.601147310394776,
          -15.234147993650785,
          -38.35338444586655,
          -62.1471743189023,
          6.022474234306544,
          -32.125748761111716,
          -20.701720443374438,
          2.2476743644202584,
          -21.495072548197015,
          -29.670607245208323,
          42.947187072435,
          -32.59451554983781,
          -83.54521222774223,
          90.40079910730552,
          6.12824908284795,
          -91.02316828440162,
          192.32642605892974,
          64.2071143133288,
          38.990895046305,
          -83.59691868472726,
          111.30876394118843,
          -63.5105635420513,
          10.558992139516306,
          -24.43204124012238,
          41.83666052606431,
          -38.95245548493505,
          -42.53098499262902,
          -3.2145258315185963,
          -30.766819276500968,
          -61.19769929827062,
          -23.339697376117982,
          -20.622220374912576,
          -82.50533686016891,
          -39.89286590898205,
          -145.03843193937846,
          53.16403510439944,
          -27.491340185560812,
          75.14127846423361,
          -29.417029220029942,
          112.46643984306299,
          23.377703597990422,
          27.975335254508423,
          -70.50987527821657,
          -18.332642386852974,
          -16.685032097379437,
          -12.234409551141342,
          8.56298340626897,
          -30.544010395745563,
          47.812925816333994,
          42.864310762672915,
          -60.14299149478681,
          -21.44227725789404,
          36.57269473316385,
          -54.86650207839391,
          147.62650174642246,
          -47.5677389481418,
          -24.606396827959287,
          -30.10087038712259,
          24.859864531618406,
          104.55967491298783,
          -0.7375844205843309,
          1.8447525108065035,
          -3.296939140503859,
          66.79149958187384,
          11.00576954712155,
          144.66115116340097,
          -0.009595562967840978,
          81.02193342609081,
          155.1365487905492,
          61.91165060468653,
          -34.69905747164198,
          -44.94920231600487,
          -59.80651951678231,
          30.374424421186255,
          27.473706725828933,
          -36.107022001433506,
          131.10417851291547,
          11.524556961209688,
          -29.214880186643466,
          45.38733111552481,
          100.51000149134005,
          -52.45923103078055,
          2.355692656508695,
          -66.82132527284757,
          10.039156014125037,
          -43.18935582511872,
          64.8319051114396,
          242.69827295576425,
          11.911649698233067,
          -40.105840135413565,
          -7.964387013747311,
          4.47614467900151,
          -50.64850766694372,
          51.58377064349768,
          162.46745690759658,
          -41.88549435913973,
          88.20074671042538,
          -45.7662092238545,
          -6.580753903275112,
          -14.810306576163928,
          -4.5904465862718355,
          16.255798263882795,
          -3.579886188021722,
          4.849483943945524,
          -0.17736208581463936,
          24.02480253931149,
          -10.378104588723113,
          -12.370674990170029,
          23.468313036776717,
          -83.48871296798428,
          10.21764670804407,
          -34.032766107410204,
          -23.663260848166026,
          86.81853185514419,
          52.16060934811013,
          20.285527856376454,
          -75.66924044205102,
          -92.37688317871881,
          -12.789476988500343,
          -10.274522704134132,
          8.683778484194287,
          62.74971960767531,
          -70.34590701377127,
          3.688096383002529,
          -7.730569104472229,
          -31.670920055284984,
          -13.946760021701952,
          24.096634745225646,
          37.48404845455134,
          6.226470705721715,
          -70.54526728516282,
          -16.564105324408988,
          120.84639171738407,
          -27.793387121221283,
          7.185632428983167,
          -83.45544799654385,
          -28.75295888013545,
          -16.147110034729398,
          -109.86306617378739,
          -0.33636653801636146,
          18.08088369654232,
          48.153638804360284,
          65.69456829321949,
          -53.92653350375853,
          -7.039801493046616,
          9.575620139736467,
          -12.448017096781802,
          -17.67025484401738,
          -61.95056758085268,
          9.640153373478624,
          -41.023727999279075,
          -9.358825118306157,
          39.177043523186725,
          -115.05789011338744,
          -56.328710851420674,
          33.83872235957896,
          7.37019842828039,
          -2.4748678711389807,
          93.59374714006216,
          -39.19617571076416,
          45.35440177044317,
          -88.64474247582633,
          -56.93673039901008,
          -9.243518035613317,
          66.63735786606065,
          -104.80824708246772,
          -43.2366291905037,
          -7.0613604584673055,
          49.80937804533586,
          25.240427045255192,
          -3.295810646853869,
          18.159217532875516,
          22.03855408842678,
          -14.46372552341138,
          7.186662579991206,
          49.52332346407331,
          -34.45593183531182,
          -73.87918241031986,
          -25.259171013234212,
          64.21657052376864,
          32.45323759517782,
          -9.526499705154237,
          59.50407299689158,
          27.429578482901608,
          -97.26485110528644,
          -32.31298306243998,
          -30.237112700337665,
          -81.54030668684841,
          -18.438408787713552,
          8.660672653080422,
          -87.60444478165091,
          7.299127838405526,
          45.436636112748054,
          13.495131221238939,
          -62.3761941122684,
          17.7085367574286,
          -14.627690850397563,
          -16.459481062513444,
          -40.01122763550859,
          52.96055404318628,
          49.775668822791395,
          -108.58289474232711,
          31.19192164740066,
          -41.70232610958208,
          -48.487146972416994,
          8.248345825248306,
          50.43237602104722,
          23.798702871956745,
          26.00097083613692,
          74.410190698278,
          -20.90893494616376,
          -17.29751075479019,
          -44.93542158982346,
          103.14272499342658,
          66.28541872985423,
          124.13872216304902,
          -87.02882094697848,
          -52.30601421072046,
          65.52070055750374,
          9.703532461158357,
          5.290106264684224,
          1.3920723010770801,
          -1.7365996279338316,
          -30.493288427272397,
          -1.1271508690374898,
          3.8213849913978017,
          50.24545698677905,
          -36.65743819181267,
          -7.446693179803568,
          -11.574523205668859,
          68.45635137492904,
          56.323714494495505,
          -37.42717159694898,
          8.386508019406426,
          25.591354363056347,
          -82.17045145148,
          75.59924196597916,
          -16.184815901291227,
          18.204870768429572,
          -24.24268026296174,
          73.73413592321366,
          24.73125177783456,
          -112.37183600504449,
          85.49243737852132,
          13.318270913700015,
          21.011299029722558,
          22.729555650416614,
          -32.455474378280336,
          12.969062843536904,
          7.144999453106518,
          -23.287169760928354,
          0.12046608447703813,
          -32.92617352429039,
          -133.22799827067377,
          -32.99436440657087,
          -23.49778819108194,
          -37.22184298089236,
          -5.177850600564405,
          36.68423935758094,
          56.06737187460247,
          -3.6380885441710094,
          52.5930177903836,
          -20.31115708437565,
          -13.181913938959829,
          35.75255082195856,
          -13.621437430058725,
          -83.24028746566657,
          4.262485447194045,
          14.438997698408981,
          52.13332477412255,
          132.61569821947506,
          1.1073839187750565,
          -34.24485606909769,
          -35.9798503487713,
          5.16025177093496,
          75.21139119875991,
          -6.571549251903555,
          30.262500884620625,
          -32.11866308268394,
          162.0157762967996,
          6.308989418189442,
          -44.53887167037097,
          18.917434789930386,
          27.509129017027192,
          24.08747317668379,
          -45.064525289649026,
          -25.29744269860871,
          15.821055178352214,
          -34.60373850439083,
          46.86506860979526,
          16.538924958348755,
          -9.851906142054771,
          19.60192846807002,
          3.4395950448266834,
          -18.137619494806657,
          31.18431237863788,
          -80.75106549648103,
          -59.465041694146606,
          -86.17427202853268,
          -102.46367489301784,
          45.79991215393564,
          82.37603571604444,
          6.288038131218189,
          121.89302770779379,
          -24.4285948622569,
          -11.050780818257303,
          -11.857582556061754,
          1.9761406214692019,
          79.21903059932588,
          46.168360003769884,
          37.40179429562881,
          -63.52562310366046,
          -60.04057556709497,
          -44.23063655144213,
          45.157048545900466,
          -32.0050215786238
         ],
         "xaxis": "x",
         "y": [
          1.512036753932292,
          -27.12117343045253,
          52.503650616674534,
          -6.135408593226235,
          -19.498860589299056,
          82.75741075818125,
          68.28453554701537,
          -37.23595977782621,
          7.626748913622907,
          35.01084997406901,
          1.9071795322056984,
          82.21409924364823,
          73.01696781653189,
          -28.92019545262324,
          -37.1184221023406,
          -39.79040855192132,
          -39.319990416997896,
          -27.64540008813849,
          -40.09525159360464,
          -48.03516456801917,
          -35.23331168444956,
          42.79333343834032,
          -18.821410947869335,
          50.046235223476316,
          44.48443938414122,
          -19.285106994437417,
          -16.9361382848812,
          34.20418650143753,
          145.6397528482553,
          7.437753838628405,
          -28.763387002580824,
          22.889661728731536,
          2.418642439797527,
          -5.699805654591924,
          -26.257467778667255,
          -30.446118968982784,
          81.90773529304525,
          38.866517634359546,
          -34.060785387946446,
          -31.94229793540693,
          -1.363021191474482,
          39.35286998402062,
          -15.623219707958945,
          -42.73942628471827,
          33.76282929690414,
          76.34167271791904,
          67.17443491042144,
          -25.716128525932287,
          34.682514981407266,
          6.353503989879788,
          -43.132257137893234,
          34.521276743286734,
          91.65195905691314,
          -45.214218356399606,
          -32.03025626860502,
          -28.018705732666096,
          -48.8302523391921,
          -22.24260379161623,
          -46.48390516359027,
          51.13003011001541,
          22.830506024463716,
          -39.13937412197957,
          57.52069847165159,
          37.2557213078321,
          12.23171545288884,
          -8.270618815597677,
          14.537149495003055,
          -57.72459413554804,
          -28.054057016903744,
          -24.21716468875856,
          -19.496528062073995,
          -6.091195997629006,
          -56.64133047011896,
          -26.17890146520289,
          39.19475159578355,
          24.190637519476514,
          -24.53348984061866,
          0.27660693169349726,
          -47.259692277054434,
          6.8376503148414445,
          67.98038059753159,
          -4.677636563825296,
          -52.237102602393385,
          2.959751522626708,
          -52.585281617637015,
          -3.777045103017752,
          -7.900464961876943,
          46.92463222138117,
          43.275655184635454,
          -29.72812746087185,
          -6.940545720690514,
          3.6095644412907055,
          28.366678929850003,
          79.87771368236926,
          59.8129616861059,
          -27.62480397653502,
          -6.474289427519691,
          -41.11454515864554,
          20.217620179454723,
          4.086971695813342,
          -36.38881651313911,
          46.97901902738042,
          -43.22636494755772,
          -46.54817753068996,
          -38.217352678455704,
          -10.77572410162895,
          80.92838972501193,
          -55.855398569440716,
          4.522832159203791,
          -9.941107481959026,
          -20.670125430298302,
          -36.850259178716726,
          -24.46915542021874,
          -17.75797399958667,
          -29.59642120020305,
          -16.215603568423102,
          -5.778619130697782,
          -20.994941860754288,
          4.261619200819311,
          -44.18280722214147,
          -24.97260904742333,
          31.734634224043926,
          -4.55364826201925,
          -22.667987954187637,
          -6.789161687112675,
          78.15788846974289,
          -45.26012229027133,
          -18.69479048597755,
          34.841403724225245,
          57.236659249316865,
          -19.906665249813436,
          -18.537134558502714,
          -33.434431958534056,
          -40.586802142444874,
          -56.64854731970719,
          45.225406539613196,
          -11.521290911348158,
          12.145881984081788,
          101.2680020801725,
          -50.840842318667214,
          -35.30958580153996,
          -11.40801879648732,
          -12.87747591249892,
          -27.950033234549423,
          107.70529913752566,
          -13.869985636212299,
          -34.77886988523811,
          31.049271708174718,
          26.582556409418114,
          -8.942767809838468,
          7.272944670001963,
          -27.221406625355147,
          -10.754974926937344,
          1.673901360557556,
          38.70301200244675,
          -4.072828341056614,
          -39.2645183024142,
          -36.04859105408061,
          43.233540370261515,
          -40.69154882500603,
          -21.578981341868257,
          -26.680409378102762,
          51.38631063715715,
          -45.27183386417907,
          -30.279310361034952,
          33.86641571838336,
          16.023827495606223,
          -31.475763042157237,
          -35.11389481568564,
          -7.467981598275994,
          24.736418399039383,
          -21.78515927100298,
          53.55976669985389,
          59.65568698363277,
          49.51570975236673,
          -4.206072350180111,
          -5.413386250593599,
          28.170566590001304,
          0.34523765357946157,
          -53.60519350613944,
          -24.185575340816637,
          54.010467856649136,
          -32.89138273358133,
          -34.382048378592316,
          -53.517661512309886,
          -42.06516664997111,
          4.834813406931889,
          -45.470764185475915,
          -14.179389144212532,
          66.26604668671891,
          -12.652408240740398,
          95.97880868238202,
          -29.87948053849964,
          -13.338919024991824,
          -35.00406074104883,
          -17.694100504399312,
          61.5873907984221,
          -29.487348858225197,
          -61.67059010537958,
          53.9964097596736,
          55.015374970672895,
          -32.54325144810427,
          31.062523022883532,
          45.24960920802551,
          -49.14586656851754,
          -22.173639566611914,
          74.32810096941192,
          -17.884870667865755,
          -30.817670213150862,
          -34.1478737937893,
          -37.35025473793087,
          -29.454617264142314,
          35.19119407967914,
          58.39730329363957,
          -24.6880287750598,
          55.44448750220079,
          46.72705466075883,
          -28.280198568612278,
          73.21056452415685,
          1.5584430033189236,
          -50.43840348843453,
          -26.896307853573244,
          -30.292427544524845,
          -47.13616816855573,
          -17.912020996900498,
          1.0396293543008182,
          -13.239523594435637,
          65.44222976918923,
          39.648795703999575,
          -0.7096457763918649,
          -2.2467567823717345,
          -7.432248476999488,
          -26.883184157904058,
          -25.15278030104222,
          32.300817098376264,
          -20.957204405402337,
          -26.57032785903689,
          26.424219933325084,
          -19.48258332985769,
          -21.402811305981636,
          -2.301915240866644,
          49.802839350961634,
          -11.860092588770826,
          -9.22672086997316,
          9.464051218492683,
          -38.35140100283207,
          -4.2864317549449416,
          -1.5032530992080055,
          13.861236115525005,
          6.742270649309242,
          -26.703331445468844,
          -43.52984970368182,
          -15.230286721444363,
          -29.05917907118948,
          -5.822347353825797,
          13.87387455232056,
          -18.86437447716303,
          -3.413381690665424,
          5.466765517610591,
          -30.66025603153141,
          -14.916342076805858,
          -31.423419764966635,
          -19.306766908506948,
          50.001379889659354,
          10.429478993460402,
          51.22085617001273,
          -35.27336737288668,
          64.18347746625716,
          55.07467071849942,
          65.82457249534815,
          10.757651459089955,
          -0.31936698584828516,
          28.89821897759599,
          19.718939105629588,
          -21.11998240738544,
          -33.578393835413046,
          21.901061237602857,
          16.614539819514853,
          54.93565641597773,
          14.35963698069867,
          -8.535794735998138,
          -0.1362957930663954,
          31.95828682415952,
          36.526637433325504,
          -32.10951215368271,
          53.823292114478114,
          -36.10912831622798,
          -17.83808406007885,
          -12.331799007444314,
          -5.844611935411767,
          -13.941617541345366,
          59.38994736024758,
          1.0325393606564928,
          -53.41289830129781,
          -36.916192319310014,
          -30.055186348338168,
          -58.19544837056623,
          -12.605496098249459,
          33.163805030777205,
          -18.880076166236954,
          -24.27659320852949,
          -19.04074722996472,
          -14.767848086158288,
          -52.17012938724244,
          -9.668022064137052,
          -34.88083680120996,
          -40.35444463775012,
          9.847330378639622,
          76.92911339930966,
          13.52759111120917,
          7.592688122007967,
          -5.757375437598925,
          1.3223710834993487,
          6.93469595412346,
          16.609978164465115,
          -7.757161458315453,
          54.950719030632435,
          -13.891872505943146,
          -4.183895228141053,
          39.616132769568004,
          -43.167022196493065,
          -44.977294133306536,
          -28.885394472182984,
          51.98050633296454,
          45.87625249799617,
          48.981455098114274,
          -16.735764765537695,
          18.037686518121287
         ],
         "yaxis": "y"
        }
       ],
       "layout": {
        "coloraxis": {
         "colorbar": {
          "title": {
           "text": "Group"
          }
         },
         "colorscale": [
          [
           0,
           "#0d0887"
          ],
          [
           0.1111111111111111,
           "#46039f"
          ],
          [
           0.2222222222222222,
           "#7201a8"
          ],
          [
           0.3333333333333333,
           "#9c179e"
          ],
          [
           0.4444444444444444,
           "#bd3786"
          ],
          [
           0.5555555555555556,
           "#d8576b"
          ],
          [
           0.6666666666666666,
           "#ed7953"
          ],
          [
           0.7777777777777778,
           "#fb9f3a"
          ],
          [
           0.8888888888888888,
           "#fdca26"
          ],
          [
           1,
           "#f0f921"
          ]
         ]
        },
        "legend": {
         "tracegroupgap": 0
        },
        "template": {
         "data": {
          "bar": [
           {
            "error_x": {
             "color": "#2a3f5f"
            },
            "error_y": {
             "color": "#2a3f5f"
            },
            "marker": {
             "line": {
              "color": "#E5ECF6",
              "width": 0.5
             },
             "pattern": {
              "fillmode": "overlay",
              "size": 10,
              "solidity": 0.2
             }
            },
            "type": "bar"
           }
          ],
          "barpolar": [
           {
            "marker": {
             "line": {
              "color": "#E5ECF6",
              "width": 0.5
             },
             "pattern": {
              "fillmode": "overlay",
              "size": 10,
              "solidity": 0.2
             }
            },
            "type": "barpolar"
           }
          ],
          "carpet": [
           {
            "aaxis": {
             "endlinecolor": "#2a3f5f",
             "gridcolor": "white",
             "linecolor": "white",
             "minorgridcolor": "white",
             "startlinecolor": "#2a3f5f"
            },
            "baxis": {
             "endlinecolor": "#2a3f5f",
             "gridcolor": "white",
             "linecolor": "white",
             "minorgridcolor": "white",
             "startlinecolor": "#2a3f5f"
            },
            "type": "carpet"
           }
          ],
          "choropleth": [
           {
            "colorbar": {
             "outlinewidth": 0,
             "ticks": ""
            },
            "type": "choropleth"
           }
          ],
          "contour": [
           {
            "colorbar": {
             "outlinewidth": 0,
             "ticks": ""
            },
            "colorscale": [
             [
              0,
              "#0d0887"
             ],
             [
              0.1111111111111111,
              "#46039f"
             ],
             [
              0.2222222222222222,
              "#7201a8"
             ],
             [
              0.3333333333333333,
              "#9c179e"
             ],
             [
              0.4444444444444444,
              "#bd3786"
             ],
             [
              0.5555555555555556,
              "#d8576b"
             ],
             [
              0.6666666666666666,
              "#ed7953"
             ],
             [
              0.7777777777777778,
              "#fb9f3a"
             ],
             [
              0.8888888888888888,
              "#fdca26"
             ],
             [
              1,
              "#f0f921"
             ]
            ],
            "type": "contour"
           }
          ],
          "contourcarpet": [
           {
            "colorbar": {
             "outlinewidth": 0,
             "ticks": ""
            },
            "type": "contourcarpet"
           }
          ],
          "heatmap": [
           {
            "colorbar": {
             "outlinewidth": 0,
             "ticks": ""
            },
            "colorscale": [
             [
              0,
              "#0d0887"
             ],
             [
              0.1111111111111111,
              "#46039f"
             ],
             [
              0.2222222222222222,
              "#7201a8"
             ],
             [
              0.3333333333333333,
              "#9c179e"
             ],
             [
              0.4444444444444444,
              "#bd3786"
             ],
             [
              0.5555555555555556,
              "#d8576b"
             ],
             [
              0.6666666666666666,
              "#ed7953"
             ],
             [
              0.7777777777777778,
              "#fb9f3a"
             ],
             [
              0.8888888888888888,
              "#fdca26"
             ],
             [
              1,
              "#f0f921"
             ]
            ],
            "type": "heatmap"
           }
          ],
          "heatmapgl": [
           {
            "colorbar": {
             "outlinewidth": 0,
             "ticks": ""
            },
            "colorscale": [
             [
              0,
              "#0d0887"
             ],
             [
              0.1111111111111111,
              "#46039f"
             ],
             [
              0.2222222222222222,
              "#7201a8"
             ],
             [
              0.3333333333333333,
              "#9c179e"
             ],
             [
              0.4444444444444444,
              "#bd3786"
             ],
             [
              0.5555555555555556,
              "#d8576b"
             ],
             [
              0.6666666666666666,
              "#ed7953"
             ],
             [
              0.7777777777777778,
              "#fb9f3a"
             ],
             [
              0.8888888888888888,
              "#fdca26"
             ],
             [
              1,
              "#f0f921"
             ]
            ],
            "type": "heatmapgl"
           }
          ],
          "histogram": [
           {
            "marker": {
             "pattern": {
              "fillmode": "overlay",
              "size": 10,
              "solidity": 0.2
             }
            },
            "type": "histogram"
           }
          ],
          "histogram2d": [
           {
            "colorbar": {
             "outlinewidth": 0,
             "ticks": ""
            },
            "colorscale": [
             [
              0,
              "#0d0887"
             ],
             [
              0.1111111111111111,
              "#46039f"
             ],
             [
              0.2222222222222222,
              "#7201a8"
             ],
             [
              0.3333333333333333,
              "#9c179e"
             ],
             [
              0.4444444444444444,
              "#bd3786"
             ],
             [
              0.5555555555555556,
              "#d8576b"
             ],
             [
              0.6666666666666666,
              "#ed7953"
             ],
             [
              0.7777777777777778,
              "#fb9f3a"
             ],
             [
              0.8888888888888888,
              "#fdca26"
             ],
             [
              1,
              "#f0f921"
             ]
            ],
            "type": "histogram2d"
           }
          ],
          "histogram2dcontour": [
           {
            "colorbar": {
             "outlinewidth": 0,
             "ticks": ""
            },
            "colorscale": [
             [
              0,
              "#0d0887"
             ],
             [
              0.1111111111111111,
              "#46039f"
             ],
             [
              0.2222222222222222,
              "#7201a8"
             ],
             [
              0.3333333333333333,
              "#9c179e"
             ],
             [
              0.4444444444444444,
              "#bd3786"
             ],
             [
              0.5555555555555556,
              "#d8576b"
             ],
             [
              0.6666666666666666,
              "#ed7953"
             ],
             [
              0.7777777777777778,
              "#fb9f3a"
             ],
             [
              0.8888888888888888,
              "#fdca26"
             ],
             [
              1,
              "#f0f921"
             ]
            ],
            "type": "histogram2dcontour"
           }
          ],
          "mesh3d": [
           {
            "colorbar": {
             "outlinewidth": 0,
             "ticks": ""
            },
            "type": "mesh3d"
           }
          ],
          "parcoords": [
           {
            "line": {
             "colorbar": {
              "outlinewidth": 0,
              "ticks": ""
             }
            },
            "type": "parcoords"
           }
          ],
          "pie": [
           {
            "automargin": true,
            "type": "pie"
           }
          ],
          "scatter": [
           {
            "fillpattern": {
             "fillmode": "overlay",
             "size": 10,
             "solidity": 0.2
            },
            "type": "scatter"
           }
          ],
          "scatter3d": [
           {
            "line": {
             "colorbar": {
              "outlinewidth": 0,
              "ticks": ""
             }
            },
            "marker": {
             "colorbar": {
              "outlinewidth": 0,
              "ticks": ""
             }
            },
            "type": "scatter3d"
           }
          ],
          "scattercarpet": [
           {
            "marker": {
             "colorbar": {
              "outlinewidth": 0,
              "ticks": ""
             }
            },
            "type": "scattercarpet"
           }
          ],
          "scattergeo": [
           {
            "marker": {
             "colorbar": {
              "outlinewidth": 0,
              "ticks": ""
             }
            },
            "type": "scattergeo"
           }
          ],
          "scattergl": [
           {
            "marker": {
             "colorbar": {
              "outlinewidth": 0,
              "ticks": ""
             }
            },
            "type": "scattergl"
           }
          ],
          "scattermapbox": [
           {
            "marker": {
             "colorbar": {
              "outlinewidth": 0,
              "ticks": ""
             }
            },
            "type": "scattermapbox"
           }
          ],
          "scatterpolar": [
           {
            "marker": {
             "colorbar": {
              "outlinewidth": 0,
              "ticks": ""
             }
            },
            "type": "scatterpolar"
           }
          ],
          "scatterpolargl": [
           {
            "marker": {
             "colorbar": {
              "outlinewidth": 0,
              "ticks": ""
             }
            },
            "type": "scatterpolargl"
           }
          ],
          "scatterternary": [
           {
            "marker": {
             "colorbar": {
              "outlinewidth": 0,
              "ticks": ""
             }
            },
            "type": "scatterternary"
           }
          ],
          "surface": [
           {
            "colorbar": {
             "outlinewidth": 0,
             "ticks": ""
            },
            "colorscale": [
             [
              0,
              "#0d0887"
             ],
             [
              0.1111111111111111,
              "#46039f"
             ],
             [
              0.2222222222222222,
              "#7201a8"
             ],
             [
              0.3333333333333333,
              "#9c179e"
             ],
             [
              0.4444444444444444,
              "#bd3786"
             ],
             [
              0.5555555555555556,
              "#d8576b"
             ],
             [
              0.6666666666666666,
              "#ed7953"
             ],
             [
              0.7777777777777778,
              "#fb9f3a"
             ],
             [
              0.8888888888888888,
              "#fdca26"
             ],
             [
              1,
              "#f0f921"
             ]
            ],
            "type": "surface"
           }
          ],
          "table": [
           {
            "cells": {
             "fill": {
              "color": "#EBF0F8"
             },
             "line": {
              "color": "white"
             }
            },
            "header": {
             "fill": {
              "color": "#C8D4E3"
             },
             "line": {
              "color": "white"
             }
            },
            "type": "table"
           }
          ]
         },
         "layout": {
          "annotationdefaults": {
           "arrowcolor": "#2a3f5f",
           "arrowhead": 0,
           "arrowwidth": 1
          },
          "autotypenumbers": "strict",
          "coloraxis": {
           "colorbar": {
            "outlinewidth": 0,
            "ticks": ""
           }
          },
          "colorscale": {
           "diverging": [
            [
             0,
             "#8e0152"
            ],
            [
             0.1,
             "#c51b7d"
            ],
            [
             0.2,
             "#de77ae"
            ],
            [
             0.3,
             "#f1b6da"
            ],
            [
             0.4,
             "#fde0ef"
            ],
            [
             0.5,
             "#f7f7f7"
            ],
            [
             0.6,
             "#e6f5d0"
            ],
            [
             0.7,
             "#b8e186"
            ],
            [
             0.8,
             "#7fbc41"
            ],
            [
             0.9,
             "#4d9221"
            ],
            [
             1,
             "#276419"
            ]
           ],
           "sequential": [
            [
             0,
             "#0d0887"
            ],
            [
             0.1111111111111111,
             "#46039f"
            ],
            [
             0.2222222222222222,
             "#7201a8"
            ],
            [
             0.3333333333333333,
             "#9c179e"
            ],
            [
             0.4444444444444444,
             "#bd3786"
            ],
            [
             0.5555555555555556,
             "#d8576b"
            ],
            [
             0.6666666666666666,
             "#ed7953"
            ],
            [
             0.7777777777777778,
             "#fb9f3a"
            ],
            [
             0.8888888888888888,
             "#fdca26"
            ],
            [
             1,
             "#f0f921"
            ]
           ],
           "sequentialminus": [
            [
             0,
             "#0d0887"
            ],
            [
             0.1111111111111111,
             "#46039f"
            ],
            [
             0.2222222222222222,
             "#7201a8"
            ],
            [
             0.3333333333333333,
             "#9c179e"
            ],
            [
             0.4444444444444444,
             "#bd3786"
            ],
            [
             0.5555555555555556,
             "#d8576b"
            ],
            [
             0.6666666666666666,
             "#ed7953"
            ],
            [
             0.7777777777777778,
             "#fb9f3a"
            ],
            [
             0.8888888888888888,
             "#fdca26"
            ],
            [
             1,
             "#f0f921"
            ]
           ]
          },
          "colorway": [
           "#636efa",
           "#EF553B",
           "#00cc96",
           "#ab63fa",
           "#FFA15A",
           "#19d3f3",
           "#FF6692",
           "#B6E880",
           "#FF97FF",
           "#FECB52"
          ],
          "font": {
           "color": "#2a3f5f"
          },
          "geo": {
           "bgcolor": "white",
           "lakecolor": "white",
           "landcolor": "#E5ECF6",
           "showlakes": true,
           "showland": true,
           "subunitcolor": "white"
          },
          "hoverlabel": {
           "align": "left"
          },
          "hovermode": "closest",
          "mapbox": {
           "style": "light"
          },
          "paper_bgcolor": "white",
          "plot_bgcolor": "#E5ECF6",
          "polar": {
           "angularaxis": {
            "gridcolor": "white",
            "linecolor": "white",
            "ticks": ""
           },
           "bgcolor": "#E5ECF6",
           "radialaxis": {
            "gridcolor": "white",
            "linecolor": "white",
            "ticks": ""
           }
          },
          "scene": {
           "xaxis": {
            "backgroundcolor": "#E5ECF6",
            "gridcolor": "white",
            "gridwidth": 2,
            "linecolor": "white",
            "showbackground": true,
            "ticks": "",
            "zerolinecolor": "white"
           },
           "yaxis": {
            "backgroundcolor": "#E5ECF6",
            "gridcolor": "white",
            "gridwidth": 2,
            "linecolor": "white",
            "showbackground": true,
            "ticks": "",
            "zerolinecolor": "white"
           },
           "zaxis": {
            "backgroundcolor": "#E5ECF6",
            "gridcolor": "white",
            "gridwidth": 2,
            "linecolor": "white",
            "showbackground": true,
            "ticks": "",
            "zerolinecolor": "white"
           }
          },
          "shapedefaults": {
           "line": {
            "color": "#2a3f5f"
           }
          },
          "ternary": {
           "aaxis": {
            "gridcolor": "white",
            "linecolor": "white",
            "ticks": ""
           },
           "baxis": {
            "gridcolor": "white",
            "linecolor": "white",
            "ticks": ""
           },
           "bgcolor": "#E5ECF6",
           "caxis": {
            "gridcolor": "white",
            "linecolor": "white",
            "ticks": ""
           }
          },
          "title": {
           "x": 0.05
          },
          "xaxis": {
           "automargin": true,
           "gridcolor": "white",
           "linecolor": "white",
           "ticks": "",
           "title": {
            "standoff": 15
           },
           "zerolinecolor": "white",
           "zerolinewidth": 2
          },
          "yaxis": {
           "automargin": true,
           "gridcolor": "white",
           "linecolor": "white",
           "ticks": "",
           "title": {
            "standoff": 15
           },
           "zerolinecolor": "white",
           "zerolinewidth": 2
          }
         }
        },
        "title": {
         "text": "PCA 2D Projection"
        },
        "xaxis": {
         "anchor": "y",
         "domain": [
          0,
          1
         ],
         "title": {
          "text": "PC1"
         }
        },
        "yaxis": {
         "anchor": "x",
         "domain": [
          0,
          1
         ],
         "title": {
          "text": "PC2"
         }
        }
       }
      }
     },
     "metadata": {},
     "output_type": "display_data"
    }
   ],
   "source": [
    "# for visualizing the 2d pca \n",
    "\n",
    "pca_2d = PCA(n_components=2)\n",
    "reduced_2d = pca_2d.fit_transform(X_scaled)\n",
    "\n",
    "import plotly.express as px\n",
    "df_2d = pd.DataFrame(reduced_2d, columns=['PC1', 'PC2'])\n",
    "df_2d['label'] = y.values\n",
    "\n",
    "fig = px.scatter(df_2d, x='PC1', y='PC2', color='label',\n",
    "                 title='PCA 2D Projection',\n",
    "                 labels={'label': 'Group'})\n",
    "fig.show()"
   ]
  },
  {
   "cell_type": "code",
   "execution_count": 17,
   "id": "d3b5f897",
   "metadata": {},
   "outputs": [
    {
     "data": {
      "application/vnd.plotly.v1+json": {
       "config": {
        "plotlyServerURL": "https://plot.ly"
       },
       "data": [
        {
         "hovertemplate": "PC1=%{x}<br>PC2=%{y}<br>PC3=%{z}<br>label=%{marker.color}<extra></extra>",
         "legendgroup": "",
         "marker": {
          "color": [
           1,
           1,
           1,
           1,
           1,
           1,
           1,
           1,
           1,
           1,
           1,
           1,
           1,
           1,
           1,
           1,
           1,
           1,
           1,
           1,
           1,
           1,
           1,
           1,
           1,
           1,
           1,
           1,
           1,
           1,
           1,
           1,
           1,
           1,
           1,
           1,
           1,
           1,
           1,
           1,
           1,
           1,
           1,
           1,
           1,
           1,
           1,
           1,
           1,
           1,
           1,
           1,
           1,
           1,
           1,
           1,
           1,
           1,
           1,
           1,
           1,
           1,
           1,
           1,
           1,
           1,
           1,
           1,
           1,
           1,
           1,
           1,
           1,
           1,
           1,
           1,
           1,
           1,
           1,
           1,
           1,
           1,
           1,
           1,
           1,
           1,
           1,
           1,
           1,
           1,
           1,
           1,
           1,
           1,
           1,
           1,
           1,
           1,
           1,
           1,
           1,
           1,
           1,
           1,
           1,
           1,
           1,
           1,
           1,
           1,
           1,
           1,
           1,
           1,
           1,
           1,
           1,
           1,
           1,
           1,
           1,
           1,
           1,
           1,
           1,
           1,
           1,
           1,
           1,
           1,
           1,
           1,
           1,
           1,
           1,
           1,
           1,
           1,
           1,
           1,
           1,
           1,
           1,
           1,
           1,
           1,
           1,
           1,
           1,
           1,
           1,
           1,
           1,
           1,
           1,
           1,
           1,
           1,
           1,
           1,
           1,
           1,
           1,
           1,
           1,
           1,
           1,
           1,
           1,
           1,
           1,
           1,
           1,
           1,
           1,
           1,
           1,
           1,
           1,
           1,
           1,
           1,
           1,
           1,
           1,
           1,
           1,
           1,
           1,
           1,
           1,
           1,
           1,
           1,
           1,
           1,
           1,
           1,
           1,
           1,
           1,
           1,
           1,
           1,
           1,
           1,
           1,
           1,
           1,
           1,
           1,
           1,
           1,
           1,
           1,
           1,
           1,
           1,
           1,
           1,
           1,
           1,
           1,
           1,
           1,
           1,
           1,
           1,
           1,
           1,
           1,
           1,
           1,
           1,
           1,
           1,
           1,
           1,
           1,
           1,
           1,
           1,
           1,
           1,
           1,
           1,
           1,
           1,
           1,
           1,
           1,
           1,
           1,
           1,
           1,
           1,
           1,
           1,
           1,
           1,
           1,
           1,
           1,
           1,
           1,
           1,
           1,
           1,
           1,
           1,
           1,
           1,
           1,
           1,
           1,
           1,
           1,
           1,
           1,
           1,
           1,
           1,
           1,
           1,
           1,
           1,
           1,
           1,
           1,
           1,
           1,
           1,
           1,
           1,
           1,
           1,
           1,
           1,
           1,
           1,
           1,
           1,
           1,
           1,
           1,
           1,
           1,
           1,
           1,
           0,
           0,
           0,
           0,
           0,
           0,
           0,
           0,
           0,
           0,
           0,
           0,
           0,
           0,
           0,
           0,
           0,
           0,
           0
          ],
          "coloraxis": "coloraxis",
          "symbol": "circle"
         },
         "mode": "markers",
         "name": "",
         "scene": "scene",
         "showlegend": false,
         "type": "scatter3d",
         "x": [
          -66.6308179417222,
          7.497015885753697,
          -59.23553747197767,
          -61.80871737004368,
          -81.92269245501696,
          93.84618000625834,
          -86.5229805330218,
          -36.985238984854774,
          -3.7190326092621095,
          -139.45708258291475,
          -32.36205191997203,
          95.33383438841688,
          -18.601147376172324,
          -15.234147950307426,
          -38.353384559949504,
          -62.14717423970285,
          6.022474332135094,
          -32.125748646814344,
          -20.701720309629714,
          2.2476743993164425,
          -21.495072525526968,
          -29.670607313978433,
          42.947187067486475,
          -32.59451557266956,
          -83.54521218719329,
          90.40079889900281,
          6.128249142619325,
          -91.02316820346341,
          192.3264261829138,
          64.20711429564399,
          38.99089497910278,
          -83.59691850896854,
          111.30876377814627,
          -63.51056359679618,
          10.558991956782087,
          -24.432041074799734,
          41.83666056954207,
          -38.95245525662878,
          -42.53098510072779,
          -3.214525783853416,
          -30.766819295877355,
          -61.19769918378216,
          -23.33969721675955,
          -20.6222202722851,
          -82.50533717221029,
          -39.892865964953536,
          -145.03843206370408,
          53.1640352158602,
          -27.491339998459583,
          75.14127849514071,
          -29.417029245115128,
          112.4664396624549,
          23.3777037936764,
          27.975335352347418,
          -70.50987538301936,
          -18.332642141728112,
          -16.685032057233585,
          -12.234409561184773,
          8.56298348093703,
          -30.544010525225065,
          47.812925949279304,
          42.864310740060844,
          -60.14299129416392,
          -21.4422772003972,
          36.57269458834129,
          -54.86650199615371,
          147.62650159173907,
          -47.567738728902526,
          -24.606396704589066,
          -30.100870463743526,
          24.85986450082097,
          104.55967472114341,
          -0.7375843748473088,
          1.8447524350546451,
          -3.29693928023698,
          66.79149963394876,
          11.005769280763404,
          144.66115096209228,
          -0.009595499369912703,
          81.02193316769507,
          155.1365489514927,
          61.91165060770621,
          -34.69905738220628,
          -44.94920232935744,
          -59.806519582454335,
          30.374424393529974,
          27.47370671520961,
          -36.10702210788049,
          131.10417846020002,
          11.52455705885816,
          -29.214880270958254,
          45.38733113121976,
          100.51000155269635,
          -52.4592309635813,
          2.355692848803886,
          -66.82132528059525,
          10.039156039279625,
          -43.189355846567736,
          64.83190514371171,
          242.6982728731669,
          11.911649830276684,
          -40.10584007954116,
          -7.964386922702489,
          4.476144642020908,
          -50.648507493675396,
          51.58377050761234,
          162.46745705447498,
          -41.88549426315982,
          88.20074663880187,
          -45.766209252933145,
          -6.58075378765949,
          -14.810306678366665,
          -4.590446754490626,
          16.255798463361163,
          -3.5798861721049207,
          4.849483962362609,
          -0.17736202856328073,
          24.02480245048001,
          -10.378104649472682,
          -12.370674908994612,
          23.468312994501343,
          -83.48871279425042,
          10.21764661194996,
          -34.03276624767704,
          -23.66326078592234,
          86.81853160490749,
          52.16060935354819,
          20.285527922824556,
          -75.66924036017696,
          -92.37688321246458,
          -12.789476934003627,
          -10.274522698573268,
          8.68377861812713,
          62.74971969017077,
          -70.34590702433748,
          3.6880965501133693,
          -7.730569097318482,
          -31.670919973052296,
          -13.946760264842654,
          24.096634598064277,
          37.48404839259418,
          6.226470721288261,
          -70.54526717862892,
          -16.564105398006497,
          120.84639186114595,
          -27.79338704668101,
          7.185632237021351,
          -83.45544772163763,
          -28.75295870789632,
          -16.14710997253642,
          -109.86306582482963,
          -0.3363664467150065,
          18.080883516457334,
          48.153638936916614,
          65.69456812307882,
          -53.926533584061886,
          -7.0398015505027365,
          9.575620248082489,
          -12.448016829886331,
          -17.670254884907404,
          -61.950567648323315,
          9.640153350418588,
          -41.02372813660433,
          -9.358825061304627,
          39.177043511674604,
          -115.05789001597108,
          -56.32871072966299,
          33.838722160992766,
          7.370198465673491,
          -2.474868125962507,
          93.59374713957683,
          -39.19617590768291,
          45.354401651471214,
          -88.64474246641558,
          -56.93673037343834,
          -9.243518007513993,
          66.63735787821159,
          -104.80824689494355,
          -43.23662894784615,
          -7.06136049710848,
          49.809378229649845,
          25.240427068874766,
          -3.295810629249515,
          18.1592177694069,
          22.038554175118165,
          -14.463725514828766,
          7.186662493825264,
          49.52332353981401,
          -34.45593192332094,
          -73.87918234589868,
          -25.259171058419113,
          64.21657053420341,
          32.45323777444734,
          -9.526499658187353,
          59.5040733885461,
          27.429578601612654,
          -97.26485114192417,
          -32.31298300409646,
          -30.23711271791872,
          -81.54030648979256,
          -18.43840875695817,
          8.660672753884118,
          -87.60444459822087,
          7.299128198830192,
          45.43663603557994,
          13.495131275436577,
          -62.37619416280393,
          17.708536666899775,
          -14.62769114015853,
          -16.4594809640028,
          -40.011227504126246,
          52.9605540926019,
          49.77566880317189,
          -108.58289481369651,
          31.191921397625784,
          -41.70232623770843,
          -48.487146933643906,
          8.24834597651708,
          50.43237598633138,
          23.798702541402065,
          26.000970878528427,
          74.41019066721125,
          -20.90893496642287,
          -17.29751075309476,
          -44.93542171925888,
          103.14272473524117,
          66.28541875298588,
          124.13872228902778,
          -87.02882056441636,
          -52.30601432584843,
          65.52070054903999,
          9.7035324244623,
          5.290106169330964,
          1.3920723239600206,
          -1.7365995649784254,
          -30.49328872683495,
          -1.1271509633256722,
          3.8213849677580733,
          50.245457203950004,
          -36.657438396292456,
          -7.446693175766209,
          -11.574522967702263,
          68.45635141036242,
          56.323714558635004,
          -37.42717176279944,
          8.386507997941171,
          25.591354340650224,
          -82.17045145414582,
          75.59924193886432,
          -16.18481579270887,
          18.20487077368342,
          -24.24268020059567,
          73.73413586973508,
          24.731251651464923,
          -112.37183605396102,
          85.49243747751682,
          13.318271057382272,
          21.01129895351993,
          22.729555591665736,
          -32.45547441126062,
          12.969062843706604,
          7.144999374397977,
          -23.287169736722674,
          0.12046581493089159,
          -32.92617329512807,
          -133.22799811524004,
          -32.99436422909185,
          -23.49778818492321,
          -37.22184298293037,
          -5.177850679987646,
          36.68423929365148,
          56.067371647925185,
          -3.638088179801956,
          52.59301782689635,
          -20.311157119567962,
          -13.18191376990294,
          35.75255084544573,
          -13.621437467472086,
          -83.24028756199566,
          4.262485254882881,
          14.438997873999943,
          52.133325023836505,
          132.61569817128273,
          1.1073840855788042,
          -34.24485584367941,
          -35.97985048377861,
          5.160251794868295,
          75.21139102226905,
          -6.571549241165319,
          30.26250093330604,
          -32.11866310726101,
          162.0157763729496,
          6.308989568026233,
          -44.538871739626906,
          18.917434914639045,
          27.509129125146252,
          24.087473364262934,
          -45.064525497909194,
          -25.297442721524718,
          15.821055235294354,
          -34.60373867277947,
          46.86506869336344,
          16.538924900509386,
          -9.851906024233713,
          19.60192852731334,
          3.4395951914331717,
          -18.13761943467962,
          31.18431241724844,
          -80.75106553723232,
          -59.46504233162584,
          -86.17427274241678,
          -102.46367568719599,
          45.7999120964133,
          82.37603570626364,
          6.288038010638329,
          121.89302775152996,
          -24.42859449732372,
          -11.050780542133637,
          -11.857582216841458,
          1.9761409482603485,
          79.21903036866851,
          46.16835964761149,
          37.401793806489444,
          -63.52562366691335,
          -60.04057606134111,
          -44.23063703830865,
          45.15704843780813,
          -32.00502208413501
         ],
         "y": [
          1.5120606303325763,
          -27.121131758533775,
          52.50364182784689,
          -6.135399877082942,
          -19.498810402018925,
          82.7574117218826,
          68.28460217448946,
          -37.23597924491153,
          7.626785632826581,
          35.01086030486649,
          1.9072350575526327,
          82.21414847562724,
          73.01703994783784,
          -28.92015674882298,
          -37.1184510188392,
          -39.79042464942746,
          -39.32003717874368,
          -27.64557411483888,
          -40.09532701486298,
          -48.03517699204045,
          -35.23335458542661,
          42.79348321807619,
          -18.821399594356325,
          50.0458611239724,
          44.48443648478084,
          -19.28504597299561,
          -16.93615058585287,
          34.2042977067486,
          145.63965814399154,
          7.437768578300487,
          -28.763338568846663,
          22.889637973384477,
          2.41868993472119,
          -5.699866215105855,
          -26.257406942504037,
          -30.44619095688677,
          81.90774197754925,
          38.86654438996675,
          -34.06088792489796,
          -31.94222747757111,
          -1.3630146140338653,
          39.352892064076826,
          -15.623343619065414,
          -42.73940250332873,
          33.76304950577434,
          76.34173776347625,
          67.17447403256168,
          -25.716183038018922,
          34.68258130802844,
          6.3535024685070365,
          -43.13221783239935,
          34.52139965707377,
          91.65198836506589,
          -45.214227575169765,
          -32.030273327546276,
          -28.0187057031793,
          -48.83023943373882,
          -22.242564878938186,
          -46.48390423424776,
          51.13010141228301,
          22.830402984850853,
          -39.13936920903961,
          57.52066464007588,
          37.25580530596759,
          12.231777286831866,
          -8.270623413639798,
          14.537197628064206,
          -57.72460486037548,
          -28.05404014358368,
          -24.217156719858384,
          -19.49660682023269,
          -6.091123945372434,
          -56.641450304920156,
          -26.178973585846308,
          39.194757249305724,
          24.190650348611342,
          -24.53342241908513,
          0.27656195889217733,
          -47.259613025222286,
          6.837769629119221,
          67.98039099625093,
          -4.677640360178345,
          -52.23709429273286,
          2.9597653215850235,
          -52.58531440364589,
          -3.776996278162631,
          -7.90048139097353,
          46.92480957153217,
          43.27566593763407,
          -29.728145303100018,
          -6.940530760433366,
          3.6095719055825093,
          28.36674929526709,
          79.87777349835359,
          59.81301093671249,
          -27.624758255843716,
          -6.47423552745843,
          -41.11449724827413,
          20.21758748217763,
          4.087068111051463,
          -36.388847416282296,
          46.97896114061883,
          -43.22635410311755,
          -46.54811323288362,
          -38.217482866908284,
          -10.77566746070458,
          80.92829922616886,
          -55.85540697565692,
          4.522836826500399,
          -9.941150570730954,
          -20.670133411349244,
          -36.85026040885096,
          -24.469123005523247,
          -17.75820788221286,
          -29.596377570582387,
          -16.215662437862854,
          -5.778769996437727,
          -20.994856622510014,
          4.261637268245241,
          -44.18284267488236,
          -24.97262979182693,
          31.73463682594336,
          -4.55363692859668,
          -22.66790436972523,
          -6.789178837910479,
          78.15797666218701,
          -45.26010500826447,
          -18.694851813866034,
          34.84133953744985,
          57.236726551034124,
          -19.906740494181093,
          -18.537105168885788,
          -33.43441030840418,
          -40.58682966921545,
          -56.64844291806287,
          45.225349910965875,
          -11.521252794284534,
          12.145914351444924,
          101.26819345600634,
          -50.84083810086211,
          -35.30953508878279,
          -11.407968949038313,
          -12.877601317165698,
          -27.949973284228427,
          107.70528995332096,
          -13.870068184074313,
          -34.77889412976288,
          31.049205466383317,
          26.582515337086047,
          -8.942819785145286,
          7.2729142186132325,
          -27.221536522891817,
          -10.754907808255295,
          1.673888385816805,
          38.70301582196658,
          -4.072933203992342,
          -39.26448307601593,
          -36.04864562889472,
          43.2334397238908,
          -40.69151961840359,
          -21.57893994899235,
          -26.68038221746389,
          51.38601185973253,
          -45.2717421954396,
          -30.2792287219894,
          33.86655646777819,
          16.023893721425182,
          -31.475720712734525,
          -35.113985798297385,
          -7.4680422636246355,
          24.736428330525925,
          -21.785142330187362,
          53.559626363948574,
          59.65566900238868,
          49.515714236132524,
          -4.206062881274808,
          -5.413315440332117,
          28.17066929067588,
          0.3452652237709636,
          -53.605201267249704,
          -24.185762042658713,
          54.01044557693299,
          -32.89129332188576,
          -34.38208808892618,
          -53.51764802254717,
          -42.06517583697176,
          4.834844902980849,
          -45.470769678386056,
          -14.179360131752896,
          66.26609275721262,
          -12.652631134192811,
          95.97878914420059,
          -29.879497077097426,
          -13.338971671097262,
          -35.00405342866265,
          -17.694098935431764,
          61.5873928976062,
          -29.487338161592056,
          -61.67056699560281,
          53.996286603422696,
          55.01536423157832,
          -32.54332226965056,
          31.062569930311327,
          45.24946919989094,
          -49.145812368153884,
          -22.173607061233948,
          74.32810495973015,
          -17.884858348674104,
          -30.817635647676457,
          -34.14777762395731,
          -37.35027027298056,
          -29.454636241500147,
          35.19117956451239,
          58.39735546456602,
          -24.687961893760672,
          55.44448236658697,
          46.72701129414559,
          -28.280230382930306,
          73.2106116021443,
          1.5585084766373707,
          -50.43836320851339,
          -26.896269170207415,
          -30.292376966234816,
          -47.13614958198532,
          -17.91200594213238,
          1.0396627958870022,
          -13.239477955491864,
          65.44222779457718,
          39.64869926541486,
          -0.709694879060124,
          -2.246763352229403,
          -7.432217357640733,
          -26.8831676929632,
          -25.152780231838495,
          32.300885625204586,
          -20.957067323932723,
          -26.570363521070334,
          26.424175649243246,
          -19.48262216377402,
          -21.40280245954527,
          -2.301982135285848,
          49.802835248420436,
          -11.860130537306837,
          -9.226868045615234,
          9.464096728603744,
          -38.35136435103176,
          -4.286384098793559,
          -1.5032234186578464,
          13.861205828414999,
          6.742344963078157,
          -26.70337987413037,
          -43.52983657021751,
          -15.230243012934686,
          -29.059164413124968,
          -5.822410789521347,
          13.873837474557122,
          -18.864424706305623,
          -3.4133825599486407,
          5.466755258778991,
          -30.660242755227916,
          -14.91654581132458,
          -31.423408937210457,
          -19.306746512207948,
          50.001440641874396,
          10.429444257010967,
          51.220706135003354,
          -35.27327272681774,
          64.18352677305027,
          55.074663273382775,
          65.82429957106193,
          10.757637346251872,
          -0.3193593264928788,
          28.898200206520663,
          19.718858829086216,
          -21.119934231621638,
          -33.57837982129782,
          21.901036257994875,
          16.614571130598748,
          54.93584043640398,
          14.35972796078406,
          -8.53574377990885,
          -0.13637817676753503,
          31.958258219002715,
          36.526614661611745,
          -32.109618416770026,
          53.8233062853675,
          -36.10916289428349,
          -17.83800854844378,
          -12.331838045493326,
          -5.844643069807482,
          -13.941559095512831,
          59.389944119275086,
          1.0324696107324798,
          -53.412848669452735,
          -36.9161557016945,
          -30.055240334050037,
          -58.195438280071265,
          -12.605585202603006,
          33.16378799072933,
          -18.880091695312636,
          -24.27656307767537,
          -19.04075685830576,
          -14.76780662583629,
          -52.17012427119799,
          -9.668088975643744,
          -34.88083107133794,
          -40.354461502502986,
          9.84728580063943,
          76.9292076087088,
          13.527609504580306,
          7.592712648338433,
          -5.7573443952817565,
          1.3223617418003493,
          6.934671700765699,
          16.609972919065676,
          -7.75717017799441,
          54.95059863323273,
          -13.8918226157633,
          -4.183860224537905,
          39.61610946330909,
          -43.166968945706486,
          -44.97723946127901,
          -28.885328624521417,
          51.98049997747536,
          45.87622538112085,
          48.98142177222096,
          -16.735761325767854,
          18.037705618438313
         ],
         "z": [
          -16.53596056291286,
          -15.933009179476922,
          -36.53552698757181,
          31.96923447423931,
          -33.077627774199634,
          -17.525612526086174,
          17.493205517300787,
          0.35417185683678565,
          10.483881211414111,
          -11.898742925103937,
          6.011139221242461,
          -32.463661537244455,
          -7.193437927316531,
          7.105346878766207,
          -4.236157505516052,
          11.821384160230972,
          -25.293468236579653,
          -12.575713862774524,
          5.680606549828994,
          -32.15712770014014,
          22.37188494239127,
          -31.273648881879705,
          2.611119963292552,
          -17.51598471591622,
          -28.056645838695175,
          9.501314183276355,
          9.128535045919527,
          -16.652290428920846,
          -24.59153758816682,
          -30.623181602331805,
          -7.989940863288862,
          -3.4379975129361853,
          5.308562464346997,
          -2.49622847263792,
          -27.02713341871878,
          1.5025184461249457,
          53.305257864003295,
          8.467210112465514,
          -14.107023982793544,
          7.823569344166756,
          19.144094010847926,
          -19.360623130741878,
          -29.07429093300753,
          -10.126399656062116,
          -28.08179790997491,
          -8.261918183379855,
          -9.776135935292933,
          70.6671290973589,
          -15.102267722023646,
          17.22884333219676,
          14.064562620435538,
          3.7729235173563294,
          -20.825470229220542,
          3.350744420596905,
          -9.723517493117416,
          -26.56370747739132,
          3.03603454871164,
          9.602204357173354,
          -18.047623524471103,
          6.562507123274594,
          -16.826839969945635,
          40.20248353322936,
          7.9330758430380435,
          -19.435473203685778,
          -16.301706664723564,
          -36.21104869353398,
          24.000950952936837,
          -4.278155858592962,
          21.301352785682656,
          -1.2745685755890324,
          -21.960068236435315,
          3.985398041099096,
          -2.574616031217367,
          -22.447490494427814,
          -1.191674151424533,
          25.238624434548665,
          -31.16200336108349,
          6.778240396646816,
          8.182377894257762,
          -11.16622078984815,
          -31.44075756682962,
          18.210716209744135,
          8.26094048059136,
          7.649208004029887,
          -2.3896709926590383,
          -12.600623986293403,
          0.32633061420341725,
          -9.263432354176588,
          -45.99144615607443,
          -14.116471657771985,
          18.86610504422476,
          -22.241745128549184,
          -10.654536587357448,
          -22.713052398551426,
          -31.137611058733032,
          -3.6850585016511466,
          36.776531849926975,
          -3.9128926783558686,
          7.661658928824669,
          51.89858150840527,
          6.3713118186840685,
          3.844768777508969,
          16.242870404056635,
          -17.06407568963619,
          -6.591328243831692,
          -10.918297902796718,
          -22.870852896763235,
          -5.138547445915716,
          -25.4943503987879,
          3.4294778394653247,
          -28.89967232789627,
          -14.985842868840335,
          6.407020548296512,
          -9.078641678068221,
          -27.99964070489546,
          -8.177672437102556,
          -41.93373142696924,
          -19.113842698722852,
          -17.073597447847945,
          -5.498722366949088,
          -5.65884149610336,
          -33.89054015615191,
          -29.240928456069827,
          -20.04622808283885,
          -49.69075991275865,
          9.858054950240367,
          4.248216697753205,
          -12.76566108724756,
          0.4661207007983074,
          4.472438652713356,
          -25.37257785860563,
          46.57726815643758,
          12.28490572121385,
          20.16697913309128,
          6.5542790359784036,
          -53.014279997655436,
          -26.25603812484985,
          -36.64417779708456,
          -20.426101364111485,
          35.804323497318684,
          -15.194858108712895,
          -13.521665079182863,
          13.28739092319186,
          6.643882353178552,
          -29.314475973883606,
          11.7201467336221,
          -22.261920549067792,
          -27.55850121618698,
          -12.792697103916446,
          8.409592020557803,
          -1.9283378010707344,
          -32.81426552192627,
          0.549461568114426,
          -26.94954654242581,
          -7.089718848245191,
          -53.813384797798754,
          -1.891424405014107,
          -29.431203546697354,
          -31.649179322870662,
          30.74647315012888,
          -24.161952318492748,
          -14.762572617461926,
          0.4570495659770326,
          -18.193405236595314,
          -12.07316681341799,
          -10.490825029804036,
          24.65631387071286,
          -2.395546476698174,
          2.2941238316271937,
          -14.108491741241151,
          -25.20149202647678,
          15.201346518809014,
          -0.44735054523032813,
          -14.361765055794928,
          -32.60417202882107,
          -20.77126724737183,
          -27.149434813585355,
          -8.27680835652025,
          -17.31259052069681,
          9.40711884267319,
          -10.019537252859353,
          0.7792086031270511,
          -8.34606015552874,
          1.1772916363235135,
          -3.5959216175306428,
          -34.21257978002708,
          17.191351817882264,
          22.543923027537836,
          3.1772598483981085,
          17.53173873600462,
          -42.97743126202811,
          -24.143537396412952,
          16.776982640881094,
          -9.459833165382335,
          12.82696644480151,
          -23.048560984631866,
          0.7550771585809078,
          -46.55650648618487,
          -4.265361502386889,
          -14.987485303847114,
          -3.8929943496250834,
          19.99691455810551,
          -4.823703029743841,
          85.38884622761833,
          -11.974639647783325,
          -25.249880632729496,
          60.95151665549269,
          -16.290530601065832,
          6.159351247637838,
          -35.04965006413155,
          -16.067324816737344,
          -1.7987284123998388,
          0.36616839398343287,
          33.38674868456721,
          -16.60422716648086,
          -8.00350176728742,
          -32.51168835787861,
          -31.099623975689408,
          24.19476412951069,
          -12.427390569024043,
          13.697775801247467,
          6.056883246091751,
          8.930432048450724,
          24.386713922598794,
          26.579023980867547,
          -27.415426188855545,
          12.028524955983695,
          5.80418540772523,
          -24.599686989390186,
          5.793952417207552,
          -28.691475724514607,
          -41.35269061769868,
          6.365634911086837,
          30.574266128840147,
          -5.7048622944780885,
          -15.623871638722624,
          18.905308418691213,
          25.41198155491158,
          -5.41646926192145,
          17.669788703087285,
          2.40040674406733,
          -0.7860404513355137,
          -7.539514727485297,
          13.936262016020665,
          28.07223463176712,
          -30.79894203943711,
          11.547902168626603,
          -39.592717430136695,
          -17.14626262661745,
          5.3209218622886265,
          -5.256713641616899,
          -11.00349411436419,
          11.480477920724141,
          -9.552767923006305,
          16.052842394139724,
          -23.597152220673976,
          6.488184874661321,
          1.8213350884830997,
          -30.699256010879168,
          9.948820784509499,
          3.515417641403642,
          -23.083337583093872,
          6.87344177074485,
          18.353143999475165,
          19.016909866284557,
          -6.80569542053146,
          -31.289778377477994,
          -3.777921165862231,
          81.14921178476015,
          3.962453537075707,
          26.593657693908064,
          -11.402792546514656,
          -63.43421856143281,
          -57.25773409577148,
          -1.144709787908435,
          4.8257980945786425,
          3.544190884990999,
          -4.247370490911463,
          -12.595043912143955,
          -10.857091363080599,
          23.223551766279307,
          21.992299692202124,
          -12.131051485981617,
          1.7450421396472853,
          -14.809037266285983,
          14.160124551147236,
          -5.281909398851352,
          -27.467175335868678,
          16.092284888050386,
          -24.8267366100935,
          25.521972222540928,
          -20.043090332329207,
          31.314248756680414,
          31.614290250952568,
          4.830646097203184,
          21.72518117716716,
          13.578500318923494,
          31.565373803268734,
          10.311991079175144,
          24.443068883652746,
          -30.633147592263782,
          -36.57931601603647,
          32.1257244771807,
          -25.08090031451026,
          15.619641418255217,
          -5.091225421771383,
          -23.83781954341442,
          19.002425055835953,
          -0.5713851530790267,
          19.3836203628002,
          17.04804128013538,
          34.559706097873665,
          69.33525361560368,
          51.54394606596139,
          92.42021370064573,
          35.82452736353764,
          175.71585014186775,
          220.14493735978905,
          144.06463265385628,
          196.19779847705593,
          22.818750797069317,
          28.424148581632476,
          34.79173550842891,
          30.96539151613726,
          22.10245498774488,
          19.134273830200577,
          11.687361526117282,
          64.83537520315102
         ]
        }
       ],
       "layout": {
        "coloraxis": {
         "colorbar": {
          "title": {
           "text": "label"
          }
         },
         "colorscale": [
          [
           0,
           "#0d0887"
          ],
          [
           0.1111111111111111,
           "#46039f"
          ],
          [
           0.2222222222222222,
           "#7201a8"
          ],
          [
           0.3333333333333333,
           "#9c179e"
          ],
          [
           0.4444444444444444,
           "#bd3786"
          ],
          [
           0.5555555555555556,
           "#d8576b"
          ],
          [
           0.6666666666666666,
           "#ed7953"
          ],
          [
           0.7777777777777778,
           "#fb9f3a"
          ],
          [
           0.8888888888888888,
           "#fdca26"
          ],
          [
           1,
           "#f0f921"
          ]
         ]
        },
        "legend": {
         "tracegroupgap": 0
        },
        "scene": {
         "domain": {
          "x": [
           0,
           1
          ],
          "y": [
           0,
           1
          ]
         },
         "xaxis": {
          "title": {
           "text": "PC1"
          }
         },
         "yaxis": {
          "title": {
           "text": "PC2"
          }
         },
         "zaxis": {
          "title": {
           "text": "PC3"
          }
         }
        },
        "template": {
         "data": {
          "bar": [
           {
            "error_x": {
             "color": "#2a3f5f"
            },
            "error_y": {
             "color": "#2a3f5f"
            },
            "marker": {
             "line": {
              "color": "#E5ECF6",
              "width": 0.5
             },
             "pattern": {
              "fillmode": "overlay",
              "size": 10,
              "solidity": 0.2
             }
            },
            "type": "bar"
           }
          ],
          "barpolar": [
           {
            "marker": {
             "line": {
              "color": "#E5ECF6",
              "width": 0.5
             },
             "pattern": {
              "fillmode": "overlay",
              "size": 10,
              "solidity": 0.2
             }
            },
            "type": "barpolar"
           }
          ],
          "carpet": [
           {
            "aaxis": {
             "endlinecolor": "#2a3f5f",
             "gridcolor": "white",
             "linecolor": "white",
             "minorgridcolor": "white",
             "startlinecolor": "#2a3f5f"
            },
            "baxis": {
             "endlinecolor": "#2a3f5f",
             "gridcolor": "white",
             "linecolor": "white",
             "minorgridcolor": "white",
             "startlinecolor": "#2a3f5f"
            },
            "type": "carpet"
           }
          ],
          "choropleth": [
           {
            "colorbar": {
             "outlinewidth": 0,
             "ticks": ""
            },
            "type": "choropleth"
           }
          ],
          "contour": [
           {
            "colorbar": {
             "outlinewidth": 0,
             "ticks": ""
            },
            "colorscale": [
             [
              0,
              "#0d0887"
             ],
             [
              0.1111111111111111,
              "#46039f"
             ],
             [
              0.2222222222222222,
              "#7201a8"
             ],
             [
              0.3333333333333333,
              "#9c179e"
             ],
             [
              0.4444444444444444,
              "#bd3786"
             ],
             [
              0.5555555555555556,
              "#d8576b"
             ],
             [
              0.6666666666666666,
              "#ed7953"
             ],
             [
              0.7777777777777778,
              "#fb9f3a"
             ],
             [
              0.8888888888888888,
              "#fdca26"
             ],
             [
              1,
              "#f0f921"
             ]
            ],
            "type": "contour"
           }
          ],
          "contourcarpet": [
           {
            "colorbar": {
             "outlinewidth": 0,
             "ticks": ""
            },
            "type": "contourcarpet"
           }
          ],
          "heatmap": [
           {
            "colorbar": {
             "outlinewidth": 0,
             "ticks": ""
            },
            "colorscale": [
             [
              0,
              "#0d0887"
             ],
             [
              0.1111111111111111,
              "#46039f"
             ],
             [
              0.2222222222222222,
              "#7201a8"
             ],
             [
              0.3333333333333333,
              "#9c179e"
             ],
             [
              0.4444444444444444,
              "#bd3786"
             ],
             [
              0.5555555555555556,
              "#d8576b"
             ],
             [
              0.6666666666666666,
              "#ed7953"
             ],
             [
              0.7777777777777778,
              "#fb9f3a"
             ],
             [
              0.8888888888888888,
              "#fdca26"
             ],
             [
              1,
              "#f0f921"
             ]
            ],
            "type": "heatmap"
           }
          ],
          "heatmapgl": [
           {
            "colorbar": {
             "outlinewidth": 0,
             "ticks": ""
            },
            "colorscale": [
             [
              0,
              "#0d0887"
             ],
             [
              0.1111111111111111,
              "#46039f"
             ],
             [
              0.2222222222222222,
              "#7201a8"
             ],
             [
              0.3333333333333333,
              "#9c179e"
             ],
             [
              0.4444444444444444,
              "#bd3786"
             ],
             [
              0.5555555555555556,
              "#d8576b"
             ],
             [
              0.6666666666666666,
              "#ed7953"
             ],
             [
              0.7777777777777778,
              "#fb9f3a"
             ],
             [
              0.8888888888888888,
              "#fdca26"
             ],
             [
              1,
              "#f0f921"
             ]
            ],
            "type": "heatmapgl"
           }
          ],
          "histogram": [
           {
            "marker": {
             "pattern": {
              "fillmode": "overlay",
              "size": 10,
              "solidity": 0.2
             }
            },
            "type": "histogram"
           }
          ],
          "histogram2d": [
           {
            "colorbar": {
             "outlinewidth": 0,
             "ticks": ""
            },
            "colorscale": [
             [
              0,
              "#0d0887"
             ],
             [
              0.1111111111111111,
              "#46039f"
             ],
             [
              0.2222222222222222,
              "#7201a8"
             ],
             [
              0.3333333333333333,
              "#9c179e"
             ],
             [
              0.4444444444444444,
              "#bd3786"
             ],
             [
              0.5555555555555556,
              "#d8576b"
             ],
             [
              0.6666666666666666,
              "#ed7953"
             ],
             [
              0.7777777777777778,
              "#fb9f3a"
             ],
             [
              0.8888888888888888,
              "#fdca26"
             ],
             [
              1,
              "#f0f921"
             ]
            ],
            "type": "histogram2d"
           }
          ],
          "histogram2dcontour": [
           {
            "colorbar": {
             "outlinewidth": 0,
             "ticks": ""
            },
            "colorscale": [
             [
              0,
              "#0d0887"
             ],
             [
              0.1111111111111111,
              "#46039f"
             ],
             [
              0.2222222222222222,
              "#7201a8"
             ],
             [
              0.3333333333333333,
              "#9c179e"
             ],
             [
              0.4444444444444444,
              "#bd3786"
             ],
             [
              0.5555555555555556,
              "#d8576b"
             ],
             [
              0.6666666666666666,
              "#ed7953"
             ],
             [
              0.7777777777777778,
              "#fb9f3a"
             ],
             [
              0.8888888888888888,
              "#fdca26"
             ],
             [
              1,
              "#f0f921"
             ]
            ],
            "type": "histogram2dcontour"
           }
          ],
          "mesh3d": [
           {
            "colorbar": {
             "outlinewidth": 0,
             "ticks": ""
            },
            "type": "mesh3d"
           }
          ],
          "parcoords": [
           {
            "line": {
             "colorbar": {
              "outlinewidth": 0,
              "ticks": ""
             }
            },
            "type": "parcoords"
           }
          ],
          "pie": [
           {
            "automargin": true,
            "type": "pie"
           }
          ],
          "scatter": [
           {
            "fillpattern": {
             "fillmode": "overlay",
             "size": 10,
             "solidity": 0.2
            },
            "type": "scatter"
           }
          ],
          "scatter3d": [
           {
            "line": {
             "colorbar": {
              "outlinewidth": 0,
              "ticks": ""
             }
            },
            "marker": {
             "colorbar": {
              "outlinewidth": 0,
              "ticks": ""
             }
            },
            "type": "scatter3d"
           }
          ],
          "scattercarpet": [
           {
            "marker": {
             "colorbar": {
              "outlinewidth": 0,
              "ticks": ""
             }
            },
            "type": "scattercarpet"
           }
          ],
          "scattergeo": [
           {
            "marker": {
             "colorbar": {
              "outlinewidth": 0,
              "ticks": ""
             }
            },
            "type": "scattergeo"
           }
          ],
          "scattergl": [
           {
            "marker": {
             "colorbar": {
              "outlinewidth": 0,
              "ticks": ""
             }
            },
            "type": "scattergl"
           }
          ],
          "scattermapbox": [
           {
            "marker": {
             "colorbar": {
              "outlinewidth": 0,
              "ticks": ""
             }
            },
            "type": "scattermapbox"
           }
          ],
          "scatterpolar": [
           {
            "marker": {
             "colorbar": {
              "outlinewidth": 0,
              "ticks": ""
             }
            },
            "type": "scatterpolar"
           }
          ],
          "scatterpolargl": [
           {
            "marker": {
             "colorbar": {
              "outlinewidth": 0,
              "ticks": ""
             }
            },
            "type": "scatterpolargl"
           }
          ],
          "scatterternary": [
           {
            "marker": {
             "colorbar": {
              "outlinewidth": 0,
              "ticks": ""
             }
            },
            "type": "scatterternary"
           }
          ],
          "surface": [
           {
            "colorbar": {
             "outlinewidth": 0,
             "ticks": ""
            },
            "colorscale": [
             [
              0,
              "#0d0887"
             ],
             [
              0.1111111111111111,
              "#46039f"
             ],
             [
              0.2222222222222222,
              "#7201a8"
             ],
             [
              0.3333333333333333,
              "#9c179e"
             ],
             [
              0.4444444444444444,
              "#bd3786"
             ],
             [
              0.5555555555555556,
              "#d8576b"
             ],
             [
              0.6666666666666666,
              "#ed7953"
             ],
             [
              0.7777777777777778,
              "#fb9f3a"
             ],
             [
              0.8888888888888888,
              "#fdca26"
             ],
             [
              1,
              "#f0f921"
             ]
            ],
            "type": "surface"
           }
          ],
          "table": [
           {
            "cells": {
             "fill": {
              "color": "#EBF0F8"
             },
             "line": {
              "color": "white"
             }
            },
            "header": {
             "fill": {
              "color": "#C8D4E3"
             },
             "line": {
              "color": "white"
             }
            },
            "type": "table"
           }
          ]
         },
         "layout": {
          "annotationdefaults": {
           "arrowcolor": "#2a3f5f",
           "arrowhead": 0,
           "arrowwidth": 1
          },
          "autotypenumbers": "strict",
          "coloraxis": {
           "colorbar": {
            "outlinewidth": 0,
            "ticks": ""
           }
          },
          "colorscale": {
           "diverging": [
            [
             0,
             "#8e0152"
            ],
            [
             0.1,
             "#c51b7d"
            ],
            [
             0.2,
             "#de77ae"
            ],
            [
             0.3,
             "#f1b6da"
            ],
            [
             0.4,
             "#fde0ef"
            ],
            [
             0.5,
             "#f7f7f7"
            ],
            [
             0.6,
             "#e6f5d0"
            ],
            [
             0.7,
             "#b8e186"
            ],
            [
             0.8,
             "#7fbc41"
            ],
            [
             0.9,
             "#4d9221"
            ],
            [
             1,
             "#276419"
            ]
           ],
           "sequential": [
            [
             0,
             "#0d0887"
            ],
            [
             0.1111111111111111,
             "#46039f"
            ],
            [
             0.2222222222222222,
             "#7201a8"
            ],
            [
             0.3333333333333333,
             "#9c179e"
            ],
            [
             0.4444444444444444,
             "#bd3786"
            ],
            [
             0.5555555555555556,
             "#d8576b"
            ],
            [
             0.6666666666666666,
             "#ed7953"
            ],
            [
             0.7777777777777778,
             "#fb9f3a"
            ],
            [
             0.8888888888888888,
             "#fdca26"
            ],
            [
             1,
             "#f0f921"
            ]
           ],
           "sequentialminus": [
            [
             0,
             "#0d0887"
            ],
            [
             0.1111111111111111,
             "#46039f"
            ],
            [
             0.2222222222222222,
             "#7201a8"
            ],
            [
             0.3333333333333333,
             "#9c179e"
            ],
            [
             0.4444444444444444,
             "#bd3786"
            ],
            [
             0.5555555555555556,
             "#d8576b"
            ],
            [
             0.6666666666666666,
             "#ed7953"
            ],
            [
             0.7777777777777778,
             "#fb9f3a"
            ],
            [
             0.8888888888888888,
             "#fdca26"
            ],
            [
             1,
             "#f0f921"
            ]
           ]
          },
          "colorway": [
           "#636efa",
           "#EF553B",
           "#00cc96",
           "#ab63fa",
           "#FFA15A",
           "#19d3f3",
           "#FF6692",
           "#B6E880",
           "#FF97FF",
           "#FECB52"
          ],
          "font": {
           "color": "#2a3f5f"
          },
          "geo": {
           "bgcolor": "white",
           "lakecolor": "white",
           "landcolor": "#E5ECF6",
           "showlakes": true,
           "showland": true,
           "subunitcolor": "white"
          },
          "hoverlabel": {
           "align": "left"
          },
          "hovermode": "closest",
          "mapbox": {
           "style": "light"
          },
          "paper_bgcolor": "white",
          "plot_bgcolor": "#E5ECF6",
          "polar": {
           "angularaxis": {
            "gridcolor": "white",
            "linecolor": "white",
            "ticks": ""
           },
           "bgcolor": "#E5ECF6",
           "radialaxis": {
            "gridcolor": "white",
            "linecolor": "white",
            "ticks": ""
           }
          },
          "scene": {
           "xaxis": {
            "backgroundcolor": "#E5ECF6",
            "gridcolor": "white",
            "gridwidth": 2,
            "linecolor": "white",
            "showbackground": true,
            "ticks": "",
            "zerolinecolor": "white"
           },
           "yaxis": {
            "backgroundcolor": "#E5ECF6",
            "gridcolor": "white",
            "gridwidth": 2,
            "linecolor": "white",
            "showbackground": true,
            "ticks": "",
            "zerolinecolor": "white"
           },
           "zaxis": {
            "backgroundcolor": "#E5ECF6",
            "gridcolor": "white",
            "gridwidth": 2,
            "linecolor": "white",
            "showbackground": true,
            "ticks": "",
            "zerolinecolor": "white"
           }
          },
          "shapedefaults": {
           "line": {
            "color": "#2a3f5f"
           }
          },
          "ternary": {
           "aaxis": {
            "gridcolor": "white",
            "linecolor": "white",
            "ticks": ""
           },
           "baxis": {
            "gridcolor": "white",
            "linecolor": "white",
            "ticks": ""
           },
           "bgcolor": "#E5ECF6",
           "caxis": {
            "gridcolor": "white",
            "linecolor": "white",
            "ticks": ""
           }
          },
          "title": {
           "x": 0.05
          },
          "xaxis": {
           "automargin": true,
           "gridcolor": "white",
           "linecolor": "white",
           "ticks": "",
           "title": {
            "standoff": 15
           },
           "zerolinecolor": "white",
           "zerolinewidth": 2
          },
          "yaxis": {
           "automargin": true,
           "gridcolor": "white",
           "linecolor": "white",
           "ticks": "",
           "title": {
            "standoff": 15
           },
           "zerolinecolor": "white",
           "zerolinewidth": 2
          }
         }
        },
        "title": {
         "text": "PCA 3D Projection"
        }
       }
      }
     },
     "metadata": {},
     "output_type": "display_data"
    }
   ],
   "source": [
    "# 3d pca plot \n",
    "pca_3d = PCA(n_components=3)\n",
    "reduced_3d = pca_3d.fit_transform(X_scaled)\n",
    "\n",
    "df_3d = pd.DataFrame(reduced_3d, columns=['PC1', 'PC2', 'PC3'])\n",
    "df_3d['label'] = y.values\n",
    "\n",
    "fig = px.scatter_3d(df_3d, x='PC1', y='PC2', z='PC3', color='label',\n",
    "                    title='PCA 3D Projection')\n",
    "fig.show()"
   ]
  },
  {
   "cell_type": "code",
   "execution_count": 18,
   "id": "621c370d",
   "metadata": {},
   "outputs": [
    {
     "name": "stdout",
     "output_type": "stream",
     "text": [
      "\n",
      "==== PCA Components = 25 ====\n",
      "\n",
      "-- Fold 1 --\n",
      "Logistic Regression - F1: 1.0000, ROC-AUC: 1.0000\n",
      "Confusion Matrix:\n",
      " [[ 2  0]\n",
      " [ 0 31]]\n",
      "[Permutation] Logistic Regression - F1 with shuffled labels: 0.9403\n",
      "SVM (RBF) - F1: 1.0000, ROC-AUC: 1.0000\n",
      "Confusion Matrix:\n",
      " [[ 2  0]\n",
      " [ 0 31]]\n",
      "[Permutation] SVM (RBF) - F1 with shuffled labels: 0.9355\n",
      "Random Forest - F1: 1.0000, ROC-AUC: 1.0000\n",
      "Confusion Matrix:\n",
      " [[ 2  0]\n",
      " [ 0 31]]\n",
      "[Permutation] Random Forest - F1 with shuffled labels: 0.9387\n",
      "XGBoost - F1: 0.9667, ROC-AUC: 1.0000\n",
      "Confusion Matrix:\n",
      " [[ 2  0]\n",
      " [ 2 29]]\n",
      "[Permutation] XGBoost - F1 with shuffled labels: 0.9067\n",
      "\n",
      "-- Fold 2 --\n",
      "Logistic Regression - F1: 1.0000, ROC-AUC: 1.0000\n",
      "Confusion Matrix:\n",
      " [[ 2  0]\n",
      " [ 0 31]]\n",
      "[Permutation] Logistic Regression - F1 with shuffled labels: 0.9355\n",
      "SVM (RBF) - F1: 0.9841, ROC-AUC: 1.0000\n",
      "Confusion Matrix:\n",
      " [[ 1  1]\n",
      " [ 0 31]]\n",
      "[Permutation] SVM (RBF) - F1 with shuffled labels: 0.9540\n",
      "Random Forest - F1: 0.9841, ROC-AUC: 1.0000\n",
      "Confusion Matrix:\n",
      " [[ 1  1]\n",
      " [ 0 31]]\n",
      "[Permutation] Random Forest - F1 with shuffled labels: 0.9556\n",
      "XGBoost - F1: 0.9508, ROC-AUC: 0.9677\n",
      "Confusion Matrix:\n",
      " [[ 1  1]\n",
      " [ 2 29]]\n",
      "[Permutation] XGBoost - F1 with shuffled labels: 0.9262\n",
      "\n",
      "-- Fold 3 --\n",
      "Logistic Regression - F1: 1.0000, ROC-AUC: 1.0000\n",
      "Confusion Matrix:\n",
      " [[ 2  0]\n",
      " [ 0 31]]\n",
      "[Permutation] Logistic Regression - F1 with shuffled labels: 0.9419\n",
      "SVM (RBF) - F1: 0.9688, ROC-AUC: 1.0000\n",
      "Confusion Matrix:\n",
      " [[ 0  2]\n",
      " [ 0 31]]\n",
      "[Permutation] SVM (RBF) - F1 with shuffled labels: 0.9688\n",
      "Random Forest - F1: 0.9688, ROC-AUC: 1.0000\n",
      "Confusion Matrix:\n",
      " [[ 0  2]\n",
      " [ 0 31]]\n",
      "[Permutation] Random Forest - F1 with shuffled labels: 0.9688\n",
      "XGBoost - F1: 1.0000, ROC-AUC: 1.0000\n",
      "Confusion Matrix:\n",
      " [[ 2  0]\n",
      " [ 0 31]]\n",
      "[Permutation] XGBoost - F1 with shuffled labels: 0.9371\n",
      "\n",
      "-- Fold 4 --\n",
      "Logistic Regression - F1: 1.0000, ROC-AUC: 1.0000\n",
      "Confusion Matrix:\n",
      " [[ 2  0]\n",
      " [ 0 31]]\n",
      "[Permutation] Logistic Regression - F1 with shuffled labels: 0.9387\n",
      "SVM (RBF) - F1: 1.0000, ROC-AUC: 1.0000\n",
      "Confusion Matrix:\n",
      " [[ 2  0]\n",
      " [ 0 31]]\n",
      "[Permutation] SVM (RBF) - F1 with shuffled labels: 0.9355\n",
      "Random Forest - F1: 1.0000, ROC-AUC: 1.0000\n",
      "Confusion Matrix:\n",
      " [[ 2  0]\n",
      " [ 0 31]]\n",
      "[Permutation] Random Forest - F1 with shuffled labels: 0.9403\n",
      "XGBoost - F1: 1.0000, ROC-AUC: 1.0000\n",
      "Confusion Matrix:\n",
      " [[ 2  0]\n",
      " [ 0 31]]\n",
      "[Permutation] XGBoost - F1 with shuffled labels: 0.9419\n",
      "\n",
      "-- Fold 5 --\n",
      "Logistic Regression - F1: 1.0000, ROC-AUC: 1.0000\n",
      "Confusion Matrix:\n",
      " [[ 2  0]\n",
      " [ 0 31]]\n",
      "[Permutation] Logistic Regression - F1 with shuffled labels: 0.9387\n",
      "SVM (RBF) - F1: 0.9836, ROC-AUC: 1.0000\n",
      "Confusion Matrix:\n",
      " [[ 2  0]\n",
      " [ 1 30]]\n",
      "[Permutation] SVM (RBF) - F1 with shuffled labels: 0.9279\n",
      "Random Forest - F1: 1.0000, ROC-AUC: 1.0000\n",
      "Confusion Matrix:\n",
      " [[ 2  0]\n",
      " [ 0 31]]\n",
      "[Permutation] Random Forest - F1 with shuffled labels: 0.9355\n",
      "XGBoost - F1: 1.0000, ROC-AUC: 1.0000\n",
      "Confusion Matrix:\n",
      " [[ 2  0]\n",
      " [ 0 31]]\n",
      "[Permutation] XGBoost - F1 with shuffled labels: 0.9435\n",
      "\n",
      "-- Fold 6 --\n",
      "Logistic Regression - F1: 1.0000, ROC-AUC: 1.0000\n",
      "Confusion Matrix:\n",
      " [[ 2  0]\n",
      " [ 0 31]]\n",
      "[Permutation] Logistic Regression - F1 with shuffled labels: 0.9387\n",
      "SVM (RBF) - F1: 1.0000, ROC-AUC: 1.0000\n",
      "Confusion Matrix:\n",
      " [[ 2  0]\n",
      " [ 0 31]]\n",
      "[Permutation] SVM (RBF) - F1 with shuffled labels: 0.9403\n",
      "Random Forest - F1: 1.0000, ROC-AUC: 1.0000\n",
      "Confusion Matrix:\n",
      " [[ 2  0]\n",
      " [ 0 31]]\n",
      "[Permutation] Random Forest - F1 with shuffled labels: 0.9435\n",
      "XGBoost - F1: 1.0000, ROC-AUC: 1.0000\n",
      "Confusion Matrix:\n",
      " [[ 2  0]\n",
      " [ 0 31]]\n",
      "[Permutation] XGBoost - F1 with shuffled labels: 0.9435\n",
      "\n",
      "-- Fold 7 --\n",
      "Logistic Regression - F1: 1.0000, ROC-AUC: 1.0000\n",
      "Confusion Matrix:\n",
      " [[ 2  0]\n",
      " [ 0 31]]\n",
      "[Permutation] Logistic Regression - F1 with shuffled labels: 0.9403\n",
      "SVM (RBF) - F1: 1.0000, ROC-AUC: 1.0000\n",
      "Confusion Matrix:\n",
      " [[ 2  0]\n",
      " [ 0 31]]\n",
      "[Permutation] SVM (RBF) - F1 with shuffled labels: 0.9419\n",
      "Random Forest - F1: 0.9688, ROC-AUC: 1.0000\n",
      "Confusion Matrix:\n",
      " [[ 0  2]\n",
      " [ 0 31]]\n",
      "[Permutation] Random Forest - F1 with shuffled labels: 0.9688\n",
      "XGBoost - F1: 1.0000, ROC-AUC: 1.0000\n",
      "Confusion Matrix:\n",
      " [[ 2  0]\n",
      " [ 0 31]]\n",
      "[Permutation] XGBoost - F1 with shuffled labels: 0.9403\n",
      "\n",
      "-- Fold 8 --\n",
      "Logistic Regression - F1: 0.9836, ROC-AUC: 1.0000\n",
      "Confusion Matrix:\n",
      " [[ 2  0]\n",
      " [ 1 30]]\n",
      "[Permutation] Logistic Regression - F1 with shuffled labels: 0.9279\n",
      "SVM (RBF) - F1: 1.0000, ROC-AUC: 1.0000\n",
      "Confusion Matrix:\n",
      " [[ 2  0]\n",
      " [ 0 31]]\n",
      "[Permutation] SVM (RBF) - F1 with shuffled labels: 0.9371\n",
      "Random Forest - F1: 1.0000, ROC-AUC: 1.0000\n",
      "Confusion Matrix:\n",
      " [[ 2  0]\n",
      " [ 0 31]]\n",
      "[Permutation] Random Forest - F1 with shuffled labels: 0.9355\n",
      "XGBoost - F1: 1.0000, ROC-AUC: 1.0000\n",
      "Confusion Matrix:\n",
      " [[ 2  0]\n",
      " [ 0 31]]\n",
      "[Permutation] XGBoost - F1 with shuffled labels: 0.9435\n",
      "\n",
      "-- Fold 9 --\n",
      "Logistic Regression - F1: 1.0000, ROC-AUC: 1.0000\n",
      "Confusion Matrix:\n",
      " [[ 1  0]\n",
      " [ 0 31]]\n",
      "[Permutation] Logistic Regression - F1 with shuffled labels: 0.9710\n",
      "SVM (RBF) - F1: 1.0000, ROC-AUC: 1.0000\n",
      "Confusion Matrix:\n",
      " [[ 1  0]\n",
      " [ 0 31]]\n",
      "[Permutation] SVM (RBF) - F1 with shuffled labels: 0.9694\n",
      "Random Forest - F1: 1.0000, ROC-AUC: 1.0000\n",
      "Confusion Matrix:\n",
      " [[ 1  0]\n",
      " [ 0 31]]\n",
      "[Permutation] Random Forest - F1 with shuffled labels: 0.9677\n",
      "XGBoost - F1: 1.0000, ROC-AUC: 1.0000\n",
      "Confusion Matrix:\n",
      " [[ 1  0]\n",
      " [ 0 31]]\n",
      "[Permutation] XGBoost - F1 with shuffled labels: 0.9694\n",
      "\n",
      "-- Fold 10 --\n",
      "Logistic Regression - F1: 1.0000, ROC-AUC: 1.0000\n",
      "Confusion Matrix:\n",
      " [[ 2  0]\n",
      " [ 0 30]]\n",
      "[Permutation] Logistic Regression - F1 with shuffled labels: 0.9400\n",
      "SVM (RBF) - F1: 1.0000, ROC-AUC: 1.0000\n",
      "Confusion Matrix:\n",
      " [[ 2  0]\n",
      " [ 0 30]]\n",
      "[Permutation] SVM (RBF) - F1 with shuffled labels: 0.9350\n",
      "Random Forest - F1: 0.9836, ROC-AUC: 1.0000\n",
      "Confusion Matrix:\n",
      " [[ 1  1]\n",
      " [ 0 30]]\n",
      "[Permutation] Random Forest - F1 with shuffled labels: 0.9525\n",
      "XGBoost - F1: 1.0000, ROC-AUC: 1.0000\n",
      "Confusion Matrix:\n",
      " [[ 2  0]\n",
      " [ 0 30]]\n",
      "[Permutation] XGBoost - F1 with shuffled labels: 0.9367\n",
      "\n",
      "==== PCA Components = 50 ====\n",
      "\n",
      "-- Fold 1 --\n",
      "Logistic Regression - F1: 1.0000, ROC-AUC: 1.0000\n",
      "Confusion Matrix:\n",
      " [[ 2  0]\n",
      " [ 0 31]]\n",
      "[Permutation] Logistic Regression - F1 with shuffled labels: 0.9387\n",
      "SVM (RBF) - F1: 1.0000, ROC-AUC: 1.0000\n",
      "Confusion Matrix:\n",
      " [[ 2  0]\n",
      " [ 0 31]]\n",
      "[Permutation] SVM (RBF) - F1 with shuffled labels: 0.9371\n",
      "Random Forest - F1: 1.0000, ROC-AUC: 1.0000\n",
      "Confusion Matrix:\n",
      " [[ 2  0]\n",
      " [ 0 31]]\n",
      "[Permutation] Random Forest - F1 with shuffled labels: 0.9419\n",
      "XGBoost - F1: 0.9667, ROC-AUC: 1.0000\n",
      "Confusion Matrix:\n",
      " [[ 2  0]\n",
      " [ 2 29]]\n",
      "[Permutation] XGBoost - F1 with shuffled labels: 0.9133\n",
      "\n",
      "-- Fold 2 --\n",
      "Logistic Regression - F1: 1.0000, ROC-AUC: 1.0000\n",
      "Confusion Matrix:\n",
      " [[ 2  0]\n",
      " [ 0 31]]\n",
      "[Permutation] Logistic Regression - F1 with shuffled labels: 0.9371\n",
      "SVM (RBF) - F1: 0.9841, ROC-AUC: 1.0000\n",
      "Confusion Matrix:\n",
      " [[ 1  1]\n",
      " [ 0 31]]\n",
      "[Permutation] SVM (RBF) - F1 with shuffled labels: 0.9587\n",
      "Random Forest - F1: 0.9841, ROC-AUC: 1.0000\n",
      "Confusion Matrix:\n",
      " [[ 1  1]\n",
      " [ 0 31]]\n",
      "[Permutation] Random Forest - F1 with shuffled labels: 0.9556\n",
      "XGBoost - F1: 0.9508, ROC-AUC: 0.9677\n",
      "Confusion Matrix:\n",
      " [[ 1  1]\n",
      " [ 2 29]]\n",
      "[Permutation] XGBoost - F1 with shuffled labels: 0.9213\n",
      "\n",
      "-- Fold 3 --\n",
      "Logistic Regression - F1: 1.0000, ROC-AUC: 1.0000\n",
      "Confusion Matrix:\n",
      " [[ 2  0]\n",
      " [ 0 31]]\n",
      "[Permutation] Logistic Regression - F1 with shuffled labels: 0.9419\n",
      "SVM (RBF) - F1: 0.9688, ROC-AUC: 1.0000\n",
      "Confusion Matrix:\n",
      " [[ 0  2]\n",
      " [ 0 31]]\n",
      "[Permutation] SVM (RBF) - F1 with shuffled labels: 0.9688\n",
      "Random Forest - F1: 0.9688, ROC-AUC: 1.0000\n",
      "Confusion Matrix:\n",
      " [[ 0  2]\n",
      " [ 0 31]]\n",
      "[Permutation] Random Forest - F1 with shuffled labels: 0.9688\n",
      "XGBoost - F1: 1.0000, ROC-AUC: 1.0000\n",
      "Confusion Matrix:\n",
      " [[ 2  0]\n",
      " [ 0 31]]\n",
      "[Permutation] XGBoost - F1 with shuffled labels: 0.9355\n",
      "\n",
      "-- Fold 4 --\n",
      "Logistic Regression - F1: 1.0000, ROC-AUC: 1.0000\n",
      "Confusion Matrix:\n",
      " [[ 2  0]\n",
      " [ 0 31]]\n",
      "[Permutation] Logistic Regression - F1 with shuffled labels: 0.9387\n",
      "SVM (RBF) - F1: 1.0000, ROC-AUC: 1.0000\n",
      "Confusion Matrix:\n",
      " [[ 2  0]\n",
      " [ 0 31]]\n",
      "[Permutation] SVM (RBF) - F1 with shuffled labels: 0.9387\n",
      "Random Forest - F1: 1.0000, ROC-AUC: 1.0000\n",
      "Confusion Matrix:\n",
      " [[ 2  0]\n",
      " [ 0 31]]\n",
      "[Permutation] Random Forest - F1 with shuffled labels: 0.9387\n",
      "XGBoost - F1: 1.0000, ROC-AUC: 1.0000\n",
      "Confusion Matrix:\n",
      " [[ 2  0]\n",
      " [ 0 31]]\n",
      "[Permutation] XGBoost - F1 with shuffled labels: 0.9387\n",
      "\n",
      "-- Fold 5 --\n",
      "Logistic Regression - F1: 1.0000, ROC-AUC: 1.0000\n",
      "Confusion Matrix:\n",
      " [[ 2  0]\n",
      " [ 0 31]]\n",
      "[Permutation] Logistic Regression - F1 with shuffled labels: 0.9403\n",
      "SVM (RBF) - F1: 1.0000, ROC-AUC: 1.0000\n",
      "Confusion Matrix:\n",
      " [[ 2  0]\n",
      " [ 0 31]]\n",
      "[Permutation] SVM (RBF) - F1 with shuffled labels: 0.9371\n",
      "Random Forest - F1: 1.0000, ROC-AUC: 1.0000\n",
      "Confusion Matrix:\n",
      " [[ 2  0]\n",
      " [ 0 31]]\n",
      "[Permutation] Random Forest - F1 with shuffled labels: 0.9435\n",
      "XGBoost - F1: 1.0000, ROC-AUC: 1.0000\n",
      "Confusion Matrix:\n",
      " [[ 2  0]\n",
      " [ 0 31]]\n",
      "[Permutation] XGBoost - F1 with shuffled labels: 0.9387\n",
      "\n",
      "-- Fold 6 --\n",
      "Logistic Regression - F1: 1.0000, ROC-AUC: 1.0000\n",
      "Confusion Matrix:\n",
      " [[ 2  0]\n",
      " [ 0 31]]\n",
      "[Permutation] Logistic Regression - F1 with shuffled labels: 0.9468\n",
      "SVM (RBF) - F1: 1.0000, ROC-AUC: 1.0000\n",
      "Confusion Matrix:\n",
      " [[ 2  0]\n",
      " [ 0 31]]\n",
      "[Permutation] SVM (RBF) - F1 with shuffled labels: 0.9371\n",
      "Random Forest - F1: 1.0000, ROC-AUC: 1.0000\n",
      "Confusion Matrix:\n",
      " [[ 2  0]\n",
      " [ 0 31]]\n",
      "[Permutation] Random Forest - F1 with shuffled labels: 0.9355\n",
      "XGBoost - F1: 1.0000, ROC-AUC: 1.0000\n",
      "Confusion Matrix:\n",
      " [[ 2  0]\n",
      " [ 0 31]]\n",
      "[Permutation] XGBoost - F1 with shuffled labels: 0.9403\n",
      "\n",
      "-- Fold 7 --\n",
      "Logistic Regression - F1: 1.0000, ROC-AUC: 1.0000\n",
      "Confusion Matrix:\n",
      " [[ 2  0]\n",
      " [ 0 31]]\n",
      "[Permutation] Logistic Regression - F1 with shuffled labels: 0.9435\n",
      "SVM (RBF) - F1: 1.0000, ROC-AUC: 1.0000\n",
      "Confusion Matrix:\n",
      " [[ 2  0]\n",
      " [ 0 31]]\n",
      "[Permutation] SVM (RBF) - F1 with shuffled labels: 0.9419\n",
      "Random Forest - F1: 0.9688, ROC-AUC: 1.0000\n",
      "Confusion Matrix:\n",
      " [[ 0  2]\n",
      " [ 0 31]]\n",
      "[Permutation] Random Forest - F1 with shuffled labels: 0.9688\n",
      "XGBoost - F1: 1.0000, ROC-AUC: 1.0000\n",
      "Confusion Matrix:\n",
      " [[ 2  0]\n",
      " [ 0 31]]\n",
      "[Permutation] XGBoost - F1 with shuffled labels: 0.9371\n",
      "\n",
      "-- Fold 8 --\n",
      "Logistic Regression - F1: 1.0000, ROC-AUC: 1.0000\n",
      "Confusion Matrix:\n",
      " [[ 2  0]\n",
      " [ 0 31]]\n",
      "[Permutation] Logistic Regression - F1 with shuffled labels: 0.9387\n",
      "SVM (RBF) - F1: 1.0000, ROC-AUC: 1.0000\n",
      "Confusion Matrix:\n",
      " [[ 2  0]\n",
      " [ 0 31]]\n",
      "[Permutation] SVM (RBF) - F1 with shuffled labels: 0.9371\n",
      "Random Forest - F1: 1.0000, ROC-AUC: 1.0000\n",
      "Confusion Matrix:\n",
      " [[ 2  0]\n",
      " [ 0 31]]\n",
      "[Permutation] Random Forest - F1 with shuffled labels: 0.9435\n",
      "XGBoost - F1: 1.0000, ROC-AUC: 1.0000\n",
      "Confusion Matrix:\n",
      " [[ 2  0]\n",
      " [ 0 31]]\n",
      "[Permutation] XGBoost - F1 with shuffled labels: 0.9371\n",
      "\n",
      "-- Fold 9 --\n",
      "Logistic Regression - F1: 1.0000, ROC-AUC: 1.0000\n",
      "Confusion Matrix:\n",
      " [[ 1  0]\n",
      " [ 0 31]]\n",
      "[Permutation] Logistic Regression - F1 with shuffled labels: 0.9677\n",
      "SVM (RBF) - F1: 1.0000, ROC-AUC: 1.0000\n",
      "Confusion Matrix:\n",
      " [[ 1  0]\n",
      " [ 0 31]]\n",
      "[Permutation] SVM (RBF) - F1 with shuffled labels: 0.9694\n",
      "Random Forest - F1: 0.9841, ROC-AUC: 1.0000\n",
      "Confusion Matrix:\n",
      " [[ 0  1]\n",
      " [ 0 31]]\n",
      "[Permutation] Random Forest - F1 with shuffled labels: 0.9841\n",
      "XGBoost - F1: 1.0000, ROC-AUC: 1.0000\n",
      "Confusion Matrix:\n",
      " [[ 1  0]\n",
      " [ 0 31]]\n",
      "[Permutation] XGBoost - F1 with shuffled labels: 0.9677\n",
      "\n",
      "-- Fold 10 --\n",
      "Logistic Regression - F1: 1.0000, ROC-AUC: 1.0000\n",
      "Confusion Matrix:\n",
      " [[ 2  0]\n",
      " [ 0 30]]\n",
      "[Permutation] Logistic Regression - F1 with shuffled labels: 0.9417\n",
      "SVM (RBF) - F1: 1.0000, ROC-AUC: 1.0000\n",
      "Confusion Matrix:\n",
      " [[ 2  0]\n",
      " [ 0 30]]\n",
      "[Permutation] SVM (RBF) - F1 with shuffled labels: 0.9367\n",
      "Random Forest - F1: 0.9677, ROC-AUC: 1.0000\n",
      "Confusion Matrix:\n",
      " [[ 0  2]\n",
      " [ 0 30]]\n",
      "[Permutation] Random Forest - F1 with shuffled labels: 0.9677\n",
      "XGBoost - F1: 1.0000, ROC-AUC: 1.0000\n",
      "Confusion Matrix:\n",
      " [[ 2  0]\n",
      " [ 0 30]]\n",
      "[Permutation] XGBoost - F1 with shuffled labels: 0.9383\n",
      "\n",
      "==== PCA Components = 100 ====\n",
      "\n",
      "-- Fold 1 --\n",
      "Logistic Regression - F1: 1.0000, ROC-AUC: 1.0000\n",
      "Confusion Matrix:\n",
      " [[ 2  0]\n",
      " [ 0 31]]\n",
      "[Permutation] Logistic Regression - F1 with shuffled labels: 0.9371\n",
      "SVM (RBF) - F1: 1.0000, ROC-AUC: 1.0000\n",
      "Confusion Matrix:\n",
      " [[ 2  0]\n",
      " [ 0 31]]\n",
      "[Permutation] SVM (RBF) - F1 with shuffled labels: 0.9371\n",
      "Random Forest - F1: 0.9841, ROC-AUC: 1.0000\n",
      "Confusion Matrix:\n",
      " [[ 1  1]\n",
      " [ 0 31]]\n",
      "[Permutation] Random Forest - F1 with shuffled labels: 0.9524\n",
      "XGBoost - F1: 0.9667, ROC-AUC: 1.0000\n",
      "Confusion Matrix:\n",
      " [[ 2  0]\n",
      " [ 2 29]]\n",
      "[Permutation] XGBoost - F1 with shuffled labels: 0.9100\n",
      "\n",
      "-- Fold 2 --\n",
      "Logistic Regression - F1: 1.0000, ROC-AUC: 1.0000\n",
      "Confusion Matrix:\n",
      " [[ 2  0]\n",
      " [ 0 31]]\n",
      "[Permutation] Logistic Regression - F1 with shuffled labels: 0.9403\n",
      "SVM (RBF) - F1: 0.9841, ROC-AUC: 1.0000\n",
      "Confusion Matrix:\n",
      " [[ 1  1]\n",
      " [ 0 31]]\n",
      "[Permutation] SVM (RBF) - F1 with shuffled labels: 0.9540\n",
      "Random Forest - F1: 0.9841, ROC-AUC: 1.0000\n",
      "Confusion Matrix:\n",
      " [[ 1  1]\n",
      " [ 0 31]]\n",
      "[Permutation] Random Forest - F1 with shuffled labels: 0.9524\n",
      "XGBoost - F1: 0.9508, ROC-AUC: 0.9677\n",
      "Confusion Matrix:\n",
      " [[ 1  1]\n",
      " [ 2 29]]\n",
      "[Permutation] XGBoost - F1 with shuffled labels: 0.9246\n",
      "\n",
      "-- Fold 3 --\n",
      "Logistic Regression - F1: 1.0000, ROC-AUC: 1.0000\n",
      "Confusion Matrix:\n",
      " [[ 2  0]\n",
      " [ 0 31]]\n",
      "[Permutation] Logistic Regression - F1 with shuffled labels: 0.9419\n",
      "SVM (RBF) - F1: 1.0000, ROC-AUC: 1.0000\n",
      "Confusion Matrix:\n",
      " [[ 2  0]\n",
      " [ 0 31]]\n",
      "[Permutation] SVM (RBF) - F1 with shuffled labels: 0.9452\n",
      "Random Forest - F1: 0.9688, ROC-AUC: 1.0000\n",
      "Confusion Matrix:\n",
      " [[ 0  2]\n",
      " [ 0 31]]\n",
      "[Permutation] Random Forest - F1 with shuffled labels: 0.9688\n",
      "XGBoost - F1: 1.0000, ROC-AUC: 1.0000\n",
      "Confusion Matrix:\n",
      " [[ 2  0]\n",
      " [ 0 31]]\n",
      "[Permutation] XGBoost - F1 with shuffled labels: 0.9387\n",
      "\n",
      "-- Fold 4 --\n",
      "Logistic Regression - F1: 1.0000, ROC-AUC: 1.0000\n",
      "Confusion Matrix:\n",
      " [[ 2  0]\n",
      " [ 0 31]]\n",
      "[Permutation] Logistic Regression - F1 with shuffled labels: 0.9387\n",
      "SVM (RBF) - F1: 1.0000, ROC-AUC: 1.0000\n",
      "Confusion Matrix:\n",
      " [[ 2  0]\n",
      " [ 0 31]]\n",
      "[Permutation] SVM (RBF) - F1 with shuffled labels: 0.9371\n",
      "Random Forest - F1: 1.0000, ROC-AUC: 1.0000\n",
      "Confusion Matrix:\n",
      " [[ 2  0]\n",
      " [ 0 31]]\n",
      "[Permutation] Random Forest - F1 with shuffled labels: 0.9419\n",
      "XGBoost - F1: 1.0000, ROC-AUC: 1.0000\n",
      "Confusion Matrix:\n",
      " [[ 2  0]\n",
      " [ 0 31]]\n",
      "[Permutation] XGBoost - F1 with shuffled labels: 0.9387\n",
      "\n",
      "-- Fold 5 --\n",
      "Logistic Regression - F1: 1.0000, ROC-AUC: 1.0000\n",
      "Confusion Matrix:\n",
      " [[ 2  0]\n",
      " [ 0 31]]\n",
      "[Permutation] Logistic Regression - F1 with shuffled labels: 0.9403\n",
      "SVM (RBF) - F1: 1.0000, ROC-AUC: 1.0000\n",
      "Confusion Matrix:\n",
      " [[ 2  0]\n",
      " [ 0 31]]\n",
      "[Permutation] SVM (RBF) - F1 with shuffled labels: 0.9371\n",
      "Random Forest - F1: 0.9841, ROC-AUC: 1.0000\n",
      "Confusion Matrix:\n",
      " [[ 1  1]\n",
      " [ 0 31]]\n",
      "[Permutation] Random Forest - F1 with shuffled labels: 0.9540\n",
      "XGBoost - F1: 1.0000, ROC-AUC: 1.0000\n",
      "Confusion Matrix:\n",
      " [[ 2  0]\n",
      " [ 0 31]]\n",
      "[Permutation] XGBoost - F1 with shuffled labels: 0.9419\n",
      "\n",
      "-- Fold 6 --\n",
      "Logistic Regression - F1: 1.0000, ROC-AUC: 1.0000\n",
      "Confusion Matrix:\n",
      " [[ 2  0]\n",
      " [ 0 31]]\n",
      "[Permutation] Logistic Regression - F1 with shuffled labels: 0.9355\n",
      "SVM (RBF) - F1: 1.0000, ROC-AUC: 1.0000\n",
      "Confusion Matrix:\n",
      " [[ 2  0]\n",
      " [ 0 31]]\n",
      "[Permutation] SVM (RBF) - F1 with shuffled labels: 0.9419\n",
      "Random Forest - F1: 1.0000, ROC-AUC: 1.0000\n",
      "Confusion Matrix:\n",
      " [[ 2  0]\n",
      " [ 0 31]]\n",
      "[Permutation] Random Forest - F1 with shuffled labels: 0.9371\n",
      "XGBoost - F1: 1.0000, ROC-AUC: 1.0000\n",
      "Confusion Matrix:\n",
      " [[ 2  0]\n",
      " [ 0 31]]\n",
      "[Permutation] XGBoost - F1 with shuffled labels: 0.9371\n",
      "\n",
      "-- Fold 7 --\n",
      "Logistic Regression - F1: 1.0000, ROC-AUC: 1.0000\n",
      "Confusion Matrix:\n",
      " [[ 2  0]\n",
      " [ 0 31]]\n",
      "[Permutation] Logistic Regression - F1 with shuffled labels: 0.9403\n",
      "SVM (RBF) - F1: 1.0000, ROC-AUC: 1.0000\n",
      "Confusion Matrix:\n",
      " [[ 2  0]\n",
      " [ 0 31]]\n",
      "[Permutation] SVM (RBF) - F1 with shuffled labels: 0.9387\n",
      "Random Forest - F1: 0.9688, ROC-AUC: 1.0000\n",
      "Confusion Matrix:\n",
      " [[ 0  2]\n",
      " [ 0 31]]\n",
      "[Permutation] Random Forest - F1 with shuffled labels: 0.9688\n",
      "XGBoost - F1: 1.0000, ROC-AUC: 1.0000\n",
      "Confusion Matrix:\n",
      " [[ 2  0]\n",
      " [ 0 31]]\n",
      "[Permutation] XGBoost - F1 with shuffled labels: 0.9371\n",
      "\n",
      "-- Fold 8 --\n",
      "Logistic Regression - F1: 1.0000, ROC-AUC: 1.0000\n",
      "Confusion Matrix:\n",
      " [[ 2  0]\n",
      " [ 0 31]]\n",
      "[Permutation] Logistic Regression - F1 with shuffled labels: 0.9419\n",
      "SVM (RBF) - F1: 1.0000, ROC-AUC: 1.0000\n",
      "Confusion Matrix:\n",
      " [[ 2  0]\n",
      " [ 0 31]]\n",
      "[Permutation] SVM (RBF) - F1 with shuffled labels: 0.9435\n",
      "Random Forest - F1: 1.0000, ROC-AUC: 1.0000\n",
      "Confusion Matrix:\n",
      " [[ 2  0]\n",
      " [ 0 31]]\n",
      "[Permutation] Random Forest - F1 with shuffled labels: 0.9387\n",
      "XGBoost - F1: 1.0000, ROC-AUC: 1.0000\n",
      "Confusion Matrix:\n",
      " [[ 2  0]\n",
      " [ 0 31]]\n",
      "[Permutation] XGBoost - F1 with shuffled labels: 0.9355\n",
      "\n",
      "-- Fold 9 --\n",
      "Logistic Regression - F1: 1.0000, ROC-AUC: 1.0000\n",
      "Confusion Matrix:\n",
      " [[ 1  0]\n",
      " [ 0 31]]\n",
      "[Permutation] Logistic Regression - F1 with shuffled labels: 0.9677\n",
      "SVM (RBF) - F1: 1.0000, ROC-AUC: 1.0000\n",
      "Confusion Matrix:\n",
      " [[ 1  0]\n",
      " [ 0 31]]\n",
      "[Permutation] SVM (RBF) - F1 with shuffled labels: 0.9677\n",
      "Random Forest - F1: 0.9841, ROC-AUC: 1.0000\n",
      "Confusion Matrix:\n",
      " [[ 0  1]\n",
      " [ 0 31]]\n",
      "[Permutation] Random Forest - F1 with shuffled labels: 0.9841\n",
      "XGBoost - F1: 1.0000, ROC-AUC: 1.0000\n",
      "Confusion Matrix:\n",
      " [[ 1  0]\n",
      " [ 0 31]]\n",
      "[Permutation] XGBoost - F1 with shuffled labels: 0.9677\n",
      "\n",
      "-- Fold 10 --\n",
      "Logistic Regression - F1: 1.0000, ROC-AUC: 1.0000\n",
      "Confusion Matrix:\n",
      " [[ 2  0]\n",
      " [ 0 30]]\n",
      "[Permutation] Logistic Regression - F1 with shuffled labels: 0.9367\n",
      "SVM (RBF) - F1: 1.0000, ROC-AUC: 1.0000\n",
      "Confusion Matrix:\n",
      " [[ 2  0]\n",
      " [ 0 30]]\n",
      "[Permutation] SVM (RBF) - F1 with shuffled labels: 0.9400\n",
      "Random Forest - F1: 0.9677, ROC-AUC: 1.0000\n",
      "Confusion Matrix:\n",
      " [[ 0  2]\n",
      " [ 0 30]]\n",
      "[Permutation] Random Forest - F1 with shuffled labels: 0.9677\n",
      "XGBoost - F1: 1.0000, ROC-AUC: 1.0000\n",
      "Confusion Matrix:\n",
      " [[ 2  0]\n",
      " [ 0 30]]\n",
      "[Permutation] XGBoost - F1 with shuffled labels: 0.9383\n",
      "\n",
      "==== PCA Components = 200 ====\n",
      "\n",
      "-- Fold 1 --\n",
      "Logistic Regression - F1: 1.0000, ROC-AUC: 1.0000\n",
      "Confusion Matrix:\n",
      " [[ 2  0]\n",
      " [ 0 31]]\n",
      "[Permutation] Logistic Regression - F1 with shuffled labels: 0.9403\n",
      "SVM (RBF) - F1: 1.0000, ROC-AUC: 1.0000\n",
      "Confusion Matrix:\n",
      " [[ 2  0]\n",
      " [ 0 31]]\n",
      "[Permutation] SVM (RBF) - F1 with shuffled labels: 0.9403\n",
      "Random Forest - F1: 0.9841, ROC-AUC: 1.0000\n",
      "Confusion Matrix:\n",
      " [[ 1  1]\n",
      " [ 0 31]]\n",
      "[Permutation] Random Forest - F1 with shuffled labels: 0.9524\n",
      "XGBoost - F1: 0.9667, ROC-AUC: 1.0000\n",
      "Confusion Matrix:\n",
      " [[ 2  0]\n",
      " [ 2 29]]\n",
      "[Permutation] XGBoost - F1 with shuffled labels: 0.9017\n",
      "\n",
      "-- Fold 2 --\n",
      "Logistic Regression - F1: 1.0000, ROC-AUC: 1.0000\n",
      "Confusion Matrix:\n",
      " [[ 2  0]\n",
      " [ 0 31]]\n",
      "[Permutation] Logistic Regression - F1 with shuffled labels: 0.9387\n",
      "SVM (RBF) - F1: 0.9841, ROC-AUC: 1.0000\n",
      "Confusion Matrix:\n",
      " [[ 1  1]\n",
      " [ 0 31]]\n",
      "[Permutation] SVM (RBF) - F1 with shuffled labels: 0.9524\n",
      "Random Forest - F1: 1.0000, ROC-AUC: 1.0000\n",
      "Confusion Matrix:\n",
      " [[ 2  0]\n",
      " [ 0 31]]\n",
      "[Permutation] Random Forest - F1 with shuffled labels: 0.9419\n",
      "XGBoost - F1: 0.9508, ROC-AUC: 0.9677\n",
      "Confusion Matrix:\n",
      " [[ 1  1]\n",
      " [ 2 29]]\n",
      "[Permutation] XGBoost - F1 with shuffled labels: 0.9197\n",
      "\n",
      "-- Fold 3 --\n",
      "Logistic Regression - F1: 1.0000, ROC-AUC: 1.0000\n",
      "Confusion Matrix:\n",
      " [[ 2  0]\n",
      " [ 0 31]]\n",
      "[Permutation] Logistic Regression - F1 with shuffled labels: 0.9371\n",
      "SVM (RBF) - F1: 1.0000, ROC-AUC: 1.0000\n",
      "Confusion Matrix:\n",
      " [[ 2  0]\n",
      " [ 0 31]]\n",
      "[Permutation] SVM (RBF) - F1 with shuffled labels: 0.9387\n",
      "Random Forest - F1: 0.9688, ROC-AUC: 1.0000\n",
      "Confusion Matrix:\n",
      " [[ 0  2]\n",
      " [ 0 31]]\n",
      "[Permutation] Random Forest - F1 with shuffled labels: 0.9688\n",
      "XGBoost - F1: 1.0000, ROC-AUC: 1.0000\n",
      "Confusion Matrix:\n",
      " [[ 2  0]\n",
      " [ 0 31]]\n",
      "[Permutation] XGBoost - F1 with shuffled labels: 0.9419\n",
      "\n",
      "-- Fold 4 --\n",
      "Logistic Regression - F1: 1.0000, ROC-AUC: 1.0000\n",
      "Confusion Matrix:\n",
      " [[ 2  0]\n",
      " [ 0 31]]\n",
      "[Permutation] Logistic Regression - F1 with shuffled labels: 0.9387\n",
      "SVM (RBF) - F1: 1.0000, ROC-AUC: 1.0000\n",
      "Confusion Matrix:\n",
      " [[ 2  0]\n",
      " [ 0 31]]\n",
      "[Permutation] SVM (RBF) - F1 with shuffled labels: 0.9403\n",
      "Random Forest - F1: 0.9841, ROC-AUC: 1.0000\n",
      "Confusion Matrix:\n",
      " [[ 1  1]\n",
      " [ 0 31]]\n",
      "[Permutation] Random Forest - F1 with shuffled labels: 0.9556\n",
      "XGBoost - F1: 1.0000, ROC-AUC: 1.0000\n",
      "Confusion Matrix:\n",
      " [[ 2  0]\n",
      " [ 0 31]]\n",
      "[Permutation] XGBoost - F1 with shuffled labels: 0.9403\n",
      "\n",
      "-- Fold 5 --\n",
      "Logistic Regression - F1: 1.0000, ROC-AUC: 1.0000\n",
      "Confusion Matrix:\n",
      " [[ 2  0]\n",
      " [ 0 31]]\n",
      "[Permutation] Logistic Regression - F1 with shuffled labels: 0.9387\n",
      "SVM (RBF) - F1: 1.0000, ROC-AUC: 1.0000\n",
      "Confusion Matrix:\n",
      " [[ 2  0]\n",
      " [ 0 31]]\n",
      "[Permutation] SVM (RBF) - F1 with shuffled labels: 0.9387\n",
      "Random Forest - F1: 1.0000, ROC-AUC: 1.0000\n",
      "Confusion Matrix:\n",
      " [[ 2  0]\n",
      " [ 0 31]]\n",
      "[Permutation] Random Forest - F1 with shuffled labels: 0.9419\n",
      "XGBoost - F1: 1.0000, ROC-AUC: 1.0000\n",
      "Confusion Matrix:\n",
      " [[ 2  0]\n",
      " [ 0 31]]\n",
      "[Permutation] XGBoost - F1 with shuffled labels: 0.9419\n",
      "\n",
      "-- Fold 6 --\n",
      "Logistic Regression - F1: 1.0000, ROC-AUC: 1.0000\n",
      "Confusion Matrix:\n",
      " [[ 2  0]\n",
      " [ 0 31]]\n",
      "[Permutation] Logistic Regression - F1 with shuffled labels: 0.9419\n",
      "SVM (RBF) - F1: 1.0000, ROC-AUC: 1.0000\n",
      "Confusion Matrix:\n",
      " [[ 2  0]\n",
      " [ 0 31]]\n",
      "[Permutation] SVM (RBF) - F1 with shuffled labels: 0.9387\n",
      "Random Forest - F1: 1.0000, ROC-AUC: 1.0000\n",
      "Confusion Matrix:\n",
      " [[ 2  0]\n",
      " [ 0 31]]\n",
      "[Permutation] Random Forest - F1 with shuffled labels: 0.9371\n",
      "XGBoost - F1: 1.0000, ROC-AUC: 1.0000\n",
      "Confusion Matrix:\n",
      " [[ 2  0]\n",
      " [ 0 31]]\n",
      "[Permutation] XGBoost - F1 with shuffled labels: 0.9403\n",
      "\n",
      "-- Fold 7 --\n",
      "Logistic Regression - F1: 1.0000, ROC-AUC: 1.0000\n",
      "Confusion Matrix:\n",
      " [[ 2  0]\n",
      " [ 0 31]]\n",
      "[Permutation] Logistic Regression - F1 with shuffled labels: 0.9387\n",
      "SVM (RBF) - F1: 1.0000, ROC-AUC: 1.0000\n",
      "Confusion Matrix:\n",
      " [[ 2  0]\n",
      " [ 0 31]]\n",
      "[Permutation] SVM (RBF) - F1 with shuffled labels: 0.9371\n",
      "Random Forest - F1: 0.9841, ROC-AUC: 1.0000\n",
      "Confusion Matrix:\n",
      " [[ 1  1]\n",
      " [ 0 31]]\n",
      "[Permutation] Random Forest - F1 with shuffled labels: 0.9540\n",
      "XGBoost - F1: 1.0000, ROC-AUC: 1.0000\n",
      "Confusion Matrix:\n",
      " [[ 2  0]\n",
      " [ 0 31]]\n",
      "[Permutation] XGBoost - F1 with shuffled labels: 0.9468\n",
      "\n",
      "-- Fold 8 --\n",
      "Logistic Regression - F1: 1.0000, ROC-AUC: 1.0000\n",
      "Confusion Matrix:\n",
      " [[ 2  0]\n",
      " [ 0 31]]\n",
      "[Permutation] Logistic Regression - F1 with shuffled labels: 0.9435\n",
      "SVM (RBF) - F1: 0.9836, ROC-AUC: 1.0000\n",
      "Confusion Matrix:\n",
      " [[ 2  0]\n",
      " [ 1 30]]\n",
      "[Permutation] SVM (RBF) - F1 with shuffled labels: 0.9230\n",
      "Random Forest - F1: 1.0000, ROC-AUC: 1.0000\n",
      "Confusion Matrix:\n",
      " [[ 2  0]\n",
      " [ 0 31]]\n",
      "[Permutation] Random Forest - F1 with shuffled labels: 0.9403\n",
      "XGBoost - F1: 1.0000, ROC-AUC: 1.0000\n",
      "Confusion Matrix:\n",
      " [[ 2  0]\n",
      " [ 0 31]]\n",
      "[Permutation] XGBoost - F1 with shuffled labels: 0.9371\n",
      "\n",
      "-- Fold 9 --\n",
      "Logistic Regression - F1: 1.0000, ROC-AUC: 1.0000\n",
      "Confusion Matrix:\n",
      " [[ 1  0]\n",
      " [ 0 31]]\n",
      "[Permutation] Logistic Regression - F1 with shuffled labels: 0.9677\n",
      "SVM (RBF) - F1: 1.0000, ROC-AUC: 1.0000\n",
      "Confusion Matrix:\n",
      " [[ 1  0]\n",
      " [ 0 31]]\n",
      "[Permutation] SVM (RBF) - F1 with shuffled labels: 0.9677\n",
      "Random Forest - F1: 0.9841, ROC-AUC: 1.0000\n",
      "Confusion Matrix:\n",
      " [[ 0  1]\n",
      " [ 0 31]]\n",
      "[Permutation] Random Forest - F1 with shuffled labels: 0.9841\n",
      "XGBoost - F1: 1.0000, ROC-AUC: 1.0000\n",
      "Confusion Matrix:\n",
      " [[ 1  0]\n",
      " [ 0 31]]\n",
      "[Permutation] XGBoost - F1 with shuffled labels: 0.9677\n",
      "\n",
      "-- Fold 10 --\n",
      "Logistic Regression - F1: 1.0000, ROC-AUC: 1.0000\n",
      "Confusion Matrix:\n",
      " [[ 2  0]\n",
      " [ 0 30]]\n",
      "[Permutation] Logistic Regression - F1 with shuffled labels: 0.9417\n",
      "SVM (RBF) - F1: 1.0000, ROC-AUC: 1.0000\n",
      "Confusion Matrix:\n",
      " [[ 2  0]\n",
      " [ 0 30]]\n",
      "[Permutation] SVM (RBF) - F1 with shuffled labels: 0.9350\n",
      "Random Forest - F1: 0.9677, ROC-AUC: 1.0000\n",
      "Confusion Matrix:\n",
      " [[ 0  2]\n",
      " [ 0 30]]\n",
      "[Permutation] Random Forest - F1 with shuffled labels: 0.9677\n",
      "XGBoost - F1: 1.0000, ROC-AUC: 1.0000\n",
      "Confusion Matrix:\n",
      " [[ 2  0]\n",
      " [ 0 30]]\n",
      "[Permutation] XGBoost - F1 with shuffled labels: 0.9350\n",
      "\n",
      "==== PCA Components = 250 ====\n",
      "\n",
      "-- Fold 1 --\n",
      "Logistic Regression - F1: 1.0000, ROC-AUC: 1.0000\n",
      "Confusion Matrix:\n",
      " [[ 2  0]\n",
      " [ 0 31]]\n",
      "[Permutation] Logistic Regression - F1 with shuffled labels: 0.9355\n",
      "SVM (RBF) - F1: 1.0000, ROC-AUC: 1.0000\n",
      "Confusion Matrix:\n",
      " [[ 2  0]\n",
      " [ 0 31]]\n",
      "[Permutation] SVM (RBF) - F1 with shuffled labels: 0.9403\n",
      "Random Forest - F1: 0.9841, ROC-AUC: 1.0000\n",
      "Confusion Matrix:\n",
      " [[ 1  1]\n",
      " [ 0 31]]\n",
      "[Permutation] Random Forest - F1 with shuffled labels: 0.9540\n",
      "XGBoost - F1: 0.9667, ROC-AUC: 1.0000\n",
      "Confusion Matrix:\n",
      " [[ 2  0]\n",
      " [ 2 29]]\n",
      "[Permutation] XGBoost - F1 with shuffled labels: 0.9083\n",
      "\n",
      "-- Fold 2 --\n",
      "Logistic Regression - F1: 1.0000, ROC-AUC: 1.0000\n",
      "Confusion Matrix:\n",
      " [[ 2  0]\n",
      " [ 0 31]]\n",
      "[Permutation] Logistic Regression - F1 with shuffled labels: 0.9387\n",
      "SVM (RBF) - F1: 0.9841, ROC-AUC: 1.0000\n",
      "Confusion Matrix:\n",
      " [[ 1  1]\n",
      " [ 0 31]]\n",
      "[Permutation] SVM (RBF) - F1 with shuffled labels: 0.9524\n",
      "Random Forest - F1: 1.0000, ROC-AUC: 1.0000\n",
      "Confusion Matrix:\n",
      " [[ 2  0]\n",
      " [ 0 31]]\n",
      "[Permutation] Random Forest - F1 with shuffled labels: 0.9355\n",
      "XGBoost - F1: 0.9508, ROC-AUC: 0.9677\n",
      "Confusion Matrix:\n",
      " [[ 1  1]\n",
      " [ 2 29]]\n",
      "[Permutation] XGBoost - F1 with shuffled labels: 0.9213\n",
      "\n",
      "-- Fold 3 --\n",
      "Logistic Regression - F1: 1.0000, ROC-AUC: 1.0000\n",
      "Confusion Matrix:\n",
      " [[ 2  0]\n",
      " [ 0 31]]\n",
      "[Permutation] Logistic Regression - F1 with shuffled labels: 0.9403\n",
      "SVM (RBF) - F1: 1.0000, ROC-AUC: 1.0000\n",
      "Confusion Matrix:\n",
      " [[ 2  0]\n",
      " [ 0 31]]\n",
      "[Permutation] SVM (RBF) - F1 with shuffled labels: 0.9435\n",
      "Random Forest - F1: 0.9688, ROC-AUC: 1.0000\n",
      "Confusion Matrix:\n",
      " [[ 0  2]\n",
      " [ 0 31]]\n",
      "[Permutation] Random Forest - F1 with shuffled labels: 0.9688\n",
      "XGBoost - F1: 1.0000, ROC-AUC: 1.0000\n",
      "Confusion Matrix:\n",
      " [[ 2  0]\n",
      " [ 0 31]]\n",
      "[Permutation] XGBoost - F1 with shuffled labels: 0.9435\n",
      "\n",
      "-- Fold 4 --\n",
      "Logistic Regression - F1: 1.0000, ROC-AUC: 1.0000\n",
      "Confusion Matrix:\n",
      " [[ 2  0]\n",
      " [ 0 31]]\n",
      "[Permutation] Logistic Regression - F1 with shuffled labels: 0.9371\n",
      "SVM (RBF) - F1: 1.0000, ROC-AUC: 1.0000\n",
      "Confusion Matrix:\n",
      " [[ 2  0]\n",
      " [ 0 31]]\n",
      "[Permutation] SVM (RBF) - F1 with shuffled labels: 0.9387\n",
      "Random Forest - F1: 0.9841, ROC-AUC: 1.0000\n",
      "Confusion Matrix:\n",
      " [[ 1  1]\n",
      " [ 0 31]]\n",
      "[Permutation] Random Forest - F1 with shuffled labels: 0.9524\n",
      "XGBoost - F1: 1.0000, ROC-AUC: 1.0000\n",
      "Confusion Matrix:\n",
      " [[ 2  0]\n",
      " [ 0 31]]\n",
      "[Permutation] XGBoost - F1 with shuffled labels: 0.9419\n",
      "\n",
      "-- Fold 5 --\n",
      "Logistic Regression - F1: 1.0000, ROC-AUC: 1.0000\n",
      "Confusion Matrix:\n",
      " [[ 2  0]\n",
      " [ 0 31]]\n",
      "[Permutation] Logistic Regression - F1 with shuffled labels: 0.9387\n",
      "SVM (RBF) - F1: 0.9836, ROC-AUC: 1.0000\n",
      "Confusion Matrix:\n",
      " [[ 2  0]\n",
      " [ 1 30]]\n",
      "[Permutation] SVM (RBF) - F1 with shuffled labels: 0.9262\n",
      "Random Forest - F1: 1.0000, ROC-AUC: 1.0000\n",
      "Confusion Matrix:\n",
      " [[ 2  0]\n",
      " [ 0 31]]\n",
      "[Permutation] Random Forest - F1 with shuffled labels: 0.9452\n",
      "XGBoost - F1: 1.0000, ROC-AUC: 1.0000\n",
      "Confusion Matrix:\n",
      " [[ 2  0]\n",
      " [ 0 31]]\n",
      "[Permutation] XGBoost - F1 with shuffled labels: 0.9403\n",
      "\n",
      "-- Fold 6 --\n",
      "Logistic Regression - F1: 1.0000, ROC-AUC: 1.0000\n",
      "Confusion Matrix:\n",
      " [[ 2  0]\n",
      " [ 0 31]]\n",
      "[Permutation] Logistic Regression - F1 with shuffled labels: 0.9371\n",
      "SVM (RBF) - F1: 1.0000, ROC-AUC: 1.0000\n",
      "Confusion Matrix:\n",
      " [[ 2  0]\n",
      " [ 0 31]]\n",
      "[Permutation] SVM (RBF) - F1 with shuffled labels: 0.9419\n",
      "Random Forest - F1: 1.0000, ROC-AUC: 1.0000\n",
      "Confusion Matrix:\n",
      " [[ 2  0]\n",
      " [ 0 31]]\n",
      "[Permutation] Random Forest - F1 with shuffled labels: 0.9403\n",
      "XGBoost - F1: 1.0000, ROC-AUC: 1.0000\n",
      "Confusion Matrix:\n",
      " [[ 2  0]\n",
      " [ 0 31]]\n",
      "[Permutation] XGBoost - F1 with shuffled labels: 0.9371\n",
      "\n",
      "-- Fold 7 --\n",
      "Logistic Regression - F1: 1.0000, ROC-AUC: 1.0000\n",
      "Confusion Matrix:\n",
      " [[ 2  0]\n",
      " [ 0 31]]\n",
      "[Permutation] Logistic Regression - F1 with shuffled labels: 0.9403\n",
      "SVM (RBF) - F1: 1.0000, ROC-AUC: 1.0000\n",
      "Confusion Matrix:\n",
      " [[ 2  0]\n",
      " [ 0 31]]\n",
      "[Permutation] SVM (RBF) - F1 with shuffled labels: 0.9419\n",
      "Random Forest - F1: 0.9688, ROC-AUC: 1.0000\n",
      "Confusion Matrix:\n",
      " [[ 0  2]\n",
      " [ 0 31]]\n",
      "[Permutation] Random Forest - F1 with shuffled labels: 0.9688\n",
      "XGBoost - F1: 1.0000, ROC-AUC: 1.0000\n",
      "Confusion Matrix:\n",
      " [[ 2  0]\n",
      " [ 0 31]]\n",
      "[Permutation] XGBoost - F1 with shuffled labels: 0.9387\n",
      "\n",
      "-- Fold 8 --\n",
      "Logistic Regression - F1: 1.0000, ROC-AUC: 1.0000\n",
      "Confusion Matrix:\n",
      " [[ 2  0]\n",
      " [ 0 31]]\n",
      "[Permutation] Logistic Regression - F1 with shuffled labels: 0.9403\n",
      "SVM (RBF) - F1: 0.9836, ROC-AUC: 1.0000\n",
      "Confusion Matrix:\n",
      " [[ 2  0]\n",
      " [ 1 30]]\n",
      "[Permutation] SVM (RBF) - F1 with shuffled labels: 0.9262\n",
      "Random Forest - F1: 0.9841, ROC-AUC: 1.0000\n",
      "Confusion Matrix:\n",
      " [[ 1  1]\n",
      " [ 0 31]]\n",
      "[Permutation] Random Forest - F1 with shuffled labels: 0.9540\n",
      "XGBoost - F1: 1.0000, ROC-AUC: 1.0000\n",
      "Confusion Matrix:\n",
      " [[ 2  0]\n",
      " [ 0 31]]\n",
      "[Permutation] XGBoost - F1 with shuffled labels: 0.9387\n",
      "\n",
      "-- Fold 9 --\n",
      "Logistic Regression - F1: 1.0000, ROC-AUC: 1.0000\n",
      "Confusion Matrix:\n",
      " [[ 1  0]\n",
      " [ 0 31]]\n",
      "[Permutation] Logistic Regression - F1 with shuffled labels: 0.9677\n",
      "SVM (RBF) - F1: 1.0000, ROC-AUC: 1.0000\n",
      "Confusion Matrix:\n",
      " [[ 1  0]\n",
      " [ 0 31]]\n",
      "[Permutation] SVM (RBF) - F1 with shuffled labels: 0.9677\n",
      "Random Forest - F1: 0.9841, ROC-AUC: 1.0000\n",
      "Confusion Matrix:\n",
      " [[ 0  1]\n",
      " [ 0 31]]\n",
      "[Permutation] Random Forest - F1 with shuffled labels: 0.9841\n",
      "XGBoost - F1: 1.0000, ROC-AUC: 1.0000\n",
      "Confusion Matrix:\n",
      " [[ 1  0]\n",
      " [ 0 31]]\n",
      "[Permutation] XGBoost - F1 with shuffled labels: 0.9694\n",
      "\n",
      "-- Fold 10 --\n",
      "Logistic Regression - F1: 1.0000, ROC-AUC: 1.0000\n",
      "Confusion Matrix:\n",
      " [[ 2  0]\n",
      " [ 0 30]]\n",
      "[Permutation] Logistic Regression - F1 with shuffled labels: 0.9417\n",
      "SVM (RBF) - F1: 1.0000, ROC-AUC: 1.0000\n",
      "Confusion Matrix:\n",
      " [[ 2  0]\n",
      " [ 0 30]]\n",
      "[Permutation] SVM (RBF) - F1 with shuffled labels: 0.9367\n",
      "Random Forest - F1: 0.9677, ROC-AUC: 1.0000\n",
      "Confusion Matrix:\n",
      " [[ 0  2]\n",
      " [ 0 30]]\n",
      "[Permutation] Random Forest - F1 with shuffled labels: 0.9677\n",
      "XGBoost - F1: 1.0000, ROC-AUC: 1.0000\n",
      "Confusion Matrix:\n",
      " [[ 2  0]\n",
      " [ 0 30]]\n",
      "[Permutation] XGBoost - F1 with shuffled labels: 0.9367\n",
      "\n",
      "===== CV Summary =====\n",
      "                                    F1_Score  ROC_AUC  Permutation_F1_Score\n",
      "Model               PCA_Components                                         \n",
      "Logistic Regression 25                0.9984   1.0000                0.9413\n",
      "                    50                1.0000   1.0000                0.9435\n",
      "                    100               1.0000   1.0000                0.9421\n",
      "                    200               1.0000   1.0000                0.9427\n",
      "                    250               1.0000   1.0000                0.9417\n",
      "Random Forest       25                0.9905   1.0000                0.9507\n",
      "                    50                0.9873   1.0000                0.9548\n",
      "                    100               0.9842   1.0000                0.9566\n",
      "                    200               0.9873   1.0000                0.9544\n",
      "                    250               0.9842   1.0000                0.9571\n",
      "SVM (RBF)           25                0.9936   1.0000                0.9445\n",
      "                    50                0.9953   1.0000                0.9463\n",
      "                    100               0.9984   1.0000                0.9442\n",
      "                    200               0.9968   1.0000                0.9412\n",
      "                    250               0.9951   1.0000                0.9416\n",
      "XGBoost             25                0.9917   0.9968                0.9389\n",
      "                    50                0.9917   0.9968                0.9368\n",
      "                    100               0.9917   0.9968                0.9370\n",
      "                    200               0.9917   0.9968                0.9372\n",
      "                    250               0.9917   0.9968                0.9376\n",
      "\n",
      "Top 100 Stable Genes Across Folds and PCs:\n",
      "         Gene  Count\n",
      "0     MIR9500    211\n",
      "1     MIR4471    211\n",
      "2      OR10G8    208\n",
      "3   LINC02464    208\n",
      "4     MIR4310    197\n",
      "..        ...    ...\n",
      "95      AMHR2    161\n",
      "96     RNU2.1    160\n",
      "97   MIR1260A    160\n",
      "98     TRARG1    160\n",
      "99  NTRK3.AS1    160\n",
      "\n",
      "[100 rows x 2 columns]\n"
     ]
    }
   ],
   "source": [
    "import numpy as np\n",
    "import pandas as pd\n",
    "from sklearn.model_selection import StratifiedKFold, GridSearchCV\n",
    "from sklearn.preprocessing import StandardScaler\n",
    "from sklearn.decomposition import PCA\n",
    "from sklearn.pipeline import Pipeline\n",
    "from sklearn.metrics import f1_score, classification_report, confusion_matrix, roc_auc_score\n",
    "\n",
    "from sklearn.linear_model import LogisticRegression\n",
    "from sklearn.svm import SVC\n",
    "from sklearn.ensemble import RandomForestClassifier\n",
    "from xgboost import XGBClassifier\n",
    "\n",
    "import matplotlib.pyplot as plt\n",
    "import seaborn as sns\n",
    "from collections import defaultdict\n",
    "\n",
    "\n",
    "def run_nested_cv_pca_pipeline(X, y, n_components_list=[25,50,100,200,250]):\n",
    "    # Increase outer cross-validation folds to 10\n",
    "    outer_cv = StratifiedKFold(n_splits=10, shuffle=True, random_state=42)\n",
    "    results = []\n",
    "    stable_genes_tracker = defaultdict(int)\n",
    "\n",
    "    n_permutations = 20 # Number of permutations for permutation test\n",
    "\n",
    "    for n_components in n_components_list:\n",
    "        print(f\"\\n==== PCA Components = {n_components} ====\")\n",
    "\n",
    "        for fold, (train_idx, test_idx) in enumerate(outer_cv.split(X, y)):\n",
    "            print(f\"\\n-- Fold {fold + 1} --\")\n",
    "            X_train, X_test = X.iloc[train_idx], X.iloc[test_idx]\n",
    "            y_train, y_test = y.iloc[train_idx], y.iloc[test_idx]\n",
    "\n",
    "            # Standardize\n",
    "            scaler = StandardScaler()\n",
    "            X_train_scaled = scaler.fit_transform(X_train)\n",
    "            X_test_scaled = scaler.transform(X_test)\n",
    "\n",
    "            # PCA on training data only\n",
    "            pca = PCA(n_components=n_components, random_state=42)\n",
    "            X_train_pca = pca.fit_transform(X_train_scaled)\n",
    "            X_test_pca = pca.transform(X_test_scaled)\n",
    "\n",
    "            # Track top 100 genes from PCs\n",
    "            loading_matrix = pd.DataFrame(np.abs(pca.components_), columns=X.columns)\n",
    "            for i in range(n_components):\n",
    "                # Extract top 100 genes instead of 20\n",
    "                top_genes = loading_matrix.iloc[i].sort_values(ascending=False).head(100).index\n",
    "                for gene in top_genes:\n",
    "                    stable_genes_tracker[gene] += 1\n",
    "\n",
    "            # Models to test\n",
    "            models = {\n",
    "                \"Logistic Regression\": LogisticRegression(class_weight='balanced', max_iter=1000),\n",
    "                \"SVM (RBF)\": SVC(class_weight='balanced', kernel='rbf', probability=True),\n",
    "                \"Random Forest\": RandomForestClassifier(class_weight='balanced'),\n",
    "                \"XGBoost\": XGBClassifier(eval_metric='logloss', scale_pos_weight=(sum(y_train==0)/sum(y_train==1)))\n",
    "            }\n",
    "\n",
    "            param_grids = {\n",
    "                \"Logistic Regression\": {\"C\": [0.01, 0.1, 1, 10]},\n",
    "                # Increase inner cross-validation folds to 5\n",
    "                \"SVM (RBF)\": {\"C\": [0.1, 1, 10], \"gamma\": ['scale', 'auto']},\n",
    "                \"Random Forest\": {\"n_estimators\": [100, 200], \"max_depth\": [None, 10]},\n",
    "                \"XGBoost\": {\"n_estimators\": [100, 200], \"max_depth\": [3, 6]}\n",
    "            }\n",
    "\n",
    "            for model_name, model in models.items():\n",
    "                # Increase inner cross-validation folds to 5\n",
    "                grid = GridSearchCV(model, param_grids[model_name], scoring='f1', cv=5)\n",
    "                grid.fit(X_train_pca, y_train)\n",
    "                best_model = grid.best_estimator_\n",
    "\n",
    "                y_pred = best_model.predict(X_test_pca)\n",
    "                f1 = f1_score(y_test, y_pred)\n",
    "                roc = roc_auc_score(y_test, best_model.predict_proba(X_test_pca)[:,1]) if hasattr(best_model, 'predict_proba') else None\n",
    "\n",
    "                cm = confusion_matrix(y_test, y_pred)\n",
    "                print(f\"{model_name} - F1: {f1:.4f}, ROC-AUC: {roc:.4f}\" if roc else f\"{model_name} - F1: {f1:.4f}\")\n",
    "                print(\"Confusion Matrix:\\n\", cm)\n",
    "\n",
    "                # Permutation Test\n",
    "                permutation_f1_scores = []\n",
    "                for _ in range(n_permutations):\n",
    "                    y_test_shuffled = np.random.permutation(y_test)\n",
    "                    shuffled_f1 = f1_score(y_test_shuffled, y_pred)\n",
    "                    permutation_f1_scores.append(shuffled_f1)\n",
    "\n",
    "                avg_permutation_f1 = np.mean(permutation_f1_scores)\n",
    "                print(f\"[Permutation] {model_name} - F1 with shuffled labels: {avg_permutation_f1:.4f}\")\n",
    "\n",
    "                results.append({\n",
    "                    \"Model\": model_name,\n",
    "                    \"PCA_Components\": n_components,\n",
    "                    \"Fold\": fold+1,\n",
    "                    \"F1_Score\": f1,\n",
    "                    \"ROC_AUC\": roc,\n",
    "                    \"Permutation_F1_Score\": avg_permutation_f1, # Add permutation F1\n",
    "                    \"Best_Params\": grid.best_params_\n",
    "                })\n",
    "\n",
    "    # Results summary\n",
    "    df_results = pd.DataFrame(results)\n",
    "    print(\"\\n===== CV Summary =====\")\n",
    "    print(df_results.groupby(['Model', 'PCA_Components'])[['F1_Score', 'ROC_AUC', 'Permutation_F1_Score']].mean().round(4))\n",
    "\n",
    "    # Stable genes\n",
    "    # Print top 100 stable genes\n",
    "    print(\"\\nTop 100 Stable Genes Across Folds and PCs:\")\n",
    "    stable_genes_df = pd.DataFrame(sorted(stable_genes_tracker.items(), key=lambda x: x[1], reverse=True), columns=[\"Gene\", \"Count\"])\n",
    "    print(stable_genes_df.head(100)) # Ensure 100 genes are printed\n",
    "\n",
    "     #Plotting F1 score vs PCA components\n",
    "    plt.figure(figsize=(10, 6))\n",
    "    sns.lineplot(data=df_results, x='PCA_Components', y='F1_Score', hue='Model', marker='o')\n",
    "    plt.title(\"F1 Score vs. PCA Components\")\n",
    "    plt.ylabel(\"F1 Score\")\n",
    "    plt.xlabel(\"Number of PCA Components\")\n",
    "    plt.grid(True)\n",
    "    plt.tight_layout()\n",
    "    plt.savefig(\"Regulatory_Results/f1_vs_pca_components.png\")\n",
    "    plt.close()\n",
    "\n",
    "    # Plotting ROC AUC vs PCA components\n",
    "    # if df_results['ROC_AUC'].notna().all():\n",
    "    #     plt.figure(figsize=(10, 6))\n",
    "    #     sns.lineplot(data=df_results, x='PCA_Components', y='ROC_AUC', hue='Model', marker='s')\n",
    "    #     plt.title(\"ROC AUC vs. PCA Components\")\n",
    "    #     plt.ylabel(\"ROC AUC\")\n",
    "    #     plt.xlabel(\"Number of PCA Components\")\n",
    "    #     plt.grid(True)\n",
    "    #     plt.tight_layout()\n",
    "    #     plt.savefig(\"roc_auc_vs_pca_components.png\")\n",
    "    #     plt.close()\n",
    "\n",
    "    return df_results, stable_genes_df\n",
    "\n",
    "# Assuming X and y are already defined in your environment\n",
    "a,b=run_nested_cv_pca_pipeline(X, y)"
   ]
  },
  {
   "cell_type": "code",
   "execution_count": 21,
   "id": "1db5ba58",
   "metadata": {},
   "outputs": [
    {
     "name": "stdout",
     "output_type": "stream",
     "text": [
      "['MIR9500', 'MIR4471', 'OR10G8', 'LINC02464', 'MIR4310', 'MIR4787', 'SNORD115.4', 'PRR20C', 'GAGE12G', 'MIR3202.2', 'MIR6879', 'MIR514A3', 'CDH23.AS1', 'TTTY11', 'OR10R2', 'KRTAP26.1', 'POTEB3', 'ADIPOQ', 'HDGFL1', 'OR52R1', 'LINC00507', 'LINC02443', 'FAM197Y6', 'KRTAP22.1', 'MIR3675', 'PRR30', 'LINCADL', 'GPR101', 'MIR153.2', 'IGHVII.67.1', 'LINC01906', 'MIR3158.1', 'MIR3158.2', 'SNORD115.2', 'BPIFB6', 'VENTXP1', 'OR6C68', 'MIR6134', 'LINC02329', 'IGKV2D.38', 'LINC00280', 'PRR20D', 'RNA5S15', 'LINC02309', 'TRBV21OR9.2', 'RNA5S6', 'OR8B3', 'MIR103B1', 'RNA5S12', 'RNA5S10', 'USH2A.AS2', 'AMELY', 'LINC01745', 'LINC02342', 'RNA5S14', 'PPY', 'MIR4528', 'ASZ1', 'MIR1255B1', 'OC90', 'OR4F6', 'LINC01443', 'TBC1D28', 'LINC02644', 'RNA5S1', 'RNA5S13', 'RNA5S4', 'RNA5S2', 'RNA5S8', 'RNA5S16', 'RNA5S11', 'MIR4662B', 'LCN9', 'LINC02045', 'LINC01760', 'NOX3', 'RNA5S17', 'LINC01822', 'LINC00297', 'DEFB128', 'MIR4495', 'TRIM49D1', 'RNA5S5', 'RNA5S7', 'RNA5S3', 'OR14A16', 'LINC02488', 'OR6C76', 'OR10J3', 'LINC00343', 'MIR4329', 'MIR8065', 'OR2M7', 'MIR4696', 'FAM138C', 'AMHR2', 'RNU2.1', 'MIR1260A', 'TRARG1', 'NTRK3.AS1', 'MIR892C', 'MIR106A', 'MIR1302.10', 'LINC02075', 'MIR1179', 'MIR518E', 'PRICKLE2.AS1', 'IGSF11.AS1', 'MIR3123', 'OR5A1', 'MIR486.2', 'OR4F4', 'MIR6511A4', 'MIR935', 'MIR4773.1', 'MAGEB18', 'MDFIC2', 'LINC02281', 'LINC02283', 'MIR548BA', 'MIR219A2', 'MIR139', 'MIR6844', 'MIR4773.2', 'TTTY1', 'OR5M10', 'LINC01872', 'CLEC18C', 'SNORD115.34', 'MIR4776.2', 'MIR4776.1', 'PPP1R3A', 'OR6C74', 'OR5D13', 'MIR219B', 'LINC02121', 'LINC01046', 'MIR7973.2', 'MIR5197', 'PDYN', 'NLRP2B', 'MIR124.2', 'DDX11L16', 'MIR524', 'LINC02479', 'LINC01674', 'FAM74A7', 'MIR517B', 'MIR519D', 'RBMY1E', 'OR2T12', 'C8A', 'OR4B1', 'MIR5689', 'MIR3681', 'MIR520E', 'LINC00210', 'MIR523', 'FAM230E', 'LINC00446', 'PLG', 'GAGE12F', 'MIR6846', 'MIR1202', 'MIR9.3', 'RBMY1A3P', 'SNORD115.33', 'SNORD115.23', 'TRIM49D2', 'LINC00533', 'RNA5S9', 'TBC1D26.AS1', 'MIR20B', 'GAGE12E', 'SNORD3E', 'ENPP7P13', 'MIR5584', 'LINC01699', 'DCD', 'GABRR3', 'LINC00442', 'MIR4790', 'LINC01044', 'IGHVII.15.1', 'MIR216B', 'ZNF479', 'MIR5100', 'MIR4791', 'MIR548A2', 'LINC01884', 'MIR6788', 'OR10G4', 'MIR4307HG', 'ELSPBP1', 'IGHV3.30.2', 'OR4P4', 'IGHVII.65.1', 'TP73.AS3', 'RNASE11', 'MIR548X', 'OR5I1', 'IGKV3D.34', 'SULT2A1', 'GLYCAM1', 'LGALS16', 'LINC00709', 'LINC02854', 'MIR335', 'LINC01015', 'MIR488', 'MIR891B', 'LINC02459', 'MIR3919', 'IQCF4P', 'OR1S2', 'XIRP2.AS1', 'OR8I2', 'SMR3A', 'SILC1', 'MIR5704', 'GAGE12C', 'CSMD2.AS1', 'LINC01182', 'LINC02191', 'MIR4765', 'BGLT3', 'OR4D10', 'MIR4430', 'TOPAZ1', 'MIR520C', 'MTHFD2P1', 'NCOR1P1', 'MIR508', 'PHOX2B.AS1', 'SNORD115.15', 'LINC01853', 'MIR548H5', 'LACRT', 'LINC01643', 'MIR7.2', 'MFFP3', 'PRR20E', 'KRT28', 'KRTAP21.1', 'LINC00374', 'OR5AC2', 'MIR4422HG', 'FAM230F', 'LINC02162', 'IGHVIII.67.3', 'OR5H15', 'MIR4708', 'LINC00700', 'LINC00489', 'ATXN8OS', 'LINC02684', 'LINC01790', 'MIR633', 'LINC02375', 'PRAMEF34P', 'MIR4424', 'OR51S1', 'FAM197Y9', 'MIR217', 'LINC02503', 'KRT17P5', 'LINC02131', 'KRTAP4.9', 'LINC01177', 'IGLVI.38', 'LINC01221', 'MIR4675', 'MIR3938', 'LINC01377', 'MIR136', 'LINC02706', 'LINC01082', 'ANKRD34C', 'MIR3144', 'PTF1A', 'MIR4281', 'LINC02230', 'GJA10', 'D21S2088E', 'MIR1911', 'MIR6074', 'MIR4330', 'MIR513B', 'SLIT3.AS1', 'FEZF2', 'OPN1LW', 'CFHR2', 'LINC02841', 'MIR7159', 'MIR5700', 'MIR188', 'LINC02470', 'OR5M3', 'MIR761', 'LINC01810', 'MIR512.1', 'SLC25A3P1', 'OR6C70', 'PPP1R9A.AS1', 'MIR526B', 'CSN1S1', 'MIR3159', 'POTEB2', 'LINC01928', 'BPY2', 'IGHVIII.25.1', 'LINC00561', 'KRTAP23.1', 'TMEM202', 'KLHL1', 'LINC02047', 'KRTAP10.8', 'OR4N5', 'LINC00603', 'FAM242A', 'LINC01360', 'TPD52L3', 'DEFA9P', 'LINC00458', 'MIR4638', 'CTAG1B', 'LINC02180', 'MIR99A', 'LL22NC01.81G9.3', 'SPANXA2', 'MIR1323', 'LINC00993', 'LMAN1L', 'CNBD1', 'GUSBP15', 'SNORD115.22', 'ZFY.AS1', 'MIR3156.1', 'GOLGA2P9', 'LINC02686', 'MIR1251', 'MBD3L4', 'GAGE12J', 'LINC00951', 'OR4E1', 'OR4C11', 'OR4D5', 'SPATA31A5', 'TRIM64B', 'OR10J5', 'ZNF804B', 'LINC02059', 'MIR7158', 'DEFA11P', 'FERD3L', 'LNCPRESS2', 'GH2', 'F9', 'PCDHGA8', 'TAAR8', 'IGLVIV.65', 'IFNA6', 'LINC01074', 'OR52E8', 'FAM41AY1', 'LINC01867', 'LINC01608', 'PRAMEF25', 'MIR2115', 'BRDTP1', 'LINC02260', 'MIR506', 'LINC02042', 'PPDPFL', 'OR10G7', 'LINC01111', 'OR4F13P', 'MIR513A2', 'APOC3', 'MIR504', 'SLC32A1', 'FAM74A3', 'MC2R', 'CXADRP2', 'MIR4704', 'MIR4432', 'TRAV9.1', 'MYCNUT', 'IFNA4', 'MIR3160.1', 'DAZ2', 'MIR3179.2', 'ART1', 'LINC02173', 'MS4A18', 'SLC13A1', 'CSN2', 'ZP4', 'CDX4', 'DEFB106A']\n"
     ]
    }
   ],
   "source": [
    "print(list(b[\"Gene\"].iloc[:400]))"
   ]
  },
  {
   "cell_type": "code",
   "execution_count": 22,
   "id": "d204cd0d",
   "metadata": {},
   "outputs": [],
   "source": [
    "b[\"Gene\"].iloc[:727].to_csv(\"PCA_Gene.csv\")"
   ]
  },
  {
   "cell_type": "code",
   "execution_count": 28,
   "id": "44fe9aad",
   "metadata": {},
   "outputs": [
    {
     "name": "stdout",
     "output_type": "stream",
     "text": [
      "\n",
      ">>> Processing Random Forest\n",
      "Random Forest RFE + GridSearchCV: Mean F1 = 0.9653 (+/- 0.0693)\n",
      "\n",
      ">>> Processing Logistic Regression\n",
      "Logistic Regression RFE + GridSearchCV: Mean F1 = 1.0000 (+/- 0.0000)\n",
      "\n",
      ">>> Processing SVM (Linear)\n",
      "SVM (Linear) RFE + GridSearchCV: Mean F1 = 0.9653 (+/- 0.0693)\n",
      "\n",
      ">>> Processing XGBoost\n",
      "XGBoost RFE + GridSearchCV: Mean F1 = 0.9653 (+/- 0.0693)\n"
     ]
    },
    {
     "data": {
      "image/png": "[encoded data removed]",
      "text/plain": [
       "<Figure size 640x480 with 1 Axes>"
      ]
     },
     "metadata": {},
     "output_type": "display_data"
    },
    {
     "name": "stdout",
     "output_type": "stream",
     "text": [
      "\n",
      ">>> Best Model: Logistic Regression with F1 = 1.0000\n"
     ]
    },
    {
     "data": {
      "image/png": "[encoded data removed]",
      "text/plain": [
       "<Figure size 800x950 with 2 Axes>"
      ]
     },
     "metadata": {},
     "output_type": "display_data"
    },
    {
     "name": "stdout",
     "output_type": "stream",
     "text": [
      "\n",
      "--- Accuracy Scores ---\n",
      "Train Accuracy: 1.0\n",
      "Validation Accuracy: 1.0\n",
      "Test Accuracy: 1.0\n",
      "Validation F1: 1.0\n",
      "Test F1: 1.0\n"
     ]
    },
    {
     "data": {
      "image/png": "[encoded data removed]",
      "text/plain": [
       "<Figure size 640x480 with 2 Axes>"
      ]
     },
     "metadata": {},
     "output_type": "display_data"
    },
    {
     "data": {
      "image/png": "[encoded data removed]",
      "text/plain": [
       "<Figure size 640x480 with 1 Axes>"
      ]
     },
     "metadata": {},
     "output_type": "display_data"
    }
   ],
   "source": [
    "import numpy as np\n",
    "import pandas as pd\n",
    "import matplotlib.pyplot as plt\n",
    "import seaborn as sns\n",
    "from sklearn.model_selection import train_test_split, GridSearchCV, StratifiedKFold, learning_curve, cross_val_score\n",
    "from sklearn.ensemble import RandomForestClassifier\n",
    "from sklearn.linear_model import LogisticRegression\n",
    "from sklearn.svm import SVC\n",
    "from xgboost import XGBClassifier\n",
    "from sklearn.preprocessing import StandardScaler\n",
    "from sklearn.feature_selection import RFE\n",
    "from sklearn.metrics import (\n",
    "    accuracy_score, classification_report, confusion_matrix,\n",
    "    roc_curve, auc, precision_recall_curve, roc_auc_score, f1_score\n",
    ")\n",
    "from matplotlib_venn import venn3\n",
    "import shap\n",
    "import warnings \n",
    "warnings.filterwarnings(\"ignore\")\n",
    "\n",
    "# 1. 60-20-20 split\n",
    "X_temp, X_test, y_temp, y_test = train_test_split(X, y, test_size=0.2, stratify=y, random_state=42)\n",
    "X_train, X_val, y_train, y_val = train_test_split(X_temp, y_temp, test_size=0.25, stratify=y_temp, random_state=42)\n",
    "\n",
    "# 2. Scale\n",
    "scaler = StandardScaler()\n",
    "X_train_scaled = scaler.fit_transform(X_train)\n",
    "X_val_scaled = scaler.transform(X_val)\n",
    "X_test_scaled = scaler.transform(X_test)\n",
    "\n",
    "# 3. RFE with Multiple Base Models and Hyperparameter Tuning\n",
    "kfold = StratifiedKFold(n_splits=5, shuffle=True, random_state=42)\n",
    "\n",
    "model_configs = {\n",
    "    \"Random Forest\": {\n",
    "        \"model\": RandomForestClassifier(random_state=42),\n",
    "        \"params\": {\n",
    "            \"n_estimators\": [100, 200],\n",
    "            \"max_depth\": [5, 10, None],\n",
    "            \"min_samples_split\": [2, 5],\n",
    "            \"min_samples_leaf\": [1, 2],\n",
    "            \"class_weight\": ['balanced']\n",
    "        }\n",
    "    },\n",
    "    \"Logistic Regression\": {\n",
    "        \"model\": LogisticRegression(max_iter=1000, solver='liblinear'),\n",
    "        \"params\": {\n",
    "            \"C\": [0.01, 0.1, 1, 10],\n",
    "            \"penalty\": ['l1', 'l2'],\n",
    "            \"class_weight\": ['balanced']\n",
    "        }\n",
    "    },\n",
    "    \"SVM (Linear)\": {\n",
    "        \"model\": SVC(kernel='linear', probability=True),\n",
    "        \"params\": {\n",
    "            \"C\": [0.01, 0.1, 1, 10],\n",
    "            \"class_weight\": ['balanced']\n",
    "        }\n",
    "    },\n",
    "    \"XGBoost\": {\n",
    "        \"model\": XGBClassifier(use_label_encoder=False, eval_metric='logloss',scale_pos_weight=(sum(y_train==0)/sum(y_train==1)),error_score='raise'),\n",
    "        \"params\": {\n",
    "            \"n_estimators\": [100, 200],\n",
    "            \"max_depth\": [3, 5, 7]\n",
    "        }\n",
    "    }\n",
    "}\n",
    "\n",
    "rfe_scores = {}\n",
    "selected_features_per_model = {}\n",
    "best_models = {}\n",
    "\n",
    "for name, config in model_configs.items():\n",
    "    print(f\"\\n>>> Processing {name}\")\n",
    "    base_model = config[\"model\"]\n",
    "    param_grid = config[\"params\"]\n",
    "\n",
    "    rfe = RFE(estimator=base_model, n_features_to_select=727, step=0.1)\n",
    "    rfe.fit(X_train_scaled, y_train)\n",
    "    selected_features = X.columns[rfe.support_].tolist()\n",
    "    selected_features_per_model[name] = selected_features\n",
    "\n",
    "    X_train_rfe = rfe.transform(X_train_scaled)\n",
    "    grid = GridSearchCV(base_model, param_grid, cv=kfold, scoring='f1_macro', n_jobs=-1)\n",
    "    grid.fit(X_train_rfe, y_train)\n",
    "    best_models[name] = grid.best_estimator_\n",
    "    scores = cross_val_score(grid.best_estimator_, X_train_rfe, y_train, cv=kfold, scoring='f1_macro', n_jobs=-1)\n",
    "    rfe_scores[name] = scores\n",
    "    print(f\"{name} RFE + GridSearchCV: Mean F1 = {scores.mean():.4f} (+/- {scores.std():.4f})\")\n",
    "\n",
    "# Venn diagram for 3 model overlaps (choose 3 for simplicity)\n",
    "sets = list(selected_features_per_model.values())\n",
    "if len(sets) >= 3:\n",
    "    set1, set2, set3 = map(set, sets[:3])\n",
    "    venn3([set1, set2, set3], set_labels=list(selected_features_per_model.keys())[:3])\n",
    "    plt.title(\"Top 727 Gene Overlap (RFE)\")\n",
    "    plt.show()\n",
    "\n",
    "# 4. Automatically select the best model\n",
    "best_model_name = max(rfe_scores, key=lambda k: rfe_scores[k].mean())\n",
    "best_model = best_models[best_model_name]\n",
    "print(f\"\\n>>> Best Model: {best_model_name} with F1 = {rfe_scores[best_model_name].mean():.4f}\")\n",
    "\n",
    "# Use its features for downstream pipeline\n",
    "final_selected_features = selected_features_per_model[best_model_name]\n",
    "X_train_sel = X_train[final_selected_features].values\n",
    "X_val_sel = X_val[final_selected_features].values\n",
    "X_test_sel = X_test[final_selected_features].values\n",
    "\n",
    "# 5. Train best model\n",
    "best_model.fit(X_train_sel, y_train)\n",
    "\n",
    "# SHAP explanation\n",
    "explainer = shap.Explainer(best_model, X_train_sel)\n",
    "shap_values = explainer(X_test_sel)\n",
    "shap.summary_plot(shap_values, features=X_test_sel, feature_names=final_selected_features)\n",
    "\n",
    "# 6. Evaluate\n",
    "y_train_pred = best_model.predict(X_train_sel)\n",
    "y_val_pred = best_model.predict(X_val_sel)\n",
    "y_test_pred = best_model.predict(X_test_sel)\n",
    "\n",
    "y_val_prob = best_model.predict_proba(X_val_sel)[:, 1]\n",
    "y_test_prob = best_model.predict_proba(X_test_sel)[:, 1]\n",
    "\n",
    "print(\"\\n--- Accuracy Scores ---\")\n",
    "print(\"Train Accuracy:\", accuracy_score(y_train, y_train_pred))\n",
    "print(\"Validation Accuracy:\", accuracy_score(y_val, y_val_pred))\n",
    "print(\"Test Accuracy:\", accuracy_score(y_test, y_test_pred))\n",
    "print(\"Validation F1:\", f1_score(y_val, y_val_pred, average='macro'))\n",
    "print(\"Test F1:\", f1_score(y_test, y_test_pred, average='macro'))\n",
    "\n",
    "# Confusion matrix on test\n",
    "cm = confusion_matrix(y_test, y_test_pred)\n",
    "sns.heatmap(cm, annot=True, fmt='d', cmap='Blues')\n",
    "plt.title(\"Test Set Confusion Matrix\")\n",
    "plt.xlabel(\"Predicted\"); plt.ylabel(\"True\")\n",
    "plt.show()\n",
    "\n",
    "# ROC curve on test\n",
    "# fpr, tpr, _ = roc_curve(y_test, y_test_prob)\n",
    "# roc_auc = roc_auc_score(y_test, y_test_prob)\n",
    "# plt.plot(fpr, tpr, label=f\"AUC = {roc_auc:.4f}\")\n",
    "# plt.plot([0, 1], [0, 1], 'k--')\n",
    "# plt.title(\"Test ROC Curve\"); plt.xlabel(\"FPR\"); plt.ylabel(\"TPR\")\n",
    "# plt.legend(); plt.grid(True); plt.show()\n",
    "\n",
    "# PR curve on test\n",
    "# precision, recall, _ = precision_recall_curve(y_test, y_test_prob)\n",
    "# pr_auc = auc(recall, precision)\n",
    "# plt.plot(recall, precision, label=f\"PR AUC = {pr_auc:.4f}\")\n",
    "# plt.title(\"Test Precision-Recall Curve\")\n",
    "# plt.xlabel(\"Recall\"); plt.ylabel(\"Precision\")\n",
    "# plt.legend(); plt.grid(True); plt.show()\n",
    "\n",
    "# Learning curve\n",
    "train_sizes, train_scores, val_scores = learning_curve(\n",
    "    best_model, X_train_sel, y_train, cv=5, scoring='f1',\n",
    "    train_sizes=np.linspace(0.1, 1.0, 10), n_jobs=-1\n",
    ")\n",
    "plt.plot(train_sizes, train_scores.mean(axis=1), 'o-', label=\"Train\")\n",
    "plt.plot(train_sizes, val_scores.mean(axis=1), 'o-', label=\"CV\")\n",
    "plt.title(\"Learning Curve\")\n",
    "plt.xlabel(\"Training Size\"); plt.ylabel(\"f1_score\")\n",
    "plt.legend(); plt.grid(True); plt.show()\n",
    "\n",
    "# Save selected genes for each model\n",
    "pd.DataFrame.from_dict(selected_features_per_model, orient='index').transpose().to_csv(\"All_Results/selected_genes_per_model_All.csv\", index=False)\n"
   ]
  },
  {
   "cell_type": "code",
   "execution_count": 29,
   "id": "37d47ca5",
   "metadata": {},
   "outputs": [
    {
     "name": "stdout",
     "output_type": "stream",
     "text": [
      "\n",
      ">>> Processing Random Forest\n"
     ]
    },
    {
     "data": {
      "image/png": "[encoded data removed]",
      "text/plain": [
       "<Figure size 640x480 with 1 Axes>"
      ]
     },
     "metadata": {},
     "output_type": "display_data"
    },
    {
     "name": "stdout",
     "output_type": "stream",
     "text": [
      "\n",
      ">>> Processing Logistic Regression\n"
     ]
    },
    {
     "data": {
      "image/png": "[encoded data removed]",
      "text/plain": [
       "<Figure size 640x480 with 1 Axes>"
      ]
     },
     "metadata": {},
     "output_type": "display_data"
    },
    {
     "name": "stdout",
     "output_type": "stream",
     "text": [
      "\n",
      ">>> Processing SVM (Linear)\n"
     ]
    },
    {
     "data": {
      "image/png": "[encoded data removed]",
      "text/plain": [
       "<Figure size 640x480 with 1 Axes>"
      ]
     },
     "metadata": {},
     "output_type": "display_data"
    },
    {
     "name": "stdout",
     "output_type": "stream",
     "text": [
      "\n",
      ">>> Processing XGBoost\n"
     ]
    },
    {
     "data": {
      "image/png": "[encoded data removed]",
      "text/plain": [
       "<Figure size 640x480 with 1 Axes>"
      ]
     },
     "metadata": {},
     "output_type": "display_data"
    },
    {
     "data": {
      "image/png": "[encoded data removed]",
      "text/plain": [
       "<Figure size 1600x800 with 2 Axes>"
      ]
     },
     "metadata": {},
     "output_type": "display_data"
    },
    {
     "data": {
      "image/png": "[encoded data removed]",
      "text/plain": [
       "<Figure size 1000x500 with 1 Axes>"
      ]
     },
     "metadata": {},
     "output_type": "display_data"
    },
    {
     "data": {
      "text/plain": [
       "<Figure size 640x480 with 0 Axes>"
      ]
     },
     "metadata": {},
     "output_type": "display_data"
    },
    {
     "data": {
      "image/png": "[encoded data removed]",
      "text/plain": [
       "<Figure size 1150x660 with 1 Axes>"
      ]
     },
     "metadata": {},
     "output_type": "display_data"
    }
   ],
   "source": [
    "import numpy as np\n",
    "import pandas as pd\n",
    "import matplotlib.pyplot as plt\n",
    "import seaborn as sns\n",
    "from sklearn.model_selection import train_test_split, GridSearchCV, StratifiedKFold, learning_curve, cross_val_score\n",
    "from sklearn.ensemble import RandomForestClassifier\n",
    "from sklearn.linear_model import LogisticRegression\n",
    "from sklearn.svm import SVC\n",
    "from xgboost import XGBClassifier\n",
    "from sklearn.preprocessing import StandardScaler\n",
    "from sklearn.feature_selection import RFE\n",
    "from sklearn.metrics import (\n",
    "    accuracy_score, classification_report, confusion_matrix,\n",
    "    roc_curve, auc, precision_recall_curve, roc_auc_score, f1_score, recall_score, precision_score\n",
    ")\n",
    "from matplotlib_venn import venn3\n",
    "import shap\n",
    "\n",
    "# 1. 60-20-20 split\n",
    "X_temp, X_test, y_temp, y_test = train_test_split(X, y, test_size=0.2, stratify=y, random_state=42)\n",
    "X_train, X_val, y_train, y_val = train_test_split(X_temp, y_temp, test_size=0.25, stratify=y_temp, random_state=42)\n",
    "\n",
    "# 2. Scale\n",
    "scaler = StandardScaler()\n",
    "X_train_scaled = scaler.fit_transform(X_train)\n",
    "X_val_scaled = scaler.transform(X_val)\n",
    "X_test_scaled = scaler.transform(X_test)\n",
    "\n",
    "# 3. RFE with Multiple Base Models and Hyperparameter Tuning\n",
    "kfold = StratifiedKFold(n_splits=5, shuffle=True, random_state=42)\n",
    "\n",
    "model_configs = {\n",
    "    \"Random Forest\": {\n",
    "        \"model\": RandomForestClassifier(random_state=42),\n",
    "        \"params\": {\n",
    "            \"n_estimators\": [100, 200],\n",
    "            \"max_depth\": [5, 10, None],\n",
    "            \"min_samples_split\": [2, 5],\n",
    "            \"min_samples_leaf\": [1, 2],\n",
    "            \"class_weight\": ['balanced']\n",
    "        }\n",
    "    },\n",
    "    \"Logistic Regression\": {\n",
    "        \"model\": LogisticRegression(max_iter=1000, solver='liblinear'),\n",
    "        \"params\": {\n",
    "            \"C\": [0.01, 0.1, 1, 10],\n",
    "            \"penalty\": ['l1', 'l2'],\n",
    "            \"class_weight\": ['balanced']\n",
    "        }\n",
    "    },\n",
    "    \"SVM (Linear)\": {\n",
    "        \"model\": SVC(kernel='linear', probability=True),\n",
    "        \"params\": {\n",
    "            \"C\": [0.01, 0.1, 1, 10],\n",
    "            \"class_weight\": ['balanced']\n",
    "        }\n",
    "    },\n",
    "    \"XGBoost\": {\n",
    "        \"model\": XGBClassifier(use_label_encoder=False, eval_metric='logloss',\n",
    "                               scale_pos_weight=(sum(y_train==0)/sum(y_train==1)), error_score='raise'),\n",
    "        \"params\": {\n",
    "            \"n_estimators\": [100, 200],\n",
    "            \"max_depth\": [3, 5, 7]\n",
    "        }\n",
    "    }\n",
    "}\n",
    "\n",
    "evaluation_summary = []\n",
    "rfe_scores = {}\n",
    "selected_features_per_model = {}\n",
    "best_models = {}\n",
    "\n",
    "for name, config in model_configs.items():\n",
    "    print(f\"\\n>>> Processing {name}\")\n",
    "    base_model = config[\"model\"]\n",
    "    param_grid = config[\"params\"]\n",
    "\n",
    "    rfe = RFE(estimator=base_model, n_features_to_select=727, step=0.1)\n",
    "    rfe.fit(X_train_scaled, y_train)\n",
    "    selected_features = X.columns[rfe.support_].tolist()\n",
    "    selected_features_per_model[name] = selected_features\n",
    "\n",
    "    X_train_rfe = rfe.transform(X_train_scaled)\n",
    "    X_val_rfe = rfe.transform(X_val_scaled)\n",
    "    X_test_rfe = rfe.transform(X_test_scaled)\n",
    "\n",
    "    grid = GridSearchCV(base_model, param_grid, cv=kfold, scoring='f1_macro', n_jobs=-1)\n",
    "    grid.fit(X_train_rfe, y_train)\n",
    "    best_model = grid.best_estimator_\n",
    "    best_models[name] = best_model\n",
    "\n",
    "    y_train_pred = best_model.predict(X_train_rfe)\n",
    "    y_val_pred = best_model.predict(X_val_rfe)\n",
    "    y_test_pred = best_model.predict(X_test_rfe)\n",
    "\n",
    "    y_train_prob = best_model.predict_proba(X_train_rfe)[:, 1]\n",
    "    y_val_prob = best_model.predict_proba(X_val_rfe)[:, 1]\n",
    "    y_test_prob = best_model.predict_proba(X_test_rfe)[:, 1]\n",
    "\n",
    "    cv_scores = cross_val_score(best_model, X_train_rfe, y_train, cv=kfold, scoring='f1_macro')\n",
    "    rfe_scores[name] = cv_scores\n",
    "\n",
    "    evaluation_summary.append({\n",
    "        \"Model\": name,\n",
    "        \"Train Accuracy\": accuracy_score(y_train, y_train_pred),\n",
    "        \"Validation Accuracy\": accuracy_score(y_val, y_val_pred),\n",
    "        \"Test Accuracy\": accuracy_score(y_test, y_test_pred),\n",
    "        \"Train F1\": f1_score(y_train, y_train_pred, average='macro'),\n",
    "        \"Validation F1\": f1_score(y_val, y_val_pred, average='macro'),\n",
    "        \"Test F1\": f1_score(y_test, y_test_pred, average='macro'),\n",
    "        \"Train Precision\": precision_score(y_train, y_train_pred, average='macro'),\n",
    "        \"Validation Precision\": precision_score(y_val, y_val_pred, average='macro'),\n",
    "        \"Test Precision\": precision_score(y_test, y_test_pred, average='macro'),\n",
    "        \"Train Recall\": recall_score(y_train, y_train_pred, average='macro'),\n",
    "        \"Validation Recall\": recall_score(y_val, y_val_pred, average='macro'),\n",
    "        \"Test Recall\": recall_score(y_test, y_test_pred, average='macro'),\n",
    "        \"Train AUC\": roc_auc_score(y_train, y_train_prob),\n",
    "        \"Validation AUC\": roc_auc_score(y_val, y_val_prob),\n",
    "        \"Test AUC\": roc_auc_score(y_test, y_test_prob),\n",
    "        \"CV F1 Mean\": cv_scores.mean(),\n",
    "        \"CV F1 Std\": cv_scores.std()\n",
    "    })\n",
    "\n",
    "    train_sizes, train_scores, val_scores = learning_curve(\n",
    "        best_model, X_train_rfe, y_train, cv=kfold, scoring='f1_macro', train_sizes=np.linspace(0.1, 1.0, 5), n_jobs=-1\n",
    "    )\n",
    "    plt.figure()\n",
    "    plt.plot(train_sizes, train_scores.mean(axis=1), 'o-', label=\"Train\")\n",
    "    plt.plot(train_sizes, val_scores.mean(axis=1), 'o-', label=\"CV\")\n",
    "    plt.title(f\"Learning Curve: {name}\")\n",
    "    plt.xlabel(\"Training Size\")\n",
    "    plt.ylabel(\"F1 Macro\")\n",
    "    plt.legend()\n",
    "    plt.grid(True)\n",
    "    plt.tight_layout()\n",
    "    plt.show()\n",
    "\n",
    "# Summary\n",
    "summary_df = pd.DataFrame(evaluation_summary)\n",
    "summary_df.to_csv(\"model_evaluation_summary.csv\", index=False)\n",
    "\n",
    "# Heatmap\n",
    "plt.figure(figsize=(16, 8))\n",
    "sns.heatmap(summary_df.set_index(\"Model\").drop(columns=[\"CV F1 Mean\", \"CV F1 Std\"]), annot=True, fmt=\".2f\", cmap=\"coolwarm\")\n",
    "plt.title(\"Model Evaluation Metrics\")\n",
    "plt.tight_layout()\n",
    "plt.show()\n",
    "\n",
    "# CV Score Boxplot\n",
    "cv_df = pd.DataFrame(dict([(k, pd.Series(v)) for k, v in rfe_scores.items()]))\n",
    "cv_df.plot(kind='box', figsize=(10, 5), title='Cross-Validation F1 Score Distribution')\n",
    "plt.ylabel(\"F1 Macro\")\n",
    "plt.grid(True)\n",
    "plt.tight_layout()\n",
    "plt.show()\n",
    "\n",
    "# SHAP for best model\n",
    "best_model_name = summary_df.sort_values(\"Validation F1\", ascending=False).iloc[0][\"Model\"]\n",
    "final_model = best_models[best_model_name]\n",
    "final_features = selected_features_per_model[best_model_name]\n",
    "\n",
    "X_train_final = X_train[final_features].values\n",
    "X_test_final = X_test[final_features].values\n",
    "\n",
    "explainer = shap.Explainer(final_model, X_train_final)\n",
    "shap_values = explainer(X_test_final)\n",
    "shap.summary_plot(shap_values, features=X_test_final, feature_names=final_features)\n"
   ]
  },
  {
   "cell_type": "code",
   "execution_count": 31,
   "id": "c6b8c98f",
   "metadata": {},
   "outputs": [
    {
     "name": "stdout",
     "output_type": "stream",
     "text": [
      "Best C: 3792.690191\n",
      "Number of selected genes: 902\n",
      "Selected genes: ['SLC25A43', 'MIR3615', 'TUBB4B', 'RPL7', 'ACSF3', 'CLCA2', 'LEMD1', 'IRX2', 'SLC44A5', 'DHDH', 'MIR4775', 'SLC25A4', 'VASN', 'RPS15', 'ID1', 'SNORD45A', 'MIR4482', 'SCARNA16', 'ENO1', 'POLE2', 'CXCL10', 'AZIN1', 'VDAC1', 'MIR4653', 'RHOC', 'MIR4730', 'STK38', 'CTNNA1', 'RPL27', 'LINC02585', 'NRGN', 'C12orf54', 'KRT86', 'TRAV30', 'CLTB', 'BHLHE40', 'RPS21', 'FBLIM1', 'SNORD99', 'MUC5B.AS1', 'SOCS3', 'LINC00511', 'NOP10', 'ALKBH7', 'PLAAT2', 'MIR3677', 'CCT4', 'CYP2B7P', 'MYO7A', 'ATP6V1G1', 'SNORD14A', 'A2ML1', 'ANXA2R', 'VAMP8', 'BCYRN1', 'THYN1', 'MIR6755', 'HSPB1', 'SNORD58C', 'RHCG', 'ZNF544', 'MIR197', 'CXCL11', 'MIR4647', 'SNORA56', 'RN7SL1', 'HSPB2.C11orf52', 'PLPP2', 'NPW', 'AIMP1', 'MIR5193', 'HNRNPH1', 'RFNG', 'IGKV1D.42', 'CCL3L3', 'IGKJ1', 'TOP2A', 'CRIP2', 'MIR6851', 'RPL15', 'LAG3', 'MT1M', 'MT.ND3', 'ATP6V1F', 'TFF3', 'YPEL5', 'EFNB2', 'MT.ND2', 'NDUFA8', 'MT.ND1', 'DDX5', 'CEBPB', 'CD63', 'RNU7.1', 'TRIP6', 'RNU6.9', 'SPINT1', 'DHRS13', 'PGAM1', 'MIR223', 'FANCF', 'SNORD29', 'RNU6.1', 'PPP1CB', 'CMPK1', 'MIR639', 'HPRT1', 'MED10', 'KRT1', 'TRBJ1.2', 'RBP1', 'LINC00674', 'IFI16', 'MKRN1', 'STAT5B', 'MLLT1', 'TPT1', 'ZC3H3', 'GEMIN8P4', 'NARF', 'MIR4271', 'CD74', 'IGHG4', 'ELOVL3', 'IGHV3.30.2', 'RNF167', 'WASF2', 'TRAJ42', 'MIR3128', 'TJP3', 'PRUNE1', 'DLGAP5', 'COX6B1', 'IGKV1D.43', 'SNORD87', 'RGS2', 'IGLV3.25', 'IGHV1OR15.3', 'MIR3198.2', 'MIR675', 'RTL8A', 'FDCSP', 'MIR6772', 'MT.ATP8', 'IRF2BP2', 'RPS25', 'CHMP2A', 'MIR2277', 'COX4I2', 'IGHV1.18', 'S100P', 'SEM1', 'HOXC9', 'GOLM1', 'RPL12', 'SNORA10B', 'NEDD8', 'RPL19', 'UBQLN1', 'PPP1R7', 'CEBPD', 'PSMC3', 'HSPA1A', 'ISG15', 'KRT10', 'MIR29C', 'CTSZ', 'SGCB', 'TIMM50', 'RAC1', 'RNASET2', 'DYNLL2', 'MIR1184.1', 'MYDGF', 'PCAT6', 'HOXC10', 'STAU1', 'TMSB10', 'BAIAP2L2', 'RPL9', 'MT.CO1', 'KCTD5', 'PRR13', 'CLDN4', 'EIF2S2', 'ZNF837', 'SNORA68', 'SNU13', 'RHEBL1', 'GINS1', 'MIR3918', 'SSBP3', 'MIR6084', 'RPL37', 'RPS27', 'TIMM23', 'NEAT1', 'MT.CYB', 'IGLV1.41', 'RPL35', 'BPGM', 'PTMS', 'RPS4X', 'HSD17B10', 'RAB32', 'PCBP2', 'SRSF11', 'PLP2', 'MIR612', 'PGRMC1', 'SPRR1A', 'S100A12', 'IGLC4', 'LBX2.AS1', 'QARS1', 'ASB2', 'ERAL1', 'NCSTN', 'MIR4751', 'PPP6C', 'SH3BGRL3', 'TMEM208', 'PRDX6', 'RNA5S2', 'CA9', 'GATD1', 'PERP', 'RPS8', 'GTF2IRD1', 'GPRIN1', 'IGHV1.69D', 'HOXC6', 'CDR1', 'RPS9', 'S100A9', 'RPLP1', 'UBE2Q1', 'RPL18', 'RRAGA', 'RNA5S12', 'MRPL58', 'FTL', 'IGKV2.24', 'STX10', 'C1QB', 'SEC61G', 'TNKS1BP1', 'PPIAL4G', 'RPL5', 'PUDP', 'SLURP1', 'RPL38', 'IL32', 'PRR15L', 'AKR1B10', 'ZNF687', 'MIR4517', 'MIR1184.3', 'KLF6', 'RPL11', 'CCL18', 'ATP13A3', 'SFN', 'TSR2', 'TRMT112', 'GRPEL1', 'SLC1A5', 'ANP32B', 'NAB1', 'SNAPC5', 'TREM2', 'MIR6800', 'SNHG6', 'SPRR3', 'SNW1', 'RNY4', 'MIR6789', 'H2AX', 'JUNB', 'HLA.E', 'TSTD1', 'NFKB2', 'ARGLU1', 'CALML5', 'DHRS1', 'SPRR2A', 'HIGD2A', 'B3GNT7', 'SNTB2', 'ITGB4', 'IGLC3', 'IGHV1.24', 'ELK4', 'SUOX', 'MYH14', 'GALNT3', 'MDK', 'MIR4700', 'LNPEP', 'EPCAM', 'S100A8', 'TMEM54', 'GTF3C6', 'KRT6C', 'ZFP36L1', 'RASSF7', 'NCOA4', 'TRAIP', 'MT.ND4', 'DVL1', 'CHEK2', 'MIR7106', 'SNORA52', 'SPRR1B', 'SNHG19', 'NDUFB1', 'MRPS12', 'SNORD72', 'EN2', 'SIX1', 'IGHG2', 'PEA15', 'MIR1228', 'SNORA71A', 'CPSF1', 'VTRNA2.1', 'NDUFB4', 'WDR13', 'FASTK', 'TWIST1', 'MIR4444.2', 'MIR6732', 'NDUFS5', 'ERH', 'DOLK', 'SNORD42A', 'FGGY', 'TRBD1', 'SCNM1', 'MIR6516', 'DBF4', 'LGMN', 'MIR3124', 'DAP', 'C6orf132', 'CHST6', 'NUDT5', 'CEACAM6', 'RNA5S16', 'ANXA7', 'UTP4', 'SMS', 'MAL2', 'CHCHD7', 'RHOB', 'MT.ATP6', 'HNRNPAB', 'IGLV3.1', 'PSMD2', 'SNAPIN', 'CMC4', 'LTBR', 'ARHGDIB', 'HSP90AB1', 'ETS2', 'EIF2D', 'CASD1', 'SELENOF', 'ZYX', 'IGKV1D.17', 'RNA5S14', 'WWC1', 'TALDO1', 'IGLV2.23', 'MIR6748', 'MMP3', 'AMTN', 'TRIR', 'CSRP1', 'POMP', 'MT.ND4L', 'ARHGAP26', 'MTRNR2L10', 'ORMDL3', 'SNORD25', 'SNORD18C', 'MSMP', 'IFI44L', 'ZFP1', 'GBP1', 'ZFR2', 'SOX15', 'GDI2', 'FABP5', 'PGP', 'PDCD5', 'TCIM', 'AKR7A2', 'RHEB', 'MOGS', 'MT.TP', 'RPL13', 'SNORD21', 'S100A14', 'TXN2', 'LRRC24', 'NT5M', 'RPS19', 'SRP14', 'MIR1244.2', 'MIR224', 'BORCS7.ASMT', 'TMEM59', 'AGFG1', 'NUDC', 'LINC01023', 'RNU5E.1', 'TMSB15A', 'HMGN3', 'CYP2W1', 'SNORD58B', 'PCED1A', 'MIR939', 'POP7', 'NUDT14', 'MCM6', 'EPHA2', 'MYL12B', 'APEX1', 'EIF3D', 'SEC61A1', 'RRM2', 'S100A10', 'SUMO2', 'KRTDAP', 'MIR2861', 'YTHDC1', 'EIF4A2', 'CNBP', 'NFYB', 'MIR4315.1', 'AQP5', 'SYNGR2', 'CDC20', 'RPL39L', 'MT.RNR1', 'PCP2', 'IGKV1.32', 'XPO7', 'EFL1', 'RNA5S13', 'HMGB2', 'MIR631', 'SNORA48', 'C6orf62', 'IGKJ2', 'LRRC25', 'DYNLL1', 'OVOL2', 'DCAF15', 'RASL11A', 'MT.RNR2', 'GJB2', 'SNORA41', 'UQCRC1', 'ACTN4', 'RPL23', 'HSPA4', 'CERS4', 'HBD', 'NOP53', 'CKB', 'IGLV2.34', 'LAMA3', 'CXCL17', 'SLC7A5', 'SNORD34', 'JUND', 'DAD1', 'EHD2', 'HNRNPA1', 'RPL21', 'ORAI1', 'SNORD36A', 'KCNG1', 'SNORA4', 'CYP24A1', 'LPAR3', 'MB', 'MT.ND5', 'PTMA', 'POLR2C', 'SDS', 'SLC5A6', 'CYBA', 'RPN2', 'BCAT2', 'PRPF19', 'AIP', 'AMH', 'MIR196A1', 'TRAK1', 'RAB1B', 'P4HB', 'NFX1', 'SMG5', 'CCL8', 'USF1', 'GOLGA3', 'ALKAL1', 'IGHV3.13', 'NDUFS6', 'RAB11B', 'MIR647', 'AHSA1', 'HYOU1', 'EIF3K', 'CREG1', 'MIR4292', 'SRA1', 'PTPRA', 'RNF113A', 'COG4', 'IGKV1D.32', 'DCTN4', 'SEC61B', 'MIR4750', 'AJM1', 'IGHV2.26', 'CHEK1', 'SNHG8', 'SPINK1', 'HLA.DRA', 'KRT6A', 'CCNG2', 'RPL13AP5', 'MYL6', 'SCD', 'MIR25', 'PPA1', 'RPS2', 'GMFB', 'DSC3', 'NDUFB10', 'HSD17B8', 'SNTN', 'ATN1', 'MIR5006', 'RNA5S17', 'UBA52', 'RNA5S15', 'MIR671', 'MIR429', 'IGHV1.46', 'MUC13', 'SNORD16', 'SNORA71E', 'COX6A1', 'UBA1', 'PSMA7', 'MIR4720', 'SDCBP2', 'SPAG5', 'RPL6', 'SNORD4A', 'RNF181', 'ZBED1', 'RNA5S10', 'IGKV1D.8', 'RAC3', 'NUCB1', 'CT83', 'LINC00566', 'MT.ND6', 'RPLP2', 'LAPTM5', 'CLSTN1', 'RNA5S6', 'RFWD3', 'SNORD110', 'ZFP36', 'TAGLN2', 'PEBP1', 'TNFRSF12A', 'MT.CO3', 'CRIM1.DT', 'STX4', 'SOD1', 'MIR3685', 'SLC25A5', 'ELL2', 'DBI', 'SFRP2', 'SLC38A2', 'AIM2', 'TARDBP', 'PSMD4', 'PPP4R3B', 'RPL36AL', 'RNA5S9', 'DYNC1LI1', 'CDIP1', 'SLC1A4', 'GPX2', 'SCCPDH', 'SNRPB', 'XRCC6', 'IL12RB1', 'ZDHHC5', 'MIR6502', 'TCF19', 'COX8A', 'SAA2.SAA4', 'PPIAL4C', 'CXCL2', 'IRF1', 'MIR1260B', 'TRAF2', 'CORO1C', 'HNRNPA3P1', 'TTLL12', 'RNA5S3', 'CNIH2', 'UBC', 'EIF4EBP1', 'RPS24', 'AURKAIP1', 'MIR6840', 'RPL10A', 'PNLDC1', 'HOXC13', 'TMEM248', 'IGHV1OR15.1', 'TUBB', 'CHMP4B', 'SNORD116.14', 'APP', 'SAMHD1', 'SNORD65', 'EZH2', 'ADRM1', 'ACTG1', 'GOT1', 'TRAPPC1', 'SNORA17B', 'RAD51', 'PMVK', 'GRP', 'TERF2IP', 'AP3D1', 'TOP1', 'FAM199X', 'ATP5MC1', 'CRNN', 'RNASE1', 'TMEM171', 'SNORD54', 'MIR4687', 'WDR76', 'ARL6IP1', 'MIR6835', 'XBP1', 'MIR1249', 'CREB3', 'DOK2', 'IGLV2.14', 'SHISA5', 'TBX18', 'RPS12', 'ZNF83', 'MTRNR2L1', 'MFGE8', 'KRT16', 'ACTB', 'HAGLROS', 'SNORA73A', 'HOXC13.AS', 'MRPL24', 'PAK1IP1', 'MIR4664', 'EPS8L1', 'GLTP', 'RPL32', 'CTSB', 'YWHAB', 'TRBC1', 'KIAA2013', 'MIR6820', 'CALR', 'FOS', 'ROMO1', 'MIR650', 'MIR4707', 'SIRPA', 'PSMD3', 'HNRNPA2B1', 'WDR1', 'ELOB', 'MIR3917', 'ASF1B', 'ADAP1', 'TXN', 'RAB11FIP3', 'IGKV1D.37', 'INTS5', 'SNORD50B', 'LGALS3', 'HSPA1B', 'MRPS21', 'BCAS2', 'YWHAQ', 'DYNLT1', 'ZIC5', 'MIR5090', 'IGKV1.37', 'NDUFAF3', 'UPK2', 'MT.CO2', 'TMEM109', 'MAPK14', 'DSG3', 'BST2', 'PRDX5', 'MIR4426', 'MARCHF2', 'HADHA', 'SLC2A1', 'EPHX1', 'HNRNPCL1', 'RNU2.1', 'KRT13', 'C1orf53', 'SPRR2D', 'HOXC11', 'PCIF1', 'VDAC3', 'SLC34A2', 'MIR6848', 'DPM3', 'CLK3', 'NRTN', 'RBPMS2', 'RARS1', 'TMPRSS11D', 'HPS3', 'RPL3', 'STAT1', 'GTPBP6', 'TRIM54', 'SUMO1', 'HNRNPK', 'C2CD4D.AS1', 'ZIC2', 'AEBP1', 'RAB4A', 'RNA5S1', 'IGLV3.21', 'GSN', 'CXCL1', 'MIR3682', 'IFITM3', 'EDF1', 'API5', 'CDH5', 'RPS18', 'KLK1', 'ANXA2P3', 'MIR1184.2', 'ADAM15', 'SNORD45B', 'MRPL3', 'TONSL', 'COX6C', 'UBA2', 'PSMD8', 'ARF1', 'THAP7.AS1', 'EIF3G', 'SNORD14B', 'IGHV3OR16.8', 'IFITM2', 'RPL28', 'CAMSAP3', 'PPP1R15A', 'TOP2B', 'SAT2', 'IGLV6.57', 'DUSP1', 'SNORD52', 'SNORA50C', 'TMPRSS11A', 'RPL13A', 'BNIP3', 'SNORD102', 'PPIF', 'IGKV6D.41', 'MT.TV', 'H2AC6', 'KRT6B', 'USP39', 'PRDX2', 'S100A11', 'SERTAD2', 'CAP1', 'IGHV7.56', 'IGLC1', 'B2M', 'IER2', 'GIMAP1.GIMAP5', 'MAGEF1', 'NETO2', 'NUP210', 'KRT81', 'MAFB', 'TOLLIP', 'QRICH1', 'JUN', 'IGKV6D.21', 'NDUFB6', 'MUC5B', 'MIR8072', 'PRKAA1', 'CGN', 'MIR762', 'GNAS', 'MIR147B', 'MIDN', 'MIRLET7B', 'PPIL1', 'MAGED2', 'CAPRIN1', 'MIR7.1', 'SLPI', 'MAPK8IP2', 'LSR', 'MARS1', 'SLC25A6', 'SNORD84', 'LY6D', 'BTG2', 'MIR3176', 'MIR4635', 'ZNFX1', 'SF3A2', 'CHMP1A', 'UBB', 'SNORD116.13', 'LMNB1', 'SF3B3', 'CALB2', 'RPS16', 'RPL10', 'SNORD123', 'VMP1', 'MIR6773', 'DUSP9', 'ZNF562', 'TSPAN1', 'HSPD1', 'SNORD4B', 'LYPLA2', 'ANXA1', 'GNL2', 'COX7C', 'IGHV4.39', 'VCP', 'RNVU1.2A', 'IGHJ3P', 'RPL8', 'USP18', 'RPS20', 'MYO1D', 'VMA21', 'RNA5S7', 'MIR1292', 'HMGB1', 'MIR3671', 'MAX', 'PFDN1', 'TOMM22', 'RNY3', 'EI24', 'MIR6878', 'SNORD114.10', 'ERP29', 'TOMM20', 'FLOT1', 'SBSN', 'PSENEN', 'MIR4800', 'SEC16A', 'SERTAD3', 'GALNT12', 'C1QL1', 'NIT2', 'MPC1', 'MIR6837', 'MYO5C', 'CTXN1', 'RPL35A', 'MT.TT', 'IGLV5.45']\n",
      "Selected genes saved to 'selected_genes_lasso.csv'\n",
      "\n",
      "Model Performance on Test Set:\n",
      "Accuracy: 1.000\n",
      "AUC-ROC: 1.000\n",
      "Precision: 1.000\n",
      "Recall: 1.000\n",
      "F1-Score: 1.000\n"
     ]
    }
   ],
   "source": [
    "import numpy as np\n",
    "import pandas as pd\n",
    "from sklearn.datasets import make_classification\n",
    "from sklearn.preprocessing import StandardScaler\n",
    "from sklearn.linear_model import LogisticRegression\n",
    "from sklearn.model_selection import train_test_split, GridSearchCV\n",
    "from sklearn.metrics import accuracy_score, roc_auc_score, precision_score, recall_score, f1_score\n",
    "import warnings\n",
    "\n",
    "# Suppress warnings for cleaner output\n",
    "warnings.filterwarnings('ignore', category=UserWarning)\n",
    "\n",
    "X_train, X_test, y_train, y_test = train_test_split(X, y, test_size=0.3, stratify=y, random_state=42)\n",
    "scaler = StandardScaler()\n",
    "X_train_scaled = scaler.fit_transform(X_train)\n",
    "X_test_scaled = scaler.transform(X_test)\n",
    "\n",
    "# Step 4: Logistic LASSO with hyperparameter tuning\n",
    "lasso = LogisticRegression(penalty='l1', solver='liblinear', max_iter=1000, random_state=42,class_weight=\"balanced\")\n",
    "param_grid = {'C': np.logspace(-4, 4, 20)}  # Tune C (inverse of lambda)\n",
    "grid_search = GridSearchCV(lasso, param_grid, cv=5, scoring='f1', n_jobs=-1)\n",
    "grid_search.fit(X_train, y_train)\n",
    "\n",
    "# Best model and parameters\n",
    "best_model = grid_search.best_estimator_\n",
    "best_C = grid_search.best_params_['C']\n",
    "print(f\"Best C: {best_C:.6f}\")\n",
    "\n",
    "# Step 5: Select genes (non-zero coefficients)\n",
    "coef = best_model.coef_[0]\n",
    "selected_genes = X_train.columns[coef != 0].tolist()\n",
    "selected_coefs = coef[coef != 0]\n",
    "print(f\"Number of selected genes: {len(selected_genes)}\")\n",
    "print(f\"Selected genes: {selected_genes}\")\n",
    "\n",
    "# Step 6: Save selected genes and their coefficients to CSV\n",
    "genes_importance = pd.DataFrame({\n",
    "    'Gene': selected_genes,\n",
    "    'Coefficient': selected_coefs,\n",
    "    'Abs_Coefficient': np.abs(selected_coefs)  # For ranking by importance\n",
    "})\n",
    "genes_importance = genes_importance.sort_values(by='Abs_Coefficient', ascending=False)\n",
    "genes_importance.to_csv('All_Results/selected_genes_lasso_All.csv', index=False)\n",
    "print(\"Selected genes saved to 'selected_genes_lasso.csv'\")\n",
    "\n",
    "# Step 7: Build model on selected genes\n",
    "if len(selected_genes) > 0:\n",
    "    # Subset data to selected genes\n",
    "    X_train_selected = X_train[selected_genes]\n",
    "    X_test_selected = X_test[selected_genes]\n",
    "\n",
    "    # Train logistic regression (no L1 penalty) on selected genes\n",
    "    model = LogisticRegression(penalty=None, solver='lbfgs', max_iter=1000, random_state=42,class_weight=\"balanced\")\n",
    "    model.fit(X_train_selected, y_train)\n",
    "\n",
    "    # Step 8: Evaluate model\n",
    "    y_pred = model.predict(X_test_selected)\n",
    "    y_pred_proba = model.predict_proba(X_test_selected)[:, 1]\n",
    "\n",
    "    # Metrics\n",
    "    accuracy = accuracy_score(y_test, y_pred)\n",
    "    auc = roc_auc_score(y_test, y_pred_proba)\n",
    "    precision = precision_score(y_test, y_pred)\n",
    "    recall = recall_score(y_test, y_pred)\n",
    "    f1 = f1_score(y_test, y_pred)\n",
    "\n",
    "    print(\"\\nModel Performance on Test Set:\")\n",
    "    print(f\"Accuracy: {accuracy:.3f}\")\n",
    "    print(f\"AUC-ROC: {auc:.3f}\")\n",
    "    print(f\"Precision: {precision:.3f}\")\n",
    "    print(f\"Recall: {recall:.3f}\")\n",
    "    print(f\"F1-Score: {f1:.3f}\")\n",
    "else:\n",
    "    print(\"No genes selected. Cannot build model.\")"
   ]
  },
  {
   "cell_type": "code",
   "execution_count": 32,
   "id": "cc8b4c00",
   "metadata": {},
   "outputs": [
    {
     "name": "stdout",
     "output_type": "stream",
     "text": [
      "Best C: 0.126486\n",
      "Cross-validation AUC-ROC for LASSO: 0.998\n",
      "Number of selected genes with non-zero coefficients: 42\n",
      "Selected genes: ['KRT17', 'MMP1', 'MUC5B.AS1', 'MT.ND3', 'MT.ND2', 'MT.ND1', 'SNORD29', 'MT.ATP8', 'IGHV1.18', 'TMSB4X', 'TMSB10', 'MT.CO1', 'GAPDH', 'MT.CYB', 'PSAP', 'FTL', 'IGKC', 'TREM2', 'MT.ND4', 'MT.ATP6', 'S100A6', 'MT.ND4L', 'SNORD58B', 'MT.RNR1', 'SNORA48', 'MT.RNR2', 'SNORD36A', 'MT.ND5', 'MT.ND6', 'MT.CO3', 'AIM2', 'ACTG1', 'RPS12', 'ACTB', 'SNORA73A', 'MT.CO2', 'MIR4426', 'RPL3', 'RPS18', 'MT.TV', 'S100A11', 'IGLC1']\n",
      "Selected genes with non-zero coefficients saved to 'selected_genes.csv'\n",
      "\n",
      "Cross-Validation Performance (5-fold) on Selected Genes:\n",
      "Accuracy: 1.000\n",
      "AUC-ROC: 1.000\n",
      "Precision: 1.000\n",
      "Recall: 1.000\n",
      "F1-Score: 1.000\n",
      "\n",
      "Test Set Performance:\n",
      "Accuracy: 1.000\n",
      "AUC-ROC: 1.000\n",
      "Precision: 1.000\n",
      "Recall: 1.000\n",
      "F1-Score: 1.000\n"
     ]
    }
   ],
   "source": [
    "from sklearn.model_selection import cross_val_score\n",
    "lasso = LogisticRegression(penalty='l1', solver='liblinear', max_iter=1000, random_state=42)\n",
    "param_grid = {'C': np.logspace(-4, 4, 50)}  # Tune C (inverse of regularization strength lambda)\n",
    "grid_search = GridSearchCV(lasso, param_grid, cv=5, scoring='f1', n_jobs=-1)\n",
    "grid_search.fit(X_train, y_train)\n",
    "\n",
    "# Best model and parameters\n",
    "best_model = grid_search.best_estimator_\n",
    "best_C = grid_search.best_params_['C']\n",
    "best_cv_score = grid_search.best_score_\n",
    "print(f\"Best C: {best_C:.6f}\")\n",
    "print(f\"Cross-validation AUC-ROC for LASSO: {best_cv_score:.3f}\")\n",
    "\n",
    "# Step 5: Extract all genes with non-zero coefficients\n",
    "coef = best_model.coef_[0]\n",
    "selected_genes = X_train.columns[coef != 0].tolist()\n",
    "selected_coefs = coef[coef != 0]\n",
    "print(f\"Number of selected genes with non-zero coefficients: {len(selected_genes)}\")\n",
    "print(f\"Selected genes: {selected_genes}\")\n",
    "\n",
    "# Step 6: Save selected genes and their coefficients to CSV, ranked by importance\n",
    "genes_importance = pd.DataFrame({\n",
    "    'Gene': selected_genes,\n",
    "    'Coefficient': selected_coefs,\n",
    "    'Abs_Coefficient': np.abs(selected_coefs)\n",
    "})\n",
    "genes_importance = genes_importance.sort_values(by='Abs_Coefficient', ascending=False)\n",
    "genes_importance.to_csv('All_Results/selected_genes_all_nonzero_LASSO_ALL.csv', index=False)\n",
    "print(\"Selected genes with non-zero coefficients saved to 'selected_genes.csv'\")\n",
    "\n",
    "# Step 7: Build and evaluate model on selected genes\n",
    "if len(selected_genes) > 0:\n",
    "    # Subset data to selected genes\n",
    "    X_train_selected = X_train[selected_genes]\n",
    "    X_test_selected = X_test[selected_genes]\n",
    "\n",
    "    # Train logistic regression (no regularization) on selected genes\n",
    "    model = LogisticRegression(penalty=None, solver='lbfgs', max_iter=1000, random_state=42)\n",
    "    \n",
    "    # Evaluate model using 5-fold cross-validation on training data\n",
    "    cv_accuracy = cross_val_score(model, X_train_selected, y_train, cv=5, scoring='accuracy').mean()\n",
    "    cv_auc = cross_val_score(model, X_train_selected, y_train, cv=5, scoring='roc_auc').mean()\n",
    "    cv_precision = cross_val_score(model, X_train_selected, y_train, cv=5, scoring='precision').mean()\n",
    "    cv_recall = cross_val_score(model, X_train_selected, y_train, cv=5, scoring='recall').mean()\n",
    "    cv_f1 = cross_val_score(model, X_train_selected, y_train, cv=5, scoring='f1').mean()\n",
    "\n",
    "    print(\"\\nCross-Validation Performance (5-fold) on Selected Genes:\")\n",
    "    print(f\"Accuracy: {cv_accuracy:.3f}\")\n",
    "    print(f\"AUC-ROC: {cv_auc:.3f}\")\n",
    "    print(f\"Precision: {cv_precision:.3f}\")\n",
    "    print(f\"Recall: {cv_recall:.3f}\")\n",
    "    print(f\"F1-Score: {cv_f1:.3f}\")\n",
    "\n",
    "    # Fit model on full training data and evaluate on test set\n",
    "    model.fit(X_train_selected, y_train)\n",
    "    y_pred = model.predict(X_test_selected)\n",
    "    y_pred_proba = model.predict_proba(X_test_selected)[:, 1]\n",
    "\n",
    "    # Test set metrics\n",
    "    test_accuracy = accuracy_score(y_test, y_pred)\n",
    "    test_auc = roc_auc_score(y_test, y_pred_proba)\n",
    "    test_precision = precision_score(y_test, y_pred)\n",
    "    test_recall = recall_score(y_test, y_pred)\n",
    "    test_f1 = f1_score(y_test, y_pred)\n",
    "\n",
    "    print(\"\\nTest Set Performance:\")\n",
    "    print(f\"Accuracy: {test_accuracy:.3f}\")\n",
    "    print(f\"AUC-ROC: {test_auc:.3f}\")\n",
    "    print(f\"Precision: {test_precision:.3f}\")\n",
    "    print(f\"Recall: {test_recall:.3f}\")\n",
    "    print(f\"F1-Score: {test_f1:.3f}\")\n",
    "else:\n",
    "    print(\"No genes with non-zero coefficients selected. Cannot build model.\")"
   ]
  },
  {
   "cell_type": "code",
   "execution_count": 33,
   "id": "47d2c63c",
   "metadata": {},
   "outputs": [
    {
     "name": "stdout",
     "output_type": "stream",
     "text": [
      "Best Random Forest Parameters: {'max_depth': 5, 'min_samples_leaf': 1, 'min_samples_split': 2, 'n_estimators': 100}\n",
      "Number of selected important genes: 164\n",
      "Top important genes saved to 'selected_genes_random_forest.csv'\n",
      "\n",
      "Cross-Validation Performance (5-fold) on Selected Genes (Random Forest):\n",
      "Accuracy: 0.996\n",
      "AUC-ROC: 1.000\n",
      "Precision: 0.995\n",
      "Recall: 1.000\n",
      "F1-Score: 0.998\n",
      "\n",
      "Test Set Performance (Random Forest):\n",
      "Accuracy: 1.000\n",
      "AUC-ROC: 1.000\n",
      "Precision: 1.000\n",
      "Recall: 1.000\n",
      "F1-Score: 1.000\n"
     ]
    }
   ],
   "source": [
    "from sklearn.ensemble import RandomForestClassifier\n",
    "from sklearn.model_selection import cross_val_score, GridSearchCV\n",
    "from sklearn.metrics import accuracy_score, roc_auc_score, precision_score, recall_score, f1_score\n",
    "import numpy as np\n",
    "import pandas as pd\n",
    "from sklearn.datasets import make_classification\n",
    "from sklearn.preprocessing import StandardScaler\n",
    "from sklearn.linear_model import LogisticRegression\n",
    "from sklearn.model_selection import train_test_split, GridSearchCV\n",
    "from sklearn.metrics import accuracy_score, roc_auc_score, precision_score, recall_score, f1_score\n",
    "import warnings\n",
    "\n",
    "X_train, X_test, y_train, y_test = train_test_split(X, y, test_size=0.3, stratify=y, random_state=42)\n",
    "scaler = StandardScaler()\n",
    "X_train_scaled = scaler.fit_transform(X_train)\n",
    "X_test_scaled = scaler.transform(X_test)\n",
    "\n",
    "# Step 1: Train Random Forest with hyperparameter tuning\n",
    "rf = RandomForestClassifier(random_state=42, n_jobs=-1)\n",
    "param_grid_rf = {\n",
    "    'n_estimators': [100, 200],\n",
    "    'max_depth': [5, 10, None],\n",
    "    'min_samples_split': [2, 5],\n",
    "    'min_samples_leaf': [1, 2]\n",
    "}\n",
    "\n",
    "grid_search_rf = GridSearchCV(rf, param_grid_rf, cv=5, scoring='f1', n_jobs=-1)\n",
    "grid_search_rf.fit(X_train, y_train)\n",
    "\n",
    "# Best model\n",
    "best_rf = grid_search_rf.best_estimator_\n",
    "print(\"Best Random Forest Parameters:\", grid_search_rf.best_params_)\n",
    "\n",
    "# Step 2: Extract top important genes\n",
    "importances = best_rf.feature_importances_\n",
    "selected_rf_genes_df = pd.DataFrame({\n",
    "    'Gene': X_train.columns,\n",
    "    'Importance': importances\n",
    "})\n",
    "selected_rf_genes_df = selected_rf_genes_df[selected_rf_genes_df['Importance'] > 0]\n",
    "selected_rf_genes_df['Rank'] = selected_rf_genes_df['Importance'].rank(ascending=False)\n",
    "selected_rf_genes_df = selected_rf_genes_df.sort_values(by='Importance', ascending=False)\n",
    "\n",
    "# Save all important genes to CSV\n",
    "selected_rf_genes_df.to_csv('All_Results/selected_genes_random_forest_All.csv', index=False)\n",
    "print(f\"Number of selected important genes: {selected_rf_genes_df.shape[0]}\")\n",
    "print(\"Top important genes saved to 'selected_genes_random_forest.csv'\")\n",
    "\n",
    "# Step 3: Build model using selected genes only\n",
    "selected_rf_genes = selected_rf_genes_df['Gene'].tolist()\n",
    "X_train_rf_selected = X_train[selected_rf_genes]\n",
    "X_test_rf_selected = X_test[selected_rf_genes]\n",
    "\n",
    "model_rf_selected = RandomForestClassifier(n_estimators=100, random_state=42, n_jobs=-1)\n",
    "\n",
    "# Cross-validation on training set\n",
    "cv_accuracy_rf = cross_val_score(model_rf_selected, X_train_rf_selected, y_train, cv=5, scoring='accuracy').mean()\n",
    "cv_auc_rf = cross_val_score(model_rf_selected, X_train_rf_selected, y_train, cv=5, scoring='roc_auc').mean()\n",
    "cv_precision_rf = cross_val_score(model_rf_selected, X_train_rf_selected, y_train, cv=5, scoring='precision').mean()\n",
    "cv_recall_rf = cross_val_score(model_rf_selected, X_train_rf_selected, y_train, cv=5, scoring='recall').mean()\n",
    "cv_f1_rf = cross_val_score(model_rf_selected, X_train_rf_selected, y_train, cv=5, scoring='f1').mean()\n",
    "\n",
    "print(\"\\nCross-Validation Performance (5-fold) on Selected Genes (Random Forest):\")\n",
    "print(f\"Accuracy: {cv_accuracy_rf:.3f}\")\n",
    "print(f\"AUC-ROC: {cv_auc_rf:.3f}\")\n",
    "print(f\"Precision: {cv_precision_rf:.3f}\")\n",
    "print(f\"Recall: {cv_recall_rf:.3f}\")\n",
    "print(f\"F1-Score: {cv_f1_rf:.3f}\")\n",
    "\n",
    "# Train on full training data and evaluate on test set\n",
    "model_rf_selected.fit(X_train_rf_selected, y_train)\n",
    "y_pred_rf = model_rf_selected.predict(X_test_rf_selected)\n",
    "y_pred_proba_rf = model_rf_selected.predict_proba(X_test_rf_selected)[:, 1]\n",
    "\n",
    "# Test set performance\n",
    "test_accuracy_rf = accuracy_score(y_test, y_pred_rf)\n",
    "test_auc_rf = roc_auc_score(y_test, y_pred_proba_rf)\n",
    "test_precision_rf = precision_score(y_test, y_pred_rf)\n",
    "test_recall_rf = recall_score(y_test, y_pred_rf)\n",
    "test_f1_rf = f1_score(y_test, y_pred_rf)\n",
    "\n",
    "print(\"\\nTest Set Performance (Random Forest):\")\n",
    "print(f\"Accuracy: {test_accuracy_rf:.3f}\")\n",
    "print(f\"AUC-ROC: {test_auc_rf:.3f}\")\n",
    "print(f\"Precision: {test_precision_rf:.3f}\")\n",
    "print(f\"Recall: {test_recall_rf:.3f}\")\n",
    "print(f\"F1-Score: {test_f1_rf:.3f}\")\n"
   ]
  },
  {
   "cell_type": "code",
   "execution_count": null,
   "id": "288c84a3",
   "metadata": {},
   "outputs": [],
   "source": []
  }
 ],
 "metadata": {
  "kernelspec": {
   "display_name": "base",
   "language": "python",
   "name": "python3"
  },
  "language_info": {
   "codemirror_mode": {
    "name": "ipython",
    "version": 3
   },
   "file_extension": ".py",
   "mimetype": "text/x-python",
   "name": "python",
   "nbconvert_exporter": "python",
   "pygments_lexer": "ipython3",
   "version": "3.12.4"
  }
 },
 "nbformat": 4,
 "nbformat_minor": 5
}
