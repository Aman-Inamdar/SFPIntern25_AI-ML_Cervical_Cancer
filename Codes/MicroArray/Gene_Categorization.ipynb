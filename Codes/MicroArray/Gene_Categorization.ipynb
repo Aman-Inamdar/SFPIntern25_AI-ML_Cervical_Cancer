{
 "cells": [
  {
   "cell_type": "code",
   "execution_count": 1,
   "id": "b7588aab",
   "metadata": {},
   "outputs": [],
   "source": [
    "import pandas as pd\n"
   ]
  },
  {
   "cell_type": "code",
   "execution_count": 7,
   "id": "b6aa05b2",
   "metadata": {},
   "outputs": [],
   "source": [
    "df=pd.read_csv(\"Merged_Datasets_Combat.csv\")\n"
   ]
  },
  {
   "cell_type": "code",
   "execution_count": 10,
   "id": "590d83f6",
   "metadata": {},
   "outputs": [],
   "source": [
    "l1=list(df.columns)\n",
    "l1[0]=\"ID\""
   ]
  },
  {
   "cell_type": "code",
   "execution_count": 18,
   "id": "6ec90611",
   "metadata": {},
   "outputs": [],
   "source": [
    "df.columns=l1\n",
    "df=df.set_index(\"ID\")"
   ]
  },
  {
   "cell_type": "code",
   "execution_count": 16,
   "id": "a43f31da",
   "metadata": {},
   "outputs": [],
   "source": [
    "df_1=pd.read_csv(\"All_GENES_ID.csv\",index_col=\"ID\")"
   ]
  },
  {
   "cell_type": "code",
   "execution_count": 19,
   "id": "829f22f0",
   "metadata": {},
   "outputs": [],
   "source": [
    "Final_df=pd.merge(df,df_1,left_index=True,right_index=True)"
   ]
  },
  {
   "cell_type": "code",
   "execution_count": null,
   "id": "b3e1e254",
   "metadata": {},
   "outputs": [],
   "source": [
    "Final_df=Final_df[[\"Gene Symbol\"]]\n"
   ]
  },
  {
   "cell_type": "code",
   "execution_count": 25,
   "id": "347cfe5b",
   "metadata": {},
   "outputs": [],
   "source": [
    "Final_df.to_csv(\"Final_Genes_with_id.csv\")"
   ]
  },
  {
   "cell_type": "code",
   "execution_count": 29,
   "id": "f601b829",
   "metadata": {},
   "outputs": [
    {
     "data": {
      "text/plain": [
       "9528"
      ]
     },
     "execution_count": 29,
     "metadata": {},
     "output_type": "execute_result"
    }
   ],
   "source": [
    "\n",
    "l1_Genes=list(Final_df[\"Gene Symbol\"])\n",
    "len(l1_Genes)"
   ]
  },
  {
   "cell_type": "code",
   "execution_count": 47,
   "id": "1c07c03c",
   "metadata": {},
   "outputs": [],
   "source": [
    "l2=Final_df[\"Gene Symbol\"].dropna()"
   ]
  },
  {
   "cell_type": "code",
   "execution_count": 37,
   "id": "dc00da2e",
   "metadata": {},
   "outputs": [],
   "source": [
    "l2=l2.tolist()"
   ]
  },
  {
   "cell_type": "code",
   "execution_count": 39,
   "id": "2158e825",
   "metadata": {},
   "outputs": [
    {
     "data": {
      "text/plain": [
       "9391"
      ]
     },
     "execution_count": 39,
     "metadata": {},
     "output_type": "execute_result"
    }
   ],
   "source": [
    "len(l2)"
   ]
  },
  {
   "cell_type": "code",
   "execution_count": 48,
   "id": "9955a6dc",
   "metadata": {},
   "outputs": [],
   "source": [
    "l2.to_csv(\"gene_1.csv\")"
   ]
  },
  {
   "cell_type": "code",
   "execution_count": null,
   "id": "cd35e148",
   "metadata": {},
   "outputs": [],
   "source": []
  }
 ],
 "metadata": {
  "kernelspec": {
   "display_name": "base",
   "language": "python",
   "name": "python3"
  },
  "language_info": {
   "codemirror_mode": {
    "name": "ipython",
    "version": 3
   },
   "file_extension": ".py",
   "mimetype": "text/x-python",
   "name": "python",
   "nbconvert_exporter": "python",
   "pygments_lexer": "ipython3",
   "version": "3.12.4"
  }
 },
 "nbformat": 4,
 "nbformat_minor": 5
}
